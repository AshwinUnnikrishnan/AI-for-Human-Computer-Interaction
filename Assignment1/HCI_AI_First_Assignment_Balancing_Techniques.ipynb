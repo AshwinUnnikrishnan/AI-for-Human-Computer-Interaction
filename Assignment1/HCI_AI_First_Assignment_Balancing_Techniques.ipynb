{
  "nbformat": 4,
  "nbformat_minor": 0,
  "metadata": {
    "colab": {
      "provenance": [],
      "collapsed_sections": [
        "je0Fwp2F2uVF",
        "x5d3FHA0259Z",
        "dZ5HYHODlG-R",
        "FFy8xwHVlG-r",
        "9AlokmX26Ngc",
        "GmkMov5DRTf0",
        "r7vjs4WZFYGi",
        "yj92gborGGeR",
        "DfNf5VmZJh2k",
        "HieV0OUv5Moi",
        "hRIQsU5uRejG",
        "uVkkvJQNTcM-",
        "4Yx6-3KlWg6z",
        "gVJTDcDYbpdI",
        "7crJAEiJirto",
        "6495Ch-msPem",
        "lm5FpAxyugCC",
        "cAikPdfyyAua",
        "XNPpG9WU03-U",
        "rCXzv9K16WIl",
        "8mi8xNjeRiHt"
      ]
    },
    "kernelspec": {
      "name": "python3",
      "display_name": "Python 3"
    },
    "language_info": {
      "name": "python"
    }
  },
  "cells": [
    {
      "cell_type": "markdown",
      "metadata": {
        "id": "view-in-github"
      },
      "source": [
        "<a href=\"https://colab.research.google.com/github/AshwinUnnikrishnan/AI-for-Human-Computer-Interaction/blob/main/Assignment1/HCI_AI_First_Assignment.ipynb\" target=\"_parent\"><img src=\"https://colab.research.google.com/assets/colab-badge.svg\" alt=\"Open In Colab\"/></a>"
      ]
    },
    {
      "cell_type": "markdown",
      "metadata": {
        "id": "2H6I07NcZEDM"
      },
      "source": [
        "[link text](https://)\n",
        "\n",
        "# 1st Homework Assignment in Human A.I.\n",
        "\n",
        "This assignment will ramp you up on being able to process large scale data sets and use them for Human A.I. interaction. We will work in particular with the dataset of full_home_loans.csv which is about home loan applications in Washington state, USA, where each row of the dataset is an individual loan application.\n",
        "\n",
        "**Goal.** Your goal in this assignment is to build a machine learning model that can accurately predict whether a given loan application was accepted or rejected. In order to accomplish this you will learn skills to: (1)  process large scale data; (2) preparing the data for the machine learning models; (3) developing machine learning models.(4) creating your own machine learning datasets.\n",
        "\n",
        "\n",
        "**Part 1: Data Exploration**\n",
        "The first few exercises will get you used to looking at the data using pandas. Pandas is a widely used library in python for manipulating data. Why? Datasets can consume a lot of space in your computer's memory and traditional python data structures like lists or dictionaries will become painfully slow as we add thousands of rows of data. We use a specialized dataset library pandas which has a specialized data structure called a dataframe designed to be ultra fast & efficient. Documentation is here: https://pandas.pydata.org/pandas-docs/stable/\n",
        "\n",
        "\n"
      ]
    },
    {
      "cell_type": "code",
      "source": [
        "from sklearn.preprocessing import StandardScaler\n",
        "import pickle"
      ],
      "metadata": {
        "id": "TvclqL8y-Z_E"
      },
      "execution_count": 46,
      "outputs": []
    },
    {
      "cell_type": "code",
      "metadata": {
        "colab": {
          "base_uri": "https://localhost:8080/"
        },
        "id": "GHyotj7rG1oX",
        "outputId": "217b0c9d-c609-4ee5-b9d7-d35f9538a95d"
      },
      "source": [
        "\n",
        "from google.colab import files\n",
        "from __future__ import print_function\n",
        "import io\n",
        "import pandas as pd\n",
        "import numpy as np\n",
        "\n",
        "\n",
        "#Code to upload the dataset from your computer as a dataframe\n",
        "#uploaded = files.upload()\n",
        "nameFile=\"home_loans.csv\"\n",
        "df = pd.read_csv(nameFile)"
      ],
      "execution_count": 1,
      "outputs": [
        {
          "output_type": "stream",
          "name": "stderr",
          "text": [
            "<ipython-input-1-23645a6623d7>:11: DtypeWarning: Columns (10,11,12,14,15,16,21,22,23) have mixed types. Specify dtype option on import or set low_memory=False.\n",
            "  df = pd.read_csv(nameFile)\n"
          ]
        }
      ]
    },
    {
      "cell_type": "markdown",
      "metadata": {
        "id": "tnkuWN8YZA7Z"
      },
      "source": [
        "# `Processing Data Using Pandas`\n",
        "\n",
        "To understand what kind of data was collected, pandas has some handy commands:\n",
        "\n",
        "* **df.head()** will show us the first 5 rows of our dataset. You can\n",
        "also specify the first N rows, like df.head(18) will show us the first 18 rows.\n",
        "* **df.sample(10)** will show us 10 randomly sampled rows of our dataset\n",
        "* **df.shape** will tell us how many rows and how many columns are in the dataset\n",
        "* **df.columns** will list the names of all columns in the dataset\n",
        "* **df.describe()** will give you summary statistics about all numerical columns in the dataset\n",
        "\n",
        "\n",
        "## Question 1.A: How many rows are in this dataset? How many columns?\n",
        "\n",
        " Show your work in code below if applicable.\n",
        "\n"
      ]
    },
    {
      "cell_type": "code",
      "metadata": {
        "id": "UCpRDoPmKGnX",
        "colab": {
          "base_uri": "https://localhost:8080/"
        },
        "outputId": "5e5233e0-15e4-47a5-fe50-5aeb616c4147"
      },
      "source": [
        "# df.shape print the rows, columns\n",
        "row, col = df.shape\n",
        "print(f\"Number of rows = {row} and Number of cols = {col}\")"
      ],
      "execution_count": 2,
      "outputs": [
        {
          "output_type": "stream",
          "name": "stdout",
          "text": [
            "Number of rows = 369281 and Number of cols = 27\n"
          ]
        }
      ]
    },
    {
      "cell_type": "markdown",
      "metadata": {
        "id": "CTUr4YzMVSBy"
      },
      "source": [
        "## Question 1.B: One of the columns in the dataset is the outcome value for each application, the value we will try to predict. Which column is that?\n"
      ]
    },
    {
      "cell_type": "code",
      "source": [
        "print(\"loan_approved is the column to be predicted\")\n",
        "print(df['loan_approved'].unique())\n",
        "print(len(df[df['loan_approved'] == 0]))\n",
        "print(len(df[df['loan_approved'] == 1]))"
      ],
      "metadata": {
        "colab": {
          "base_uri": "https://localhost:8080/"
        },
        "id": "uhinbR1Eo_0n",
        "outputId": "d1e33806-326c-4843-b3fe-5eebe2d411f9"
      },
      "execution_count": 3,
      "outputs": [
        {
          "output_type": "stream",
          "name": "stdout",
          "text": [
            "loan_approved is the column to be predicted\n",
            "[1 0]\n",
            "60380\n",
            "308901\n"
          ]
        }
      ]
    },
    {
      "cell_type": "code",
      "metadata": {
        "id": "Ce_uEQBCTY36",
        "colab": {
          "base_uri": "https://localhost:8080/"
        },
        "outputId": "8ab7f4c6-9a77-4581-b345-346060bffc81"
      },
      "source": [
        "#Add your response and code here:\n",
        "for k in df.keys():\n",
        "  print(k)\n",
        "#df.head(5)"
      ],
      "execution_count": 4,
      "outputs": [
        {
          "output_type": "stream",
          "name": "stdout",
          "text": [
            "town_name\n",
            "county_name\n",
            "loan_amount_000s\n",
            "applicant_income_000s\n",
            "property_type_name\n",
            "occupied_by_owner\n",
            "loan_type_name\n",
            "is_hoepa_loan\n",
            "loan_purpose_name\n",
            "loan_approved\n",
            "denial_reason_name_3\n",
            "denial_reason_name_2\n",
            "denial_reason_name_1\n",
            "co_applicant_sex_name\n",
            "co_applicant_race_name_5\n",
            "co_applicant_race_name_4\n",
            "co_applicant_race_name_3\n",
            "co_applicant_race_name_2\n",
            "co_applicant_race_name_1\n",
            "co_applicant_ethnicity_name\n",
            "applicant_sex_name\n",
            "applicant_race_name_5\n",
            "applicant_race_name_4\n",
            "applicant_race_name_3\n",
            "applicant_race_name_2\n",
            "applicant_race_name_1\n",
            "applicant_ethnicity_name\n"
          ]
        }
      ]
    },
    {
      "cell_type": "markdown",
      "metadata": {
        "id": "NyvfYYK1s_ez"
      },
      "source": [
        "## Question 1.C: What reasons were given in this dataset for denying a loan application?\n",
        "\n",
        "Hint: There are 3 columns in the dataset that list why a loan was denied. Try looking up the pandas command to list the unique values in a column.\n",
        "\n",
        "Show your work in code below if applicable."
      ]
    },
    {
      "cell_type": "code",
      "metadata": {
        "id": "_SUMRVl1SN1K",
        "colab": {
          "base_uri": "https://localhost:8080/"
        },
        "outputId": "48f31083-413a-4519-d82b-ca69feece52d"
      },
      "source": [
        "#Add your response and code here:\n",
        "\n",
        "def get_denial_reason_unique(daf, col):\n",
        "  print(f\"-------------------{col}----------------------\")\n",
        "  reasons = []\n",
        "  for val in daf[col].unique():\n",
        "    if not pd.isna(val):\n",
        "      reasons.append(val)\n",
        "      print(val)\n",
        "  return reasons\n",
        "\n",
        "reasons_3 = get_denial_reason_unique(df, 'denial_reason_name_3')\n",
        "reasons_2 = get_denial_reason_unique(df, 'denial_reason_name_2')\n",
        "reasons_1 = get_denial_reason_unique(df, 'denial_reason_name_1')\n",
        "combined_reasons = reasons_3 + reasons_1 + reasons_2"
      ],
      "execution_count": 5,
      "outputs": [
        {
          "output_type": "stream",
          "name": "stdout",
          "text": [
            "-------------------denial_reason_name_3----------------------\n",
            "Other\n",
            "Credit history\n",
            "Insufficient cash (downpayment, closing costs)\n",
            "Employment history\n",
            "Debt-to-income ratio\n",
            "Unverifiable information\n",
            "Collateral\n",
            "Credit application incomplete\n",
            "Mortgage insurance denied\n",
            "-------------------denial_reason_name_2----------------------\n",
            "Collateral\n",
            "Other\n",
            "Insufficient cash (downpayment, closing costs)\n",
            "Debt-to-income ratio\n",
            "Employment history\n",
            "Credit application incomplete\n",
            "Credit history\n",
            "Unverifiable information\n",
            "Mortgage insurance denied\n",
            "-------------------denial_reason_name_1----------------------\n",
            "Other\n",
            "Credit application incomplete\n",
            "Collateral\n",
            "Debt-to-income ratio\n",
            "Credit history\n",
            "Unverifiable information\n",
            "Employment history\n",
            "Insufficient cash (downpayment, closing costs)\n",
            "Mortgage insurance denied\n"
          ]
        }
      ]
    },
    {
      "cell_type": "markdown",
      "metadata": {
        "id": "fzExp_1tuUqc"
      },
      "source": [
        "## Question 1.D: Given the denial reasons and the columns in this dataset, think about what information you don't have about each application. Rank your top 3 missing pieces of information about each application that could help you better predict the application's loan outcome.\n",
        "\n",
        "Show your work in code below if applicable.\n",
        "\n",
        "\n",
        "\n",
        "1.   Credit History\n",
        "2.   Credit application incomplete\n",
        "3.   Employment History\n",
        "\n",
        "\n",
        "as seen in below eda we see that 8531 applications are rejected due to credit history, 6017 for application incomplete and 825 for employment history missing.\n",
        "\n",
        "1951 applications are rejected due to unverifiable information, we do not know what that is specifically here.\n"
      ]
    },
    {
      "cell_type": "code",
      "metadata": {
        "id": "7UEG-Ws5uqBt",
        "colab": {
          "base_uri": "https://localhost:8080/"
        },
        "outputId": "73bf6b23-68a3-479d-e245-e26300ea6491"
      },
      "source": [
        "\n",
        "def get_denial_reason_unique(df_d, column_name):\n",
        "    df_d = df_d[df_d['loan_approved'] == 0]\n",
        "    return df_d[column_name].value_counts()\n",
        "\n",
        "def get_combined_counts_denial(df_d):\n",
        "  # Get unique denial reasons and counts from each column\n",
        "  reasons_1 = get_denial_reason_unique(df_d, 'denial_reason_name_1')\n",
        "  reasons_2 = get_denial_reason_unique(df_d, 'denial_reason_name_2')\n",
        "  reasons_3 = get_denial_reason_unique(df_d, 'denial_reason_name_3')\n",
        "  # Combine the counts from the three columns\n",
        "  combined_counts = reasons_1.add(reasons_2, fill_value=0).add(reasons_3, fill_value=0)\n",
        "\n",
        "  # Print the combined counts\n",
        "  print(combined_counts.sort_values(ascending=False))\n",
        "get_combined_counts_denial(df)"
      ],
      "execution_count": 6,
      "outputs": [
        {
          "output_type": "stream",
          "name": "stdout",
          "text": [
            "Debt-to-income ratio                              9365\n",
            "Credit history                                    8531\n",
            "Credit application incomplete                     6017\n",
            "Collateral                                        5783\n",
            "Other                                             5314\n",
            "Unverifiable information                          1951\n",
            "Insufficient cash (downpayment, closing costs)    1894\n",
            "Employment history                                 825\n",
            "Mortgage insurance denied                           47\n",
            "dtype: int64\n"
          ]
        }
      ]
    },
    {
      "cell_type": "markdown",
      "metadata": {
        "id": "UiVhPf74vQ-N"
      },
      "source": [
        "# **Part 2: Preparing Data to Input to a Model**\n",
        "\n",
        "Here we'll start using scikit-learn which provides simple library calls for most things we'd like to do in a simple machine learning pipeline. If you haven't used scikit-learn before this tutorial may be useful to give you a sense of what the library can do: https://scikit-learn.org/stable/tutorial/basic/tutorial.html\n",
        "\n",
        "Machine learning models can only understand data that is represented numerically, but lots of the columns in our dataset like \"town_name\" are text categorical data. Meanwhile, many models do better when continous numerical data is within small, consistent ranges, such as all data being between -1, 0 and 1, which is definitely not the case with our thousands of dollars loan units.\n",
        "\n",
        "So first, we will seperate out our samples (called X) into features we'd like to include in our model that are categorical or continous so that we can preprocess each appropriately seperately."
      ]
    },
    {
      "cell_type": "code",
      "metadata": {
        "colab": {
          "base_uri": "https://localhost:8080/"
        },
        "id": "_aMAtGe1hm_n",
        "outputId": "5c2100da-ee5f-4221-dbf3-eee05ceb69df"
      },
      "source": [
        "import sklearn # import scikit-learn\n",
        "from sklearn import preprocessing # import preprocessing utilites\n",
        "\n",
        "features_cat = ['loan_purpose_name', 'applicant_sex_name']\n",
        "features_num = ['loan_amount_000s', 'applicant_income_000s']\n",
        "\n",
        "X_cat = df[features_cat]\n",
        "print (X_cat)\n",
        "X_num = df[features_num]\n",
        "print (X_num)"
      ],
      "execution_count": 7,
      "outputs": [
        {
          "output_type": "stream",
          "name": "stdout",
          "text": [
            "       loan_purpose_name applicant_sex_name\n",
            "0            Refinancing             Female\n",
            "1          Home purchase               Male\n",
            "2            Refinancing               Male\n",
            "3            Refinancing               Male\n",
            "4       Home improvement             Female\n",
            "...                  ...                ...\n",
            "369276     Home purchase             Female\n",
            "369277     Home purchase               Male\n",
            "369278     Home purchase             Female\n",
            "369279     Home purchase               Male\n",
            "369280     Home purchase               Male\n",
            "\n",
            "[369281 rows x 2 columns]\n",
            "        loan_amount_000s  applicant_income_000s\n",
            "0                    227                  116.0\n",
            "1                    240                   42.0\n",
            "2                    241                  117.0\n",
            "3                    351                  315.0\n",
            "4                    417                  114.0\n",
            "...                  ...                    ...\n",
            "369276               178                   97.0\n",
            "369277               110                   30.0\n",
            "369278               420                   71.0\n",
            "369279               255                   77.0\n",
            "369280               319                   78.0\n",
            "\n",
            "[369281 rows x 2 columns]\n"
          ]
        }
      ]
    },
    {
      "cell_type": "markdown",
      "metadata": {
        "id": "tpGc1XOcxKxW"
      },
      "source": [
        "**Part 2.A One Hot Encode Categorical Variables**\n",
        "\n",
        "Run the following code to one hot encode the categorical features:"
      ]
    },
    {
      "cell_type": "code",
      "metadata": {
        "id": "1A8S4HM3iXA7"
      },
      "source": [
        "enc = preprocessing.OneHotEncoder()\n",
        "enc.fit(X_cat) # fit the encoder to categories in our data\n",
        "one_hot = enc.transform(X_cat) # transform data into one hot encoded sparse array format\n"
      ],
      "execution_count": 8,
      "outputs": []
    },
    {
      "cell_type": "code",
      "metadata": {
        "colab": {
          "base_uri": "https://localhost:8080/",
          "height": 278
        },
        "id": "oDzyLuQ4igJz",
        "outputId": "6510acb8-5782-4ad4-9751-d4ace22ff3ec"
      },
      "source": [
        "# Finally, put the newly encoded sparse array back into a pandas dataframe so that we can use it\n",
        "X_cat_proc = pd.DataFrame(one_hot.toarray(), columns=enc.get_feature_names_out())\n",
        "X_cat_proc.head()\n"
      ],
      "execution_count": 9,
      "outputs": [
        {
          "output_type": "execute_result",
          "data": {
            "text/plain": [
              "   loan_purpose_name_Home improvement  loan_purpose_name_Home purchase  \\\n",
              "0                                 0.0                              0.0   \n",
              "1                                 0.0                              1.0   \n",
              "2                                 0.0                              0.0   \n",
              "3                                 0.0                              0.0   \n",
              "4                                 1.0                              0.0   \n",
              "\n",
              "   loan_purpose_name_Refinancing  applicant_sex_name_Female  \\\n",
              "0                            1.0                        1.0   \n",
              "1                            0.0                        0.0   \n",
              "2                            1.0                        0.0   \n",
              "3                            1.0                        0.0   \n",
              "4                            0.0                        1.0   \n",
              "\n",
              "   applicant_sex_name_Information not provided by applicant in mail, Internet, or telephone application  \\\n",
              "0                                                0.0                                                      \n",
              "1                                                0.0                                                      \n",
              "2                                                0.0                                                      \n",
              "3                                                0.0                                                      \n",
              "4                                                0.0                                                      \n",
              "\n",
              "   applicant_sex_name_Male  applicant_sex_name_Not applicable  \n",
              "0                      0.0                                0.0  \n",
              "1                      1.0                                0.0  \n",
              "2                      1.0                                0.0  \n",
              "3                      1.0                                0.0  \n",
              "4                      0.0                                0.0  "
            ],
            "text/html": [
              "\n",
              "  <div id=\"df-342526c3-5473-4dba-bf5e-bb00734714bf\" class=\"colab-df-container\">\n",
              "    <div>\n",
              "<style scoped>\n",
              "    .dataframe tbody tr th:only-of-type {\n",
              "        vertical-align: middle;\n",
              "    }\n",
              "\n",
              "    .dataframe tbody tr th {\n",
              "        vertical-align: top;\n",
              "    }\n",
              "\n",
              "    .dataframe thead th {\n",
              "        text-align: right;\n",
              "    }\n",
              "</style>\n",
              "<table border=\"1\" class=\"dataframe\">\n",
              "  <thead>\n",
              "    <tr style=\"text-align: right;\">\n",
              "      <th></th>\n",
              "      <th>loan_purpose_name_Home improvement</th>\n",
              "      <th>loan_purpose_name_Home purchase</th>\n",
              "      <th>loan_purpose_name_Refinancing</th>\n",
              "      <th>applicant_sex_name_Female</th>\n",
              "      <th>applicant_sex_name_Information not provided by applicant in mail, Internet, or telephone application</th>\n",
              "      <th>applicant_sex_name_Male</th>\n",
              "      <th>applicant_sex_name_Not applicable</th>\n",
              "    </tr>\n",
              "  </thead>\n",
              "  <tbody>\n",
              "    <tr>\n",
              "      <th>0</th>\n",
              "      <td>0.0</td>\n",
              "      <td>0.0</td>\n",
              "      <td>1.0</td>\n",
              "      <td>1.0</td>\n",
              "      <td>0.0</td>\n",
              "      <td>0.0</td>\n",
              "      <td>0.0</td>\n",
              "    </tr>\n",
              "    <tr>\n",
              "      <th>1</th>\n",
              "      <td>0.0</td>\n",
              "      <td>1.0</td>\n",
              "      <td>0.0</td>\n",
              "      <td>0.0</td>\n",
              "      <td>0.0</td>\n",
              "      <td>1.0</td>\n",
              "      <td>0.0</td>\n",
              "    </tr>\n",
              "    <tr>\n",
              "      <th>2</th>\n",
              "      <td>0.0</td>\n",
              "      <td>0.0</td>\n",
              "      <td>1.0</td>\n",
              "      <td>0.0</td>\n",
              "      <td>0.0</td>\n",
              "      <td>1.0</td>\n",
              "      <td>0.0</td>\n",
              "    </tr>\n",
              "    <tr>\n",
              "      <th>3</th>\n",
              "      <td>0.0</td>\n",
              "      <td>0.0</td>\n",
              "      <td>1.0</td>\n",
              "      <td>0.0</td>\n",
              "      <td>0.0</td>\n",
              "      <td>1.0</td>\n",
              "      <td>0.0</td>\n",
              "    </tr>\n",
              "    <tr>\n",
              "      <th>4</th>\n",
              "      <td>1.0</td>\n",
              "      <td>0.0</td>\n",
              "      <td>0.0</td>\n",
              "      <td>1.0</td>\n",
              "      <td>0.0</td>\n",
              "      <td>0.0</td>\n",
              "      <td>0.0</td>\n",
              "    </tr>\n",
              "  </tbody>\n",
              "</table>\n",
              "</div>\n",
              "    <div class=\"colab-df-buttons\">\n",
              "\n",
              "  <div class=\"colab-df-container\">\n",
              "    <button class=\"colab-df-convert\" onclick=\"convertToInteractive('df-342526c3-5473-4dba-bf5e-bb00734714bf')\"\n",
              "            title=\"Convert this dataframe to an interactive table.\"\n",
              "            style=\"display:none;\">\n",
              "\n",
              "  <svg xmlns=\"http://www.w3.org/2000/svg\" height=\"24px\" viewBox=\"0 -960 960 960\">\n",
              "    <path d=\"M120-120v-720h720v720H120Zm60-500h600v-160H180v160Zm220 220h160v-160H400v160Zm0 220h160v-160H400v160ZM180-400h160v-160H180v160Zm440 0h160v-160H620v160ZM180-180h160v-160H180v160Zm440 0h160v-160H620v160Z\"/>\n",
              "  </svg>\n",
              "    </button>\n",
              "\n",
              "  <style>\n",
              "    .colab-df-container {\n",
              "      display:flex;\n",
              "      gap: 12px;\n",
              "    }\n",
              "\n",
              "    .colab-df-convert {\n",
              "      background-color: #E8F0FE;\n",
              "      border: none;\n",
              "      border-radius: 50%;\n",
              "      cursor: pointer;\n",
              "      display: none;\n",
              "      fill: #1967D2;\n",
              "      height: 32px;\n",
              "      padding: 0 0 0 0;\n",
              "      width: 32px;\n",
              "    }\n",
              "\n",
              "    .colab-df-convert:hover {\n",
              "      background-color: #E2EBFA;\n",
              "      box-shadow: 0px 1px 2px rgba(60, 64, 67, 0.3), 0px 1px 3px 1px rgba(60, 64, 67, 0.15);\n",
              "      fill: #174EA6;\n",
              "    }\n",
              "\n",
              "    .colab-df-buttons div {\n",
              "      margin-bottom: 4px;\n",
              "    }\n",
              "\n",
              "    [theme=dark] .colab-df-convert {\n",
              "      background-color: #3B4455;\n",
              "      fill: #D2E3FC;\n",
              "    }\n",
              "\n",
              "    [theme=dark] .colab-df-convert:hover {\n",
              "      background-color: #434B5C;\n",
              "      box-shadow: 0px 1px 3px 1px rgba(0, 0, 0, 0.15);\n",
              "      filter: drop-shadow(0px 1px 2px rgba(0, 0, 0, 0.3));\n",
              "      fill: #FFFFFF;\n",
              "    }\n",
              "  </style>\n",
              "\n",
              "    <script>\n",
              "      const buttonEl =\n",
              "        document.querySelector('#df-342526c3-5473-4dba-bf5e-bb00734714bf button.colab-df-convert');\n",
              "      buttonEl.style.display =\n",
              "        google.colab.kernel.accessAllowed ? 'block' : 'none';\n",
              "\n",
              "      async function convertToInteractive(key) {\n",
              "        const element = document.querySelector('#df-342526c3-5473-4dba-bf5e-bb00734714bf');\n",
              "        const dataTable =\n",
              "          await google.colab.kernel.invokeFunction('convertToInteractive',\n",
              "                                                    [key], {});\n",
              "        if (!dataTable) return;\n",
              "\n",
              "        const docLinkHtml = 'Like what you see? Visit the ' +\n",
              "          '<a target=\"_blank\" href=https://colab.research.google.com/notebooks/data_table.ipynb>data table notebook</a>'\n",
              "          + ' to learn more about interactive tables.';\n",
              "        element.innerHTML = '';\n",
              "        dataTable['output_type'] = 'display_data';\n",
              "        await google.colab.output.renderOutput(dataTable, element);\n",
              "        const docLink = document.createElement('div');\n",
              "        docLink.innerHTML = docLinkHtml;\n",
              "        element.appendChild(docLink);\n",
              "      }\n",
              "    </script>\n",
              "  </div>\n",
              "\n",
              "\n",
              "<div id=\"df-c4a9a803-7577-4f38-aafc-54c8db24e040\">\n",
              "  <button class=\"colab-df-quickchart\" onclick=\"quickchart('df-c4a9a803-7577-4f38-aafc-54c8db24e040')\"\n",
              "            title=\"Suggest charts.\"\n",
              "            style=\"display:none;\">\n",
              "\n",
              "<svg xmlns=\"http://www.w3.org/2000/svg\" height=\"24px\"viewBox=\"0 0 24 24\"\n",
              "     width=\"24px\">\n",
              "    <g>\n",
              "        <path d=\"M19 3H5c-1.1 0-2 .9-2 2v14c0 1.1.9 2 2 2h14c1.1 0 2-.9 2-2V5c0-1.1-.9-2-2-2zM9 17H7v-7h2v7zm4 0h-2V7h2v10zm4 0h-2v-4h2v4z\"/>\n",
              "    </g>\n",
              "</svg>\n",
              "  </button>\n",
              "\n",
              "<style>\n",
              "  .colab-df-quickchart {\n",
              "      --bg-color: #E8F0FE;\n",
              "      --fill-color: #1967D2;\n",
              "      --hover-bg-color: #E2EBFA;\n",
              "      --hover-fill-color: #174EA6;\n",
              "      --disabled-fill-color: #AAA;\n",
              "      --disabled-bg-color: #DDD;\n",
              "  }\n",
              "\n",
              "  [theme=dark] .colab-df-quickchart {\n",
              "      --bg-color: #3B4455;\n",
              "      --fill-color: #D2E3FC;\n",
              "      --hover-bg-color: #434B5C;\n",
              "      --hover-fill-color: #FFFFFF;\n",
              "      --disabled-bg-color: #3B4455;\n",
              "      --disabled-fill-color: #666;\n",
              "  }\n",
              "\n",
              "  .colab-df-quickchart {\n",
              "    background-color: var(--bg-color);\n",
              "    border: none;\n",
              "    border-radius: 50%;\n",
              "    cursor: pointer;\n",
              "    display: none;\n",
              "    fill: var(--fill-color);\n",
              "    height: 32px;\n",
              "    padding: 0;\n",
              "    width: 32px;\n",
              "  }\n",
              "\n",
              "  .colab-df-quickchart:hover {\n",
              "    background-color: var(--hover-bg-color);\n",
              "    box-shadow: 0 1px 2px rgba(60, 64, 67, 0.3), 0 1px 3px 1px rgba(60, 64, 67, 0.15);\n",
              "    fill: var(--button-hover-fill-color);\n",
              "  }\n",
              "\n",
              "  .colab-df-quickchart-complete:disabled,\n",
              "  .colab-df-quickchart-complete:disabled:hover {\n",
              "    background-color: var(--disabled-bg-color);\n",
              "    fill: var(--disabled-fill-color);\n",
              "    box-shadow: none;\n",
              "  }\n",
              "\n",
              "  .colab-df-spinner {\n",
              "    border: 2px solid var(--fill-color);\n",
              "    border-color: transparent;\n",
              "    border-bottom-color: var(--fill-color);\n",
              "    animation:\n",
              "      spin 1s steps(1) infinite;\n",
              "  }\n",
              "\n",
              "  @keyframes spin {\n",
              "    0% {\n",
              "      border-color: transparent;\n",
              "      border-bottom-color: var(--fill-color);\n",
              "      border-left-color: var(--fill-color);\n",
              "    }\n",
              "    20% {\n",
              "      border-color: transparent;\n",
              "      border-left-color: var(--fill-color);\n",
              "      border-top-color: var(--fill-color);\n",
              "    }\n",
              "    30% {\n",
              "      border-color: transparent;\n",
              "      border-left-color: var(--fill-color);\n",
              "      border-top-color: var(--fill-color);\n",
              "      border-right-color: var(--fill-color);\n",
              "    }\n",
              "    40% {\n",
              "      border-color: transparent;\n",
              "      border-right-color: var(--fill-color);\n",
              "      border-top-color: var(--fill-color);\n",
              "    }\n",
              "    60% {\n",
              "      border-color: transparent;\n",
              "      border-right-color: var(--fill-color);\n",
              "    }\n",
              "    80% {\n",
              "      border-color: transparent;\n",
              "      border-right-color: var(--fill-color);\n",
              "      border-bottom-color: var(--fill-color);\n",
              "    }\n",
              "    90% {\n",
              "      border-color: transparent;\n",
              "      border-bottom-color: var(--fill-color);\n",
              "    }\n",
              "  }\n",
              "</style>\n",
              "\n",
              "  <script>\n",
              "    async function quickchart(key) {\n",
              "      const quickchartButtonEl =\n",
              "        document.querySelector('#' + key + ' button');\n",
              "      quickchartButtonEl.disabled = true;  // To prevent multiple clicks.\n",
              "      quickchartButtonEl.classList.add('colab-df-spinner');\n",
              "      try {\n",
              "        const charts = await google.colab.kernel.invokeFunction(\n",
              "            'suggestCharts', [key], {});\n",
              "      } catch (error) {\n",
              "        console.error('Error during call to suggestCharts:', error);\n",
              "      }\n",
              "      quickchartButtonEl.classList.remove('colab-df-spinner');\n",
              "      quickchartButtonEl.classList.add('colab-df-quickchart-complete');\n",
              "    }\n",
              "    (() => {\n",
              "      let quickchartButtonEl =\n",
              "        document.querySelector('#df-c4a9a803-7577-4f38-aafc-54c8db24e040 button');\n",
              "      quickchartButtonEl.style.display =\n",
              "        google.colab.kernel.accessAllowed ? 'block' : 'none';\n",
              "    })();\n",
              "  </script>\n",
              "</div>\n",
              "    </div>\n",
              "  </div>\n"
            ]
          },
          "metadata": {},
          "execution_count": 9
        }
      ]
    },
    {
      "cell_type": "markdown",
      "metadata": {
        "id": "UoP73Jdr1aAZ"
      },
      "source": [
        "##Question 2.A: In your own words, how is one hot coding tranforming the categorical data? What does the term \"one-hot\" refer to?"
      ]
    },
    {
      "cell_type": "markdown",
      "source": [
        "---\n",
        "The term \"one-hot\" in one-hot encoding refers to the way categorical data is represented after the encoding process.\n",
        "\n",
        "In a one-hot encoded representation, each category or label in a categorical variable is uniquely assigned a binary vector (a sequence of 0s and 1s).\n",
        "\n",
        "One means there is only one vector and hot is to refer which label is active.\n",
        "\n",
        "If we have a feature as day of the week, in order to vectorize we can move it to a fixed length vector of 7, as there are only 7 values it can take 'xxxxxxx'.\n",
        "then\n",
        "\n",
        "- SUNDAY = 1000000\n",
        "- MONDAY = 0100000\n",
        "- .\n",
        "- .\n",
        "- .\n",
        "- .\n",
        "- SATURDAY = 0000001\n",
        "---"
      ],
      "metadata": {
        "id": "2jYNo8DM3oyo"
      }
    },
    {
      "cell_type": "markdown",
      "metadata": {
        "id": "je0Fwp2F2uVF"
      },
      "source": [
        "## Part 2.B Scaling down continuous numerical data\n",
        "Run the following code to normalize any continous numberical features, such as loan dollar amount, between -1 and 0. This process will ensure that the average of that feature, such as the average amount that a person asks for in loan amount, is scaled to 0. Values less than the average will be negative numbers, and values larger than the average will be positive numbers."
      ]
    },
    {
      "cell_type": "code",
      "metadata": {
        "colab": {
          "base_uri": "https://localhost:8080/",
          "height": 0
        },
        "id": "9fYIhmSIigLK",
        "outputId": "26aee59f-e8ed-4b1c-ea90-02c81acabea9"
      },
      "source": [
        "scaled = preprocessing.scale(X_num)\n",
        "X_num_proc = pd.DataFrame(scaled, columns=features_num)\n",
        "X_num_proc.head()"
      ],
      "execution_count": 10,
      "outputs": [
        {
          "output_type": "execute_result",
          "data": {
            "text/plain": [
              "   loan_amount_000s  applicant_income_000s\n",
              "0         -0.130864               0.016448\n",
              "1         -0.103680              -0.596232\n",
              "2         -0.101589               0.024727\n",
              "3          0.128424               1.664059\n",
              "4          0.266432              -0.000111"
            ],
            "text/html": [
              "\n",
              "  <div id=\"df-972d64eb-81eb-487c-82fd-a1a6f77841fd\" class=\"colab-df-container\">\n",
              "    <div>\n",
              "<style scoped>\n",
              "    .dataframe tbody tr th:only-of-type {\n",
              "        vertical-align: middle;\n",
              "    }\n",
              "\n",
              "    .dataframe tbody tr th {\n",
              "        vertical-align: top;\n",
              "    }\n",
              "\n",
              "    .dataframe thead th {\n",
              "        text-align: right;\n",
              "    }\n",
              "</style>\n",
              "<table border=\"1\" class=\"dataframe\">\n",
              "  <thead>\n",
              "    <tr style=\"text-align: right;\">\n",
              "      <th></th>\n",
              "      <th>loan_amount_000s</th>\n",
              "      <th>applicant_income_000s</th>\n",
              "    </tr>\n",
              "  </thead>\n",
              "  <tbody>\n",
              "    <tr>\n",
              "      <th>0</th>\n",
              "      <td>-0.130864</td>\n",
              "      <td>0.016448</td>\n",
              "    </tr>\n",
              "    <tr>\n",
              "      <th>1</th>\n",
              "      <td>-0.103680</td>\n",
              "      <td>-0.596232</td>\n",
              "    </tr>\n",
              "    <tr>\n",
              "      <th>2</th>\n",
              "      <td>-0.101589</td>\n",
              "      <td>0.024727</td>\n",
              "    </tr>\n",
              "    <tr>\n",
              "      <th>3</th>\n",
              "      <td>0.128424</td>\n",
              "      <td>1.664059</td>\n",
              "    </tr>\n",
              "    <tr>\n",
              "      <th>4</th>\n",
              "      <td>0.266432</td>\n",
              "      <td>-0.000111</td>\n",
              "    </tr>\n",
              "  </tbody>\n",
              "</table>\n",
              "</div>\n",
              "    <div class=\"colab-df-buttons\">\n",
              "\n",
              "  <div class=\"colab-df-container\">\n",
              "    <button class=\"colab-df-convert\" onclick=\"convertToInteractive('df-972d64eb-81eb-487c-82fd-a1a6f77841fd')\"\n",
              "            title=\"Convert this dataframe to an interactive table.\"\n",
              "            style=\"display:none;\">\n",
              "\n",
              "  <svg xmlns=\"http://www.w3.org/2000/svg\" height=\"24px\" viewBox=\"0 -960 960 960\">\n",
              "    <path d=\"M120-120v-720h720v720H120Zm60-500h600v-160H180v160Zm220 220h160v-160H400v160Zm0 220h160v-160H400v160ZM180-400h160v-160H180v160Zm440 0h160v-160H620v160ZM180-180h160v-160H180v160Zm440 0h160v-160H620v160Z\"/>\n",
              "  </svg>\n",
              "    </button>\n",
              "\n",
              "  <style>\n",
              "    .colab-df-container {\n",
              "      display:flex;\n",
              "      gap: 12px;\n",
              "    }\n",
              "\n",
              "    .colab-df-convert {\n",
              "      background-color: #E8F0FE;\n",
              "      border: none;\n",
              "      border-radius: 50%;\n",
              "      cursor: pointer;\n",
              "      display: none;\n",
              "      fill: #1967D2;\n",
              "      height: 32px;\n",
              "      padding: 0 0 0 0;\n",
              "      width: 32px;\n",
              "    }\n",
              "\n",
              "    .colab-df-convert:hover {\n",
              "      background-color: #E2EBFA;\n",
              "      box-shadow: 0px 1px 2px rgba(60, 64, 67, 0.3), 0px 1px 3px 1px rgba(60, 64, 67, 0.15);\n",
              "      fill: #174EA6;\n",
              "    }\n",
              "\n",
              "    .colab-df-buttons div {\n",
              "      margin-bottom: 4px;\n",
              "    }\n",
              "\n",
              "    [theme=dark] .colab-df-convert {\n",
              "      background-color: #3B4455;\n",
              "      fill: #D2E3FC;\n",
              "    }\n",
              "\n",
              "    [theme=dark] .colab-df-convert:hover {\n",
              "      background-color: #434B5C;\n",
              "      box-shadow: 0px 1px 3px 1px rgba(0, 0, 0, 0.15);\n",
              "      filter: drop-shadow(0px 1px 2px rgba(0, 0, 0, 0.3));\n",
              "      fill: #FFFFFF;\n",
              "    }\n",
              "  </style>\n",
              "\n",
              "    <script>\n",
              "      const buttonEl =\n",
              "        document.querySelector('#df-972d64eb-81eb-487c-82fd-a1a6f77841fd button.colab-df-convert');\n",
              "      buttonEl.style.display =\n",
              "        google.colab.kernel.accessAllowed ? 'block' : 'none';\n",
              "\n",
              "      async function convertToInteractive(key) {\n",
              "        const element = document.querySelector('#df-972d64eb-81eb-487c-82fd-a1a6f77841fd');\n",
              "        const dataTable =\n",
              "          await google.colab.kernel.invokeFunction('convertToInteractive',\n",
              "                                                    [key], {});\n",
              "        if (!dataTable) return;\n",
              "\n",
              "        const docLinkHtml = 'Like what you see? Visit the ' +\n",
              "          '<a target=\"_blank\" href=https://colab.research.google.com/notebooks/data_table.ipynb>data table notebook</a>'\n",
              "          + ' to learn more about interactive tables.';\n",
              "        element.innerHTML = '';\n",
              "        dataTable['output_type'] = 'display_data';\n",
              "        await google.colab.output.renderOutput(dataTable, element);\n",
              "        const docLink = document.createElement('div');\n",
              "        docLink.innerHTML = docLinkHtml;\n",
              "        element.appendChild(docLink);\n",
              "      }\n",
              "    </script>\n",
              "  </div>\n",
              "\n",
              "\n",
              "<div id=\"df-6957ff5d-f151-422b-8e44-a2e41e0fad3b\">\n",
              "  <button class=\"colab-df-quickchart\" onclick=\"quickchart('df-6957ff5d-f151-422b-8e44-a2e41e0fad3b')\"\n",
              "            title=\"Suggest charts.\"\n",
              "            style=\"display:none;\">\n",
              "\n",
              "<svg xmlns=\"http://www.w3.org/2000/svg\" height=\"24px\"viewBox=\"0 0 24 24\"\n",
              "     width=\"24px\">\n",
              "    <g>\n",
              "        <path d=\"M19 3H5c-1.1 0-2 .9-2 2v14c0 1.1.9 2 2 2h14c1.1 0 2-.9 2-2V5c0-1.1-.9-2-2-2zM9 17H7v-7h2v7zm4 0h-2V7h2v10zm4 0h-2v-4h2v4z\"/>\n",
              "    </g>\n",
              "</svg>\n",
              "  </button>\n",
              "\n",
              "<style>\n",
              "  .colab-df-quickchart {\n",
              "      --bg-color: #E8F0FE;\n",
              "      --fill-color: #1967D2;\n",
              "      --hover-bg-color: #E2EBFA;\n",
              "      --hover-fill-color: #174EA6;\n",
              "      --disabled-fill-color: #AAA;\n",
              "      --disabled-bg-color: #DDD;\n",
              "  }\n",
              "\n",
              "  [theme=dark] .colab-df-quickchart {\n",
              "      --bg-color: #3B4455;\n",
              "      --fill-color: #D2E3FC;\n",
              "      --hover-bg-color: #434B5C;\n",
              "      --hover-fill-color: #FFFFFF;\n",
              "      --disabled-bg-color: #3B4455;\n",
              "      --disabled-fill-color: #666;\n",
              "  }\n",
              "\n",
              "  .colab-df-quickchart {\n",
              "    background-color: var(--bg-color);\n",
              "    border: none;\n",
              "    border-radius: 50%;\n",
              "    cursor: pointer;\n",
              "    display: none;\n",
              "    fill: var(--fill-color);\n",
              "    height: 32px;\n",
              "    padding: 0;\n",
              "    width: 32px;\n",
              "  }\n",
              "\n",
              "  .colab-df-quickchart:hover {\n",
              "    background-color: var(--hover-bg-color);\n",
              "    box-shadow: 0 1px 2px rgba(60, 64, 67, 0.3), 0 1px 3px 1px rgba(60, 64, 67, 0.15);\n",
              "    fill: var(--button-hover-fill-color);\n",
              "  }\n",
              "\n",
              "  .colab-df-quickchart-complete:disabled,\n",
              "  .colab-df-quickchart-complete:disabled:hover {\n",
              "    background-color: var(--disabled-bg-color);\n",
              "    fill: var(--disabled-fill-color);\n",
              "    box-shadow: none;\n",
              "  }\n",
              "\n",
              "  .colab-df-spinner {\n",
              "    border: 2px solid var(--fill-color);\n",
              "    border-color: transparent;\n",
              "    border-bottom-color: var(--fill-color);\n",
              "    animation:\n",
              "      spin 1s steps(1) infinite;\n",
              "  }\n",
              "\n",
              "  @keyframes spin {\n",
              "    0% {\n",
              "      border-color: transparent;\n",
              "      border-bottom-color: var(--fill-color);\n",
              "      border-left-color: var(--fill-color);\n",
              "    }\n",
              "    20% {\n",
              "      border-color: transparent;\n",
              "      border-left-color: var(--fill-color);\n",
              "      border-top-color: var(--fill-color);\n",
              "    }\n",
              "    30% {\n",
              "      border-color: transparent;\n",
              "      border-left-color: var(--fill-color);\n",
              "      border-top-color: var(--fill-color);\n",
              "      border-right-color: var(--fill-color);\n",
              "    }\n",
              "    40% {\n",
              "      border-color: transparent;\n",
              "      border-right-color: var(--fill-color);\n",
              "      border-top-color: var(--fill-color);\n",
              "    }\n",
              "    60% {\n",
              "      border-color: transparent;\n",
              "      border-right-color: var(--fill-color);\n",
              "    }\n",
              "    80% {\n",
              "      border-color: transparent;\n",
              "      border-right-color: var(--fill-color);\n",
              "      border-bottom-color: var(--fill-color);\n",
              "    }\n",
              "    90% {\n",
              "      border-color: transparent;\n",
              "      border-bottom-color: var(--fill-color);\n",
              "    }\n",
              "  }\n",
              "</style>\n",
              "\n",
              "  <script>\n",
              "    async function quickchart(key) {\n",
              "      const quickchartButtonEl =\n",
              "        document.querySelector('#' + key + ' button');\n",
              "      quickchartButtonEl.disabled = true;  // To prevent multiple clicks.\n",
              "      quickchartButtonEl.classList.add('colab-df-spinner');\n",
              "      try {\n",
              "        const charts = await google.colab.kernel.invokeFunction(\n",
              "            'suggestCharts', [key], {});\n",
              "      } catch (error) {\n",
              "        console.error('Error during call to suggestCharts:', error);\n",
              "      }\n",
              "      quickchartButtonEl.classList.remove('colab-df-spinner');\n",
              "      quickchartButtonEl.classList.add('colab-df-quickchart-complete');\n",
              "    }\n",
              "    (() => {\n",
              "      let quickchartButtonEl =\n",
              "        document.querySelector('#df-6957ff5d-f151-422b-8e44-a2e41e0fad3b button');\n",
              "      quickchartButtonEl.style.display =\n",
              "        google.colab.kernel.accessAllowed ? 'block' : 'none';\n",
              "    })();\n",
              "  </script>\n",
              "</div>\n",
              "    </div>\n",
              "  </div>\n"
            ]
          },
          "metadata": {},
          "execution_count": 10
        }
      ]
    },
    {
      "cell_type": "markdown",
      "metadata": {
        "id": "x5d3FHA0259Z"
      },
      "source": [
        "## Part 2.C Merge our feature sets into one sample dataset X and fix NaN values\n",
        "Run the code below to combine the numerical and categorical feature sets."
      ]
    },
    {
      "cell_type": "code",
      "metadata": {
        "colab": {
          "base_uri": "https://localhost:8080/",
          "height": 0
        },
        "id": "APPrp9QtjFxH",
        "outputId": "af05cb1d-1378-4d61-899b-9bdf040a527c"
      },
      "source": [
        "X = pd.concat([X_num_proc, X_cat_proc], axis=1, sort=False)\n",
        "X.head()"
      ],
      "execution_count": 11,
      "outputs": [
        {
          "output_type": "execute_result",
          "data": {
            "text/plain": [
              "   loan_amount_000s  applicant_income_000s  \\\n",
              "0         -0.130864               0.016448   \n",
              "1         -0.103680              -0.596232   \n",
              "2         -0.101589               0.024727   \n",
              "3          0.128424               1.664059   \n",
              "4          0.266432              -0.000111   \n",
              "\n",
              "   loan_purpose_name_Home improvement  loan_purpose_name_Home purchase  \\\n",
              "0                                 0.0                              0.0   \n",
              "1                                 0.0                              1.0   \n",
              "2                                 0.0                              0.0   \n",
              "3                                 0.0                              0.0   \n",
              "4                                 1.0                              0.0   \n",
              "\n",
              "   loan_purpose_name_Refinancing  applicant_sex_name_Female  \\\n",
              "0                            1.0                        1.0   \n",
              "1                            0.0                        0.0   \n",
              "2                            1.0                        0.0   \n",
              "3                            1.0                        0.0   \n",
              "4                            0.0                        1.0   \n",
              "\n",
              "   applicant_sex_name_Information not provided by applicant in mail, Internet, or telephone application  \\\n",
              "0                                                0.0                                                      \n",
              "1                                                0.0                                                      \n",
              "2                                                0.0                                                      \n",
              "3                                                0.0                                                      \n",
              "4                                                0.0                                                      \n",
              "\n",
              "   applicant_sex_name_Male  applicant_sex_name_Not applicable  \n",
              "0                      0.0                                0.0  \n",
              "1                      1.0                                0.0  \n",
              "2                      1.0                                0.0  \n",
              "3                      1.0                                0.0  \n",
              "4                      0.0                                0.0  "
            ],
            "text/html": [
              "\n",
              "  <div id=\"df-deaba898-6346-4e6d-bda5-b2f2bae28201\" class=\"colab-df-container\">\n",
              "    <div>\n",
              "<style scoped>\n",
              "    .dataframe tbody tr th:only-of-type {\n",
              "        vertical-align: middle;\n",
              "    }\n",
              "\n",
              "    .dataframe tbody tr th {\n",
              "        vertical-align: top;\n",
              "    }\n",
              "\n",
              "    .dataframe thead th {\n",
              "        text-align: right;\n",
              "    }\n",
              "</style>\n",
              "<table border=\"1\" class=\"dataframe\">\n",
              "  <thead>\n",
              "    <tr style=\"text-align: right;\">\n",
              "      <th></th>\n",
              "      <th>loan_amount_000s</th>\n",
              "      <th>applicant_income_000s</th>\n",
              "      <th>loan_purpose_name_Home improvement</th>\n",
              "      <th>loan_purpose_name_Home purchase</th>\n",
              "      <th>loan_purpose_name_Refinancing</th>\n",
              "      <th>applicant_sex_name_Female</th>\n",
              "      <th>applicant_sex_name_Information not provided by applicant in mail, Internet, or telephone application</th>\n",
              "      <th>applicant_sex_name_Male</th>\n",
              "      <th>applicant_sex_name_Not applicable</th>\n",
              "    </tr>\n",
              "  </thead>\n",
              "  <tbody>\n",
              "    <tr>\n",
              "      <th>0</th>\n",
              "      <td>-0.130864</td>\n",
              "      <td>0.016448</td>\n",
              "      <td>0.0</td>\n",
              "      <td>0.0</td>\n",
              "      <td>1.0</td>\n",
              "      <td>1.0</td>\n",
              "      <td>0.0</td>\n",
              "      <td>0.0</td>\n",
              "      <td>0.0</td>\n",
              "    </tr>\n",
              "    <tr>\n",
              "      <th>1</th>\n",
              "      <td>-0.103680</td>\n",
              "      <td>-0.596232</td>\n",
              "      <td>0.0</td>\n",
              "      <td>1.0</td>\n",
              "      <td>0.0</td>\n",
              "      <td>0.0</td>\n",
              "      <td>0.0</td>\n",
              "      <td>1.0</td>\n",
              "      <td>0.0</td>\n",
              "    </tr>\n",
              "    <tr>\n",
              "      <th>2</th>\n",
              "      <td>-0.101589</td>\n",
              "      <td>0.024727</td>\n",
              "      <td>0.0</td>\n",
              "      <td>0.0</td>\n",
              "      <td>1.0</td>\n",
              "      <td>0.0</td>\n",
              "      <td>0.0</td>\n",
              "      <td>1.0</td>\n",
              "      <td>0.0</td>\n",
              "    </tr>\n",
              "    <tr>\n",
              "      <th>3</th>\n",
              "      <td>0.128424</td>\n",
              "      <td>1.664059</td>\n",
              "      <td>0.0</td>\n",
              "      <td>0.0</td>\n",
              "      <td>1.0</td>\n",
              "      <td>0.0</td>\n",
              "      <td>0.0</td>\n",
              "      <td>1.0</td>\n",
              "      <td>0.0</td>\n",
              "    </tr>\n",
              "    <tr>\n",
              "      <th>4</th>\n",
              "      <td>0.266432</td>\n",
              "      <td>-0.000111</td>\n",
              "      <td>1.0</td>\n",
              "      <td>0.0</td>\n",
              "      <td>0.0</td>\n",
              "      <td>1.0</td>\n",
              "      <td>0.0</td>\n",
              "      <td>0.0</td>\n",
              "      <td>0.0</td>\n",
              "    </tr>\n",
              "  </tbody>\n",
              "</table>\n",
              "</div>\n",
              "    <div class=\"colab-df-buttons\">\n",
              "\n",
              "  <div class=\"colab-df-container\">\n",
              "    <button class=\"colab-df-convert\" onclick=\"convertToInteractive('df-deaba898-6346-4e6d-bda5-b2f2bae28201')\"\n",
              "            title=\"Convert this dataframe to an interactive table.\"\n",
              "            style=\"display:none;\">\n",
              "\n",
              "  <svg xmlns=\"http://www.w3.org/2000/svg\" height=\"24px\" viewBox=\"0 -960 960 960\">\n",
              "    <path d=\"M120-120v-720h720v720H120Zm60-500h600v-160H180v160Zm220 220h160v-160H400v160Zm0 220h160v-160H400v160ZM180-400h160v-160H180v160Zm440 0h160v-160H620v160ZM180-180h160v-160H180v160Zm440 0h160v-160H620v160Z\"/>\n",
              "  </svg>\n",
              "    </button>\n",
              "\n",
              "  <style>\n",
              "    .colab-df-container {\n",
              "      display:flex;\n",
              "      gap: 12px;\n",
              "    }\n",
              "\n",
              "    .colab-df-convert {\n",
              "      background-color: #E8F0FE;\n",
              "      border: none;\n",
              "      border-radius: 50%;\n",
              "      cursor: pointer;\n",
              "      display: none;\n",
              "      fill: #1967D2;\n",
              "      height: 32px;\n",
              "      padding: 0 0 0 0;\n",
              "      width: 32px;\n",
              "    }\n",
              "\n",
              "    .colab-df-convert:hover {\n",
              "      background-color: #E2EBFA;\n",
              "      box-shadow: 0px 1px 2px rgba(60, 64, 67, 0.3), 0px 1px 3px 1px rgba(60, 64, 67, 0.15);\n",
              "      fill: #174EA6;\n",
              "    }\n",
              "\n",
              "    .colab-df-buttons div {\n",
              "      margin-bottom: 4px;\n",
              "    }\n",
              "\n",
              "    [theme=dark] .colab-df-convert {\n",
              "      background-color: #3B4455;\n",
              "      fill: #D2E3FC;\n",
              "    }\n",
              "\n",
              "    [theme=dark] .colab-df-convert:hover {\n",
              "      background-color: #434B5C;\n",
              "      box-shadow: 0px 1px 3px 1px rgba(0, 0, 0, 0.15);\n",
              "      filter: drop-shadow(0px 1px 2px rgba(0, 0, 0, 0.3));\n",
              "      fill: #FFFFFF;\n",
              "    }\n",
              "  </style>\n",
              "\n",
              "    <script>\n",
              "      const buttonEl =\n",
              "        document.querySelector('#df-deaba898-6346-4e6d-bda5-b2f2bae28201 button.colab-df-convert');\n",
              "      buttonEl.style.display =\n",
              "        google.colab.kernel.accessAllowed ? 'block' : 'none';\n",
              "\n",
              "      async function convertToInteractive(key) {\n",
              "        const element = document.querySelector('#df-deaba898-6346-4e6d-bda5-b2f2bae28201');\n",
              "        const dataTable =\n",
              "          await google.colab.kernel.invokeFunction('convertToInteractive',\n",
              "                                                    [key], {});\n",
              "        if (!dataTable) return;\n",
              "\n",
              "        const docLinkHtml = 'Like what you see? Visit the ' +\n",
              "          '<a target=\"_blank\" href=https://colab.research.google.com/notebooks/data_table.ipynb>data table notebook</a>'\n",
              "          + ' to learn more about interactive tables.';\n",
              "        element.innerHTML = '';\n",
              "        dataTable['output_type'] = 'display_data';\n",
              "        await google.colab.output.renderOutput(dataTable, element);\n",
              "        const docLink = document.createElement('div');\n",
              "        docLink.innerHTML = docLinkHtml;\n",
              "        element.appendChild(docLink);\n",
              "      }\n",
              "    </script>\n",
              "  </div>\n",
              "\n",
              "\n",
              "<div id=\"df-e59fa58e-a126-43d6-8336-7a928da225bf\">\n",
              "  <button class=\"colab-df-quickchart\" onclick=\"quickchart('df-e59fa58e-a126-43d6-8336-7a928da225bf')\"\n",
              "            title=\"Suggest charts.\"\n",
              "            style=\"display:none;\">\n",
              "\n",
              "<svg xmlns=\"http://www.w3.org/2000/svg\" height=\"24px\"viewBox=\"0 0 24 24\"\n",
              "     width=\"24px\">\n",
              "    <g>\n",
              "        <path d=\"M19 3H5c-1.1 0-2 .9-2 2v14c0 1.1.9 2 2 2h14c1.1 0 2-.9 2-2V5c0-1.1-.9-2-2-2zM9 17H7v-7h2v7zm4 0h-2V7h2v10zm4 0h-2v-4h2v4z\"/>\n",
              "    </g>\n",
              "</svg>\n",
              "  </button>\n",
              "\n",
              "<style>\n",
              "  .colab-df-quickchart {\n",
              "      --bg-color: #E8F0FE;\n",
              "      --fill-color: #1967D2;\n",
              "      --hover-bg-color: #E2EBFA;\n",
              "      --hover-fill-color: #174EA6;\n",
              "      --disabled-fill-color: #AAA;\n",
              "      --disabled-bg-color: #DDD;\n",
              "  }\n",
              "\n",
              "  [theme=dark] .colab-df-quickchart {\n",
              "      --bg-color: #3B4455;\n",
              "      --fill-color: #D2E3FC;\n",
              "      --hover-bg-color: #434B5C;\n",
              "      --hover-fill-color: #FFFFFF;\n",
              "      --disabled-bg-color: #3B4455;\n",
              "      --disabled-fill-color: #666;\n",
              "  }\n",
              "\n",
              "  .colab-df-quickchart {\n",
              "    background-color: var(--bg-color);\n",
              "    border: none;\n",
              "    border-radius: 50%;\n",
              "    cursor: pointer;\n",
              "    display: none;\n",
              "    fill: var(--fill-color);\n",
              "    height: 32px;\n",
              "    padding: 0;\n",
              "    width: 32px;\n",
              "  }\n",
              "\n",
              "  .colab-df-quickchart:hover {\n",
              "    background-color: var(--hover-bg-color);\n",
              "    box-shadow: 0 1px 2px rgba(60, 64, 67, 0.3), 0 1px 3px 1px rgba(60, 64, 67, 0.15);\n",
              "    fill: var(--button-hover-fill-color);\n",
              "  }\n",
              "\n",
              "  .colab-df-quickchart-complete:disabled,\n",
              "  .colab-df-quickchart-complete:disabled:hover {\n",
              "    background-color: var(--disabled-bg-color);\n",
              "    fill: var(--disabled-fill-color);\n",
              "    box-shadow: none;\n",
              "  }\n",
              "\n",
              "  .colab-df-spinner {\n",
              "    border: 2px solid var(--fill-color);\n",
              "    border-color: transparent;\n",
              "    border-bottom-color: var(--fill-color);\n",
              "    animation:\n",
              "      spin 1s steps(1) infinite;\n",
              "  }\n",
              "\n",
              "  @keyframes spin {\n",
              "    0% {\n",
              "      border-color: transparent;\n",
              "      border-bottom-color: var(--fill-color);\n",
              "      border-left-color: var(--fill-color);\n",
              "    }\n",
              "    20% {\n",
              "      border-color: transparent;\n",
              "      border-left-color: var(--fill-color);\n",
              "      border-top-color: var(--fill-color);\n",
              "    }\n",
              "    30% {\n",
              "      border-color: transparent;\n",
              "      border-left-color: var(--fill-color);\n",
              "      border-top-color: var(--fill-color);\n",
              "      border-right-color: var(--fill-color);\n",
              "    }\n",
              "    40% {\n",
              "      border-color: transparent;\n",
              "      border-right-color: var(--fill-color);\n",
              "      border-top-color: var(--fill-color);\n",
              "    }\n",
              "    60% {\n",
              "      border-color: transparent;\n",
              "      border-right-color: var(--fill-color);\n",
              "    }\n",
              "    80% {\n",
              "      border-color: transparent;\n",
              "      border-right-color: var(--fill-color);\n",
              "      border-bottom-color: var(--fill-color);\n",
              "    }\n",
              "    90% {\n",
              "      border-color: transparent;\n",
              "      border-bottom-color: var(--fill-color);\n",
              "    }\n",
              "  }\n",
              "</style>\n",
              "\n",
              "  <script>\n",
              "    async function quickchart(key) {\n",
              "      const quickchartButtonEl =\n",
              "        document.querySelector('#' + key + ' button');\n",
              "      quickchartButtonEl.disabled = true;  // To prevent multiple clicks.\n",
              "      quickchartButtonEl.classList.add('colab-df-spinner');\n",
              "      try {\n",
              "        const charts = await google.colab.kernel.invokeFunction(\n",
              "            'suggestCharts', [key], {});\n",
              "      } catch (error) {\n",
              "        console.error('Error during call to suggestCharts:', error);\n",
              "      }\n",
              "      quickchartButtonEl.classList.remove('colab-df-spinner');\n",
              "      quickchartButtonEl.classList.add('colab-df-quickchart-complete');\n",
              "    }\n",
              "    (() => {\n",
              "      let quickchartButtonEl =\n",
              "        document.querySelector('#df-e59fa58e-a126-43d6-8336-7a928da225bf button');\n",
              "      quickchartButtonEl.style.display =\n",
              "        google.colab.kernel.accessAllowed ? 'block' : 'none';\n",
              "    })();\n",
              "  </script>\n",
              "</div>\n",
              "    </div>\n",
              "  </div>\n"
            ]
          },
          "metadata": {},
          "execution_count": 11
        }
      ]
    },
    {
      "cell_type": "markdown",
      "metadata": {
        "id": "V27BU98X3E6U"
      },
      "source": [
        "## Question 2.C The code line below removes any NaN values in our sample with 0. NaNs are missing values that a model won't be able to understand. What is the semantic meaning of replaceing a NaN with 0 for the categorical variables? And for the continous numerical variables?\n"
      ]
    },
    {
      "cell_type": "markdown",
      "source": [
        "---\n",
        "NaN is normally used when the data is missing or undefined.\n",
        "\n",
        "**Categorical Variables**\n",
        "- When we replace NaNs with 0, we are creating a new label or value in that category that means nothing.\n",
        "- Example : if we have 0 instead of a string or vector representing a color or a day of week, or phone type it leads us to understanding that there is no color, no day, no phone number respectively, leading to misintrepretation.\n",
        "\n",
        "**Continuous Numerical Variables**\n",
        "- When we are assigning a 0 to NaN, it means that the value associated to that particular row is 0.\n",
        "- Imagine we have NaN for height, income or loan amount instead of putting missing value if we put 0, it tends to mean 0 height, 0 income and 0 loan, which is wrong.\n",
        "\n",
        "Hence we should come up with other special characters for NaNs.\n",
        "\n",
        "---\n",
        "\n"
      ],
      "metadata": {
        "id": "B2XTN63Y7EHD"
      }
    },
    {
      "cell_type": "code",
      "metadata": {
        "id": "yE3C92fwjNFA"
      },
      "source": [
        "X = X.fillna(0) # remove NaN values"
      ],
      "execution_count": 12,
      "outputs": []
    },
    {
      "cell_type": "markdown",
      "metadata": {
        "id": "D95mk5Z63zZk"
      },
      "source": [
        "## Part 2.D Create our target array y that our model will try to predict"
      ]
    },
    {
      "cell_type": "code",
      "metadata": {
        "id": "pNzjnSDSjXa-"
      },
      "source": [
        "y = df['loan_approved'] # target"
      ],
      "execution_count": 13,
      "outputs": []
    },
    {
      "cell_type": "code",
      "source": [
        "y.unique()"
      ],
      "metadata": {
        "colab": {
          "base_uri": "https://localhost:8080/"
        },
        "id": "CqUA0wXUhQK4",
        "outputId": "c124555f-8d1e-4c4c-e4a6-1b7c8ecfc291"
      },
      "execution_count": 14,
      "outputs": [
        {
          "output_type": "execute_result",
          "data": {
            "text/plain": [
              "array([1, 0])"
            ]
          },
          "metadata": {},
          "execution_count": 14
        }
      ]
    },
    {
      "cell_type": "markdown",
      "metadata": {
        "id": "JCYmmv8m4EEe"
      },
      "source": [
        "## Part 2.E Split our data into training, test, and validation sets\n",
        "Run the code below to split the data. Both validation and test sets will be used for testing our model, but use the validation set while you are developing and improving your model, and leave the test for late stage evaluation."
      ]
    },
    {
      "cell_type": "code",
      "source": [
        "y.shape"
      ],
      "metadata": {
        "colab": {
          "base_uri": "https://localhost:8080/"
        },
        "id": "Vn8TJmJ8DdER",
        "outputId": "8d9fb675-f278-4bf0-a828-6809b4773dd3"
      },
      "execution_count": 15,
      "outputs": [
        {
          "output_type": "execute_result",
          "data": {
            "text/plain": [
              "(369281,)"
            ]
          },
          "metadata": {},
          "execution_count": 15
        }
      ]
    },
    {
      "cell_type": "code",
      "metadata": {
        "colab": {
          "base_uri": "https://localhost:8080/"
        },
        "id": "hFiOuw5vkCZq",
        "outputId": "395f1ed1-cf02-48ae-f678-b6f7f49bed6a"
      },
      "source": [
        "from sklearn.model_selection import train_test_split\n",
        "X_train, X_TEMP, y_train, y_TEMP = train_test_split(X, y, test_size=0.30, random_state=43) # split out into training 70% of our data\n",
        "X_validation, X_test, y_validation, y_test = train_test_split(X_TEMP, y_TEMP, test_size=0.50) # split out into validation 15% of our data and test 15% of our data\n",
        "print(X_train.shape, X_validation.shape, X_test.shape) # print data shape to check the sizing is correct"
      ],
      "execution_count": 16,
      "outputs": [
        {
          "output_type": "stream",
          "name": "stdout",
          "text": [
            "(258496, 9) (55392, 9) (55393, 9)\n"
          ]
        }
      ]
    },
    {
      "cell_type": "markdown",
      "metadata": {
        "id": "W99UMiOJ4NqU"
      },
      "source": [
        "## Question 2.E: In a single sentence, what is the difference between train, test, and validation sets?\n",
        "Post your response below."
      ]
    },
    {
      "cell_type": "code",
      "metadata": {
        "id": "VLoa64r14Rd4",
        "colab": {
          "base_uri": "https://localhost:8080/",
          "height": 53
        },
        "outputId": "eb630092-b240-4f4d-a403-6b6335065908"
      },
      "source": [
        "'''\n",
        "The train set is used to train a machine learning model on seen data, the validation set is used for model fine-tuning on unseen data during training, and the test set is\n",
        "used to evaluate the model's performance on a separate set of unseen data, which it hasn't been trained on.\n",
        "'''"
      ],
      "execution_count": 17,
      "outputs": [
        {
          "output_type": "execute_result",
          "data": {
            "text/plain": [
              "\"\\nThe train set is used to train a machine learning model on seen data, the validation set is used for model fine-tuning on unseen data during training, and the test set is\\nused to evaluate the model's performance on a separate set of unseen data, which it hasn't been trained on.\\n\""
            ],
            "application/vnd.google.colaboratory.intrinsic+json": {
              "type": "string"
            }
          },
          "metadata": {},
          "execution_count": 17
        }
      ]
    },
    {
      "cell_type": "markdown",
      "metadata": {
        "id": "hsoSi3784XJw"
      },
      "source": [
        "# Part 3. Developing Models\n",
        "Scikit-learn has a substantial library of different models we can use for classification. Below are implemented two of the most simple classification models, Logistic Regression and Dummy Classifier."
      ]
    },
    {
      "cell_type": "code",
      "metadata": {
        "id": "8uDNQuG3kb-1"
      },
      "source": [
        "from sklearn.metrics import confusion_matrix\n",
        "from sklearn.metrics import classification_report\n",
        "\n",
        "# helper method to print basic model metrics\n",
        "def metrics(y_true, y_pred):\n",
        "    print('Confusion matrix:\\n', confusion_matrix(y_true, y_pred))\n",
        "    print('\\nReport:\\n', classification_report(y_true, y_pred))"
      ],
      "execution_count": 18,
      "outputs": []
    },
    {
      "cell_type": "code",
      "source": [
        "y_train.unique()"
      ],
      "metadata": {
        "colab": {
          "base_uri": "https://localhost:8080/"
        },
        "id": "hgXU2RvL2S4U",
        "outputId": "6729261b-41cb-4ef2-a900-9651b17d6a9e"
      },
      "execution_count": 19,
      "outputs": [
        {
          "output_type": "execute_result",
          "data": {
            "text/plain": [
              "array([1, 0])"
            ]
          },
          "metadata": {},
          "execution_count": 19
        }
      ]
    },
    {
      "cell_type": "code",
      "source": [
        "from sklearn.linear_model import LogisticRegression\n",
        "\n",
        "model = LogisticRegression(solver='lbfgs').fit(X_train, y_train) # first fit (train) the model\n",
        "y_pred = model.predict(X_validation) # next get the model's predictions for a sample in the validation set\n",
        "metrics(y_validation, y_pred) # finally evaluate performance"
      ],
      "metadata": {
        "colab": {
          "base_uri": "https://localhost:8080/"
        },
        "id": "5sA2xRrEIGWa",
        "outputId": "0571bdd5-1d91-4f8e-9b91-d57e0fe1edd9"
      },
      "execution_count": 20,
      "outputs": [
        {
          "output_type": "stream",
          "name": "stdout",
          "text": [
            "Confusion matrix:\n",
            " [[    0  9085]\n",
            " [    0 46307]]\n",
            "\n",
            "Report:\n",
            "               precision    recall  f1-score   support\n",
            "\n",
            "           0       0.00      0.00      0.00      9085\n",
            "           1       0.84      1.00      0.91     46307\n",
            "\n",
            "    accuracy                           0.84     55392\n",
            "   macro avg       0.42      0.50      0.46     55392\n",
            "weighted avg       0.70      0.84      0.76     55392\n",
            "\n"
          ]
        },
        {
          "output_type": "stream",
          "name": "stderr",
          "text": [
            "/usr/local/lib/python3.10/dist-packages/sklearn/metrics/_classification.py:1344: UndefinedMetricWarning: Precision and F-score are ill-defined and being set to 0.0 in labels with no predicted samples. Use `zero_division` parameter to control this behavior.\n",
            "  _warn_prf(average, modifier, msg_start, len(result))\n",
            "/usr/local/lib/python3.10/dist-packages/sklearn/metrics/_classification.py:1344: UndefinedMetricWarning: Precision and F-score are ill-defined and being set to 0.0 in labels with no predicted samples. Use `zero_division` parameter to control this behavior.\n",
            "  _warn_prf(average, modifier, msg_start, len(result))\n",
            "/usr/local/lib/python3.10/dist-packages/sklearn/metrics/_classification.py:1344: UndefinedMetricWarning: Precision and F-score are ill-defined and being set to 0.0 in labels with no predicted samples. Use `zero_division` parameter to control this behavior.\n",
            "  _warn_prf(average, modifier, msg_start, len(result))\n"
          ]
        }
      ]
    },
    {
      "cell_type": "markdown",
      "metadata": {
        "id": "Mz3EPQyq4zEs"
      },
      "source": [
        "The Dummy Classifier is a 'dummy' because it is going to use zero machine learning, and simply predict \"approve this loan\" (value 1) for every loan it sees."
      ]
    },
    {
      "cell_type": "code",
      "metadata": {
        "colab": {
          "base_uri": "https://localhost:8080/"
        },
        "id": "-bjl6KLhlAbx",
        "outputId": "892076af-56f2-4210-9d32-12550dfcc99d"
      },
      "source": [
        "from sklearn.dummy import DummyClassifier\n",
        "\n",
        "approve_everyone = DummyClassifier(strategy='constant', constant = 1).fit(X_train, y_train) # first fit (train) the model\n",
        "y_pred_dummy = approve_everyone.predict(X_validation) # next get the model's predictions for a sample in the validation set\n",
        "metrics(y_validation, y_pred_dummy) # finally evaluate performance"
      ],
      "execution_count": 21,
      "outputs": [
        {
          "output_type": "stream",
          "name": "stdout",
          "text": [
            "Confusion matrix:\n",
            " [[    0  9085]\n",
            " [    0 46307]]\n"
          ]
        },
        {
          "output_type": "stream",
          "name": "stderr",
          "text": [
            "/usr/local/lib/python3.10/dist-packages/sklearn/metrics/_classification.py:1344: UndefinedMetricWarning: Precision and F-score are ill-defined and being set to 0.0 in labels with no predicted samples. Use `zero_division` parameter to control this behavior.\n",
            "  _warn_prf(average, modifier, msg_start, len(result))\n",
            "/usr/local/lib/python3.10/dist-packages/sklearn/metrics/_classification.py:1344: UndefinedMetricWarning: Precision and F-score are ill-defined and being set to 0.0 in labels with no predicted samples. Use `zero_division` parameter to control this behavior.\n",
            "  _warn_prf(average, modifier, msg_start, len(result))\n"
          ]
        },
        {
          "output_type": "stream",
          "name": "stdout",
          "text": [
            "\n",
            "Report:\n",
            "               precision    recall  f1-score   support\n",
            "\n",
            "           0       0.00      0.00      0.00      9085\n",
            "           1       0.84      1.00      0.91     46307\n",
            "\n",
            "    accuracy                           0.84     55392\n",
            "   macro avg       0.42      0.50      0.46     55392\n",
            "weighted avg       0.70      0.84      0.76     55392\n",
            "\n"
          ]
        },
        {
          "output_type": "stream",
          "name": "stderr",
          "text": [
            "/usr/local/lib/python3.10/dist-packages/sklearn/metrics/_classification.py:1344: UndefinedMetricWarning: Precision and F-score are ill-defined and being set to 0.0 in labels with no predicted samples. Use `zero_division` parameter to control this behavior.\n",
            "  _warn_prf(average, modifier, msg_start, len(result))\n"
          ]
        }
      ]
    },
    {
      "cell_type": "markdown",
      "metadata": {
        "id": "kWDQb9RD47WM"
      },
      "source": [
        "## Question 3.A: Considering only the data itself, why do Logistic Regression and the Dummy Classifier perform the same? What is the semantic meaning for why Dummy Classifier has such high accuracy?\n",
        "Show your work below."
      ]
    },
    {
      "cell_type": "markdown",
      "source": [
        "---\n",
        "\n",
        "\n",
        "- Logistic Regression : The model predicts everything to be in label 1 (loan approved), as we see from the confusion matrix there isnt a single case where the model predicts 0 as the outcome.\n",
        "\n",
        "- Dummy classifier, always predicts as 1 and there is only one label (1) that is present in the entire dataset.\n",
        "\n",
        "\n",
        "- Logistitc regression and dummy classifier perform same way because both of them predict 1 as the output no matter what the input is.\n",
        "\n",
        "- Dummy Classifier has such high accuracy because of class imbalance, we see that there are 8938 (loan_approved = 0[19%]) and 46454 (load_approved = 1 [81%])\n",
        "---"
      ],
      "metadata": {
        "id": "wSbjk8_YTO8z"
      }
    },
    {
      "cell_type": "markdown",
      "source": [],
      "metadata": {
        "id": "BPmkKhOa3v95"
      }
    },
    {
      "cell_type": "code",
      "source": [
        "def count_each_label(combined_data_dup):\n",
        "  print(f\"Threshold = {int(combined_data_dup.shape[0]/2)}\")\n",
        "  approved = len(combined_data_dup[combined_data_dup['loan_approved'] == 1])\n",
        "  not_approved = len(combined_data_dup[combined_data_dup['loan_approved'] == 0])\n",
        "  print('--------------------------------------')\n",
        "  print(f\"Loan Approved Count = {approved}\")\n",
        "  print(f\"Loan Not Approved Count = {not_approved}\")\n",
        "  print(f\"Current Different = {abs(approved-not_approved)}\")\n",
        "  print(\"reduce approved\") if approved > not_approved else print('reduce not approved')\n",
        "  print('--------------------------------------')\n",
        "  get_combined_counts_denial(combined_data_dup)"
      ],
      "metadata": {
        "id": "dZ-GNMef3xWr"
      },
      "execution_count": 22,
      "outputs": []
    },
    {
      "cell_type": "markdown",
      "metadata": {
        "id": "dZ5HYHODlG-R"
      },
      "source": [
        "# **Part 4: Your turn!** ( Under Sampling )\n",
        "\n",
        "## Task 4.A: Create a new balanced dataset where exactly half of the samples are rejected loan applications and half are accepted loan application.\n",
        "\n",
        "show your work below"
      ]
    },
    {
      "cell_type": "code",
      "source": [
        "count_each_label(df)"
      ],
      "metadata": {
        "colab": {
          "base_uri": "https://localhost:8080/"
        },
        "id": "AmpZ5UpD6YFL",
        "outputId": "d89069e9-3b05-4bbe-ac53-614e71dd51c1"
      },
      "execution_count": 23,
      "outputs": [
        {
          "output_type": "stream",
          "name": "stdout",
          "text": [
            "Threshold = 184640\n",
            "--------------------------------------\n",
            "Loan Approved Count = 308901\n",
            "Loan Not Approved Count = 60380\n",
            "Current Different = 248521\n",
            "reduce approved\n",
            "--------------------------------------\n",
            "Debt-to-income ratio                              9365\n",
            "Credit history                                    8531\n",
            "Credit application incomplete                     6017\n",
            "Collateral                                        5783\n",
            "Other                                             5314\n",
            "Unverifiable information                          1951\n",
            "Insufficient cash (downpayment, closing costs)    1894\n",
            "Employment history                                 825\n",
            "Mortgage insurance denied                           47\n",
            "dtype: int64\n"
          ]
        }
      ]
    },
    {
      "cell_type": "code",
      "source": [
        "import random\n",
        "\n",
        "# Assuming 'df' is your DataFrame and 'loan_approved' is your binary label column\n",
        "indices_label_0 = df[df['loan_approved'] == 0].index\n",
        "indices_label_1 = df[df['loan_approved'] == 1].index\n",
        "\n",
        "# Randomly sample the same number of samples from label 1\n",
        "indices_label_1_sampled = random.sample(indices_label_1.tolist(), len(indices_label_0))\n",
        "\n",
        "# Combine the indices from both classes\n",
        "balanced_indices = indices_label_0.tolist() + indices_label_1_sampled\n",
        "\n",
        "# Create a balanced dataset\n",
        "balanced_df = df.loc[balanced_indices]"
      ],
      "metadata": {
        "id": "t3Dkjv0ZR199"
      },
      "execution_count": 24,
      "outputs": []
    },
    {
      "cell_type": "code",
      "source": [
        "balanced_df.keys()"
      ],
      "metadata": {
        "colab": {
          "base_uri": "https://localhost:8080/"
        },
        "id": "f2zeSeG_K3gl",
        "outputId": "6a347196-77b8-46ea-c966-3738831048e6"
      },
      "execution_count": 140,
      "outputs": [
        {
          "output_type": "execute_result",
          "data": {
            "text/plain": [
              "Index(['town_name', 'county_name', 'loan_amount_000s', 'applicant_income_000s',\n",
              "       'property_type_name', 'occupied_by_owner', 'loan_type_name',\n",
              "       'is_hoepa_loan', 'loan_purpose_name', 'loan_approved',\n",
              "       'denial_reason_name_3', 'denial_reason_name_2', 'denial_reason_name_1',\n",
              "       'co_applicant_sex_name', 'co_applicant_race_name_5',\n",
              "       'co_applicant_race_name_4', 'co_applicant_race_name_3',\n",
              "       'co_applicant_race_name_2', 'co_applicant_race_name_1',\n",
              "       'co_applicant_ethnicity_name', 'applicant_sex_name',\n",
              "       'applicant_race_name_5', 'applicant_race_name_4',\n",
              "       'applicant_race_name_3', 'applicant_race_name_2',\n",
              "       'applicant_race_name_1', 'applicant_ethnicity_name'],\n",
              "      dtype='object')"
            ]
          },
          "metadata": {},
          "execution_count": 140
        }
      ]
    },
    {
      "cell_type": "code",
      "source": [
        "count_each_label(balanced_df)"
      ],
      "metadata": {
        "colab": {
          "base_uri": "https://localhost:8080/"
        },
        "id": "lK6PKKEJSKc1",
        "outputId": "779ebc32-9ba9-449e-b40b-0b5109be810f"
      },
      "execution_count": 25,
      "outputs": [
        {
          "output_type": "stream",
          "name": "stdout",
          "text": [
            "Threshold = 60380\n",
            "--------------------------------------\n",
            "Loan Approved Count = 60380\n",
            "Loan Not Approved Count = 60380\n",
            "Current Different = 0\n",
            "reduce not approved\n",
            "--------------------------------------\n",
            "Debt-to-income ratio                              9365\n",
            "Credit history                                    8531\n",
            "Credit application incomplete                     6017\n",
            "Collateral                                        5783\n",
            "Other                                             5314\n",
            "Unverifiable information                          1951\n",
            "Insufficient cash (downpayment, closing costs)    1894\n",
            "Employment history                                 825\n",
            "Mortgage insurance denied                           47\n",
            "dtype: int64\n"
          ]
        }
      ]
    },
    {
      "cell_type": "markdown",
      "metadata": {
        "id": "-ho9qQntlG-q"
      },
      "source": [
        "\n",
        "## Task 4.B: Below, retry training and evaluating a Logistic regression model on the updated data.\n",
        "show your work below"
      ]
    },
    {
      "cell_type": "code",
      "metadata": {
        "colab": {
          "base_uri": "https://localhost:8080/"
        },
        "outputId": "8e4e17d0-6a63-46a3-d3a3-2de1272f3f46",
        "id": "QRK9rAjsTEJq"
      },
      "source": [
        "import sklearn # import scikit-learn\n",
        "from sklearn import preprocessing # import preprocessing utilites\n",
        "\n",
        "features_cat = ['loan_purpose_name', 'applicant_sex_name']\n",
        "features_num = ['loan_amount_000s', 'applicant_income_000s']\n",
        "\n",
        "X_cat = balanced_df[features_cat]\n",
        "print (X_cat)\n",
        "X_num = balanced_df[features_num]\n",
        "print (X_num)"
      ],
      "execution_count": 26,
      "outputs": [
        {
          "output_type": "stream",
          "name": "stdout",
          "text": [
            "       loan_purpose_name applicant_sex_name\n",
            "245939       Refinancing               Male\n",
            "245944       Refinancing               Male\n",
            "245949       Refinancing               Male\n",
            "245954       Refinancing               Male\n",
            "245959  Home improvement               Male\n",
            "...                  ...                ...\n",
            "335646     Home purchase             Female\n",
            "91530      Home purchase             Female\n",
            "156875       Refinancing               Male\n",
            "51519        Refinancing               Male\n",
            "116103       Refinancing               Male\n",
            "\n",
            "[120760 rows x 2 columns]\n",
            "        loan_amount_000s  applicant_income_000s\n",
            "245939               174                  166.0\n",
            "245944               195                   92.0\n",
            "245949               119                   64.0\n",
            "245954               417                  200.0\n",
            "245959                90                    NaN\n",
            "...                  ...                    ...\n",
            "335646               450                  109.0\n",
            "91530                173                   39.0\n",
            "156875               150                  143.0\n",
            "51519                270                  111.0\n",
            "116103                32                   63.0\n",
            "\n",
            "[120760 rows x 2 columns]\n"
          ]
        }
      ]
    },
    {
      "cell_type": "code",
      "metadata": {
        "id": "WCWfECk2TEJr"
      },
      "source": [
        "enc = preprocessing.OneHotEncoder()\n",
        "enc.fit(X_cat) # fit the encoder to categories in our data\n",
        "one_hot = enc.transform(X_cat) # transform data into one hot encoded sparse array format"
      ],
      "execution_count": 27,
      "outputs": []
    },
    {
      "cell_type": "code",
      "metadata": {
        "colab": {
          "base_uri": "https://localhost:8080/",
          "height": 278
        },
        "outputId": "49915411-bf8b-48c3-eaf3-3d7070762023",
        "id": "aY5ps0s0TEJr"
      },
      "source": [
        "# Finally, put the newly encoded sparse array back into a pandas dataframe so that we can use it\n",
        "X_cat_proc = pd.DataFrame(one_hot.toarray(), columns=enc.get_feature_names_out())\n",
        "X_cat_proc.head()"
      ],
      "execution_count": 30,
      "outputs": [
        {
          "output_type": "execute_result",
          "data": {
            "text/plain": [
              "   loan_purpose_name_Home improvement  loan_purpose_name_Home purchase  \\\n",
              "0                                 0.0                              0.0   \n",
              "1                                 0.0                              0.0   \n",
              "2                                 0.0                              0.0   \n",
              "3                                 0.0                              0.0   \n",
              "4                                 1.0                              0.0   \n",
              "\n",
              "   loan_purpose_name_Refinancing  applicant_sex_name_Female  \\\n",
              "0                            1.0                        0.0   \n",
              "1                            1.0                        0.0   \n",
              "2                            1.0                        0.0   \n",
              "3                            1.0                        0.0   \n",
              "4                            0.0                        0.0   \n",
              "\n",
              "   applicant_sex_name_Information not provided by applicant in mail, Internet, or telephone application  \\\n",
              "0                                                0.0                                                      \n",
              "1                                                0.0                                                      \n",
              "2                                                0.0                                                      \n",
              "3                                                0.0                                                      \n",
              "4                                                0.0                                                      \n",
              "\n",
              "   applicant_sex_name_Male  applicant_sex_name_Not applicable  \n",
              "0                      1.0                                0.0  \n",
              "1                      1.0                                0.0  \n",
              "2                      1.0                                0.0  \n",
              "3                      1.0                                0.0  \n",
              "4                      1.0                                0.0  "
            ],
            "text/html": [
              "\n",
              "  <div id=\"df-b7e7b7b7-b904-4966-af8b-fa5810d612da\" class=\"colab-df-container\">\n",
              "    <div>\n",
              "<style scoped>\n",
              "    .dataframe tbody tr th:only-of-type {\n",
              "        vertical-align: middle;\n",
              "    }\n",
              "\n",
              "    .dataframe tbody tr th {\n",
              "        vertical-align: top;\n",
              "    }\n",
              "\n",
              "    .dataframe thead th {\n",
              "        text-align: right;\n",
              "    }\n",
              "</style>\n",
              "<table border=\"1\" class=\"dataframe\">\n",
              "  <thead>\n",
              "    <tr style=\"text-align: right;\">\n",
              "      <th></th>\n",
              "      <th>loan_purpose_name_Home improvement</th>\n",
              "      <th>loan_purpose_name_Home purchase</th>\n",
              "      <th>loan_purpose_name_Refinancing</th>\n",
              "      <th>applicant_sex_name_Female</th>\n",
              "      <th>applicant_sex_name_Information not provided by applicant in mail, Internet, or telephone application</th>\n",
              "      <th>applicant_sex_name_Male</th>\n",
              "      <th>applicant_sex_name_Not applicable</th>\n",
              "    </tr>\n",
              "  </thead>\n",
              "  <tbody>\n",
              "    <tr>\n",
              "      <th>0</th>\n",
              "      <td>0.0</td>\n",
              "      <td>0.0</td>\n",
              "      <td>1.0</td>\n",
              "      <td>0.0</td>\n",
              "      <td>0.0</td>\n",
              "      <td>1.0</td>\n",
              "      <td>0.0</td>\n",
              "    </tr>\n",
              "    <tr>\n",
              "      <th>1</th>\n",
              "      <td>0.0</td>\n",
              "      <td>0.0</td>\n",
              "      <td>1.0</td>\n",
              "      <td>0.0</td>\n",
              "      <td>0.0</td>\n",
              "      <td>1.0</td>\n",
              "      <td>0.0</td>\n",
              "    </tr>\n",
              "    <tr>\n",
              "      <th>2</th>\n",
              "      <td>0.0</td>\n",
              "      <td>0.0</td>\n",
              "      <td>1.0</td>\n",
              "      <td>0.0</td>\n",
              "      <td>0.0</td>\n",
              "      <td>1.0</td>\n",
              "      <td>0.0</td>\n",
              "    </tr>\n",
              "    <tr>\n",
              "      <th>3</th>\n",
              "      <td>0.0</td>\n",
              "      <td>0.0</td>\n",
              "      <td>1.0</td>\n",
              "      <td>0.0</td>\n",
              "      <td>0.0</td>\n",
              "      <td>1.0</td>\n",
              "      <td>0.0</td>\n",
              "    </tr>\n",
              "    <tr>\n",
              "      <th>4</th>\n",
              "      <td>1.0</td>\n",
              "      <td>0.0</td>\n",
              "      <td>0.0</td>\n",
              "      <td>0.0</td>\n",
              "      <td>0.0</td>\n",
              "      <td>1.0</td>\n",
              "      <td>0.0</td>\n",
              "    </tr>\n",
              "  </tbody>\n",
              "</table>\n",
              "</div>\n",
              "    <div class=\"colab-df-buttons\">\n",
              "\n",
              "  <div class=\"colab-df-container\">\n",
              "    <button class=\"colab-df-convert\" onclick=\"convertToInteractive('df-b7e7b7b7-b904-4966-af8b-fa5810d612da')\"\n",
              "            title=\"Convert this dataframe to an interactive table.\"\n",
              "            style=\"display:none;\">\n",
              "\n",
              "  <svg xmlns=\"http://www.w3.org/2000/svg\" height=\"24px\" viewBox=\"0 -960 960 960\">\n",
              "    <path d=\"M120-120v-720h720v720H120Zm60-500h600v-160H180v160Zm220 220h160v-160H400v160Zm0 220h160v-160H400v160ZM180-400h160v-160H180v160Zm440 0h160v-160H620v160ZM180-180h160v-160H180v160Zm440 0h160v-160H620v160Z\"/>\n",
              "  </svg>\n",
              "    </button>\n",
              "\n",
              "  <style>\n",
              "    .colab-df-container {\n",
              "      display:flex;\n",
              "      gap: 12px;\n",
              "    }\n",
              "\n",
              "    .colab-df-convert {\n",
              "      background-color: #E8F0FE;\n",
              "      border: none;\n",
              "      border-radius: 50%;\n",
              "      cursor: pointer;\n",
              "      display: none;\n",
              "      fill: #1967D2;\n",
              "      height: 32px;\n",
              "      padding: 0 0 0 0;\n",
              "      width: 32px;\n",
              "    }\n",
              "\n",
              "    .colab-df-convert:hover {\n",
              "      background-color: #E2EBFA;\n",
              "      box-shadow: 0px 1px 2px rgba(60, 64, 67, 0.3), 0px 1px 3px 1px rgba(60, 64, 67, 0.15);\n",
              "      fill: #174EA6;\n",
              "    }\n",
              "\n",
              "    .colab-df-buttons div {\n",
              "      margin-bottom: 4px;\n",
              "    }\n",
              "\n",
              "    [theme=dark] .colab-df-convert {\n",
              "      background-color: #3B4455;\n",
              "      fill: #D2E3FC;\n",
              "    }\n",
              "\n",
              "    [theme=dark] .colab-df-convert:hover {\n",
              "      background-color: #434B5C;\n",
              "      box-shadow: 0px 1px 3px 1px rgba(0, 0, 0, 0.15);\n",
              "      filter: drop-shadow(0px 1px 2px rgba(0, 0, 0, 0.3));\n",
              "      fill: #FFFFFF;\n",
              "    }\n",
              "  </style>\n",
              "\n",
              "    <script>\n",
              "      const buttonEl =\n",
              "        document.querySelector('#df-b7e7b7b7-b904-4966-af8b-fa5810d612da button.colab-df-convert');\n",
              "      buttonEl.style.display =\n",
              "        google.colab.kernel.accessAllowed ? 'block' : 'none';\n",
              "\n",
              "      async function convertToInteractive(key) {\n",
              "        const element = document.querySelector('#df-b7e7b7b7-b904-4966-af8b-fa5810d612da');\n",
              "        const dataTable =\n",
              "          await google.colab.kernel.invokeFunction('convertToInteractive',\n",
              "                                                    [key], {});\n",
              "        if (!dataTable) return;\n",
              "\n",
              "        const docLinkHtml = 'Like what you see? Visit the ' +\n",
              "          '<a target=\"_blank\" href=https://colab.research.google.com/notebooks/data_table.ipynb>data table notebook</a>'\n",
              "          + ' to learn more about interactive tables.';\n",
              "        element.innerHTML = '';\n",
              "        dataTable['output_type'] = 'display_data';\n",
              "        await google.colab.output.renderOutput(dataTable, element);\n",
              "        const docLink = document.createElement('div');\n",
              "        docLink.innerHTML = docLinkHtml;\n",
              "        element.appendChild(docLink);\n",
              "      }\n",
              "    </script>\n",
              "  </div>\n",
              "\n",
              "\n",
              "<div id=\"df-f29c0422-c7ef-4586-9a6b-39af5eb3305d\">\n",
              "  <button class=\"colab-df-quickchart\" onclick=\"quickchart('df-f29c0422-c7ef-4586-9a6b-39af5eb3305d')\"\n",
              "            title=\"Suggest charts.\"\n",
              "            style=\"display:none;\">\n",
              "\n",
              "<svg xmlns=\"http://www.w3.org/2000/svg\" height=\"24px\"viewBox=\"0 0 24 24\"\n",
              "     width=\"24px\">\n",
              "    <g>\n",
              "        <path d=\"M19 3H5c-1.1 0-2 .9-2 2v14c0 1.1.9 2 2 2h14c1.1 0 2-.9 2-2V5c0-1.1-.9-2-2-2zM9 17H7v-7h2v7zm4 0h-2V7h2v10zm4 0h-2v-4h2v4z\"/>\n",
              "    </g>\n",
              "</svg>\n",
              "  </button>\n",
              "\n",
              "<style>\n",
              "  .colab-df-quickchart {\n",
              "      --bg-color: #E8F0FE;\n",
              "      --fill-color: #1967D2;\n",
              "      --hover-bg-color: #E2EBFA;\n",
              "      --hover-fill-color: #174EA6;\n",
              "      --disabled-fill-color: #AAA;\n",
              "      --disabled-bg-color: #DDD;\n",
              "  }\n",
              "\n",
              "  [theme=dark] .colab-df-quickchart {\n",
              "      --bg-color: #3B4455;\n",
              "      --fill-color: #D2E3FC;\n",
              "      --hover-bg-color: #434B5C;\n",
              "      --hover-fill-color: #FFFFFF;\n",
              "      --disabled-bg-color: #3B4455;\n",
              "      --disabled-fill-color: #666;\n",
              "  }\n",
              "\n",
              "  .colab-df-quickchart {\n",
              "    background-color: var(--bg-color);\n",
              "    border: none;\n",
              "    border-radius: 50%;\n",
              "    cursor: pointer;\n",
              "    display: none;\n",
              "    fill: var(--fill-color);\n",
              "    height: 32px;\n",
              "    padding: 0;\n",
              "    width: 32px;\n",
              "  }\n",
              "\n",
              "  .colab-df-quickchart:hover {\n",
              "    background-color: var(--hover-bg-color);\n",
              "    box-shadow: 0 1px 2px rgba(60, 64, 67, 0.3), 0 1px 3px 1px rgba(60, 64, 67, 0.15);\n",
              "    fill: var(--button-hover-fill-color);\n",
              "  }\n",
              "\n",
              "  .colab-df-quickchart-complete:disabled,\n",
              "  .colab-df-quickchart-complete:disabled:hover {\n",
              "    background-color: var(--disabled-bg-color);\n",
              "    fill: var(--disabled-fill-color);\n",
              "    box-shadow: none;\n",
              "  }\n",
              "\n",
              "  .colab-df-spinner {\n",
              "    border: 2px solid var(--fill-color);\n",
              "    border-color: transparent;\n",
              "    border-bottom-color: var(--fill-color);\n",
              "    animation:\n",
              "      spin 1s steps(1) infinite;\n",
              "  }\n",
              "\n",
              "  @keyframes spin {\n",
              "    0% {\n",
              "      border-color: transparent;\n",
              "      border-bottom-color: var(--fill-color);\n",
              "      border-left-color: var(--fill-color);\n",
              "    }\n",
              "    20% {\n",
              "      border-color: transparent;\n",
              "      border-left-color: var(--fill-color);\n",
              "      border-top-color: var(--fill-color);\n",
              "    }\n",
              "    30% {\n",
              "      border-color: transparent;\n",
              "      border-left-color: var(--fill-color);\n",
              "      border-top-color: var(--fill-color);\n",
              "      border-right-color: var(--fill-color);\n",
              "    }\n",
              "    40% {\n",
              "      border-color: transparent;\n",
              "      border-right-color: var(--fill-color);\n",
              "      border-top-color: var(--fill-color);\n",
              "    }\n",
              "    60% {\n",
              "      border-color: transparent;\n",
              "      border-right-color: var(--fill-color);\n",
              "    }\n",
              "    80% {\n",
              "      border-color: transparent;\n",
              "      border-right-color: var(--fill-color);\n",
              "      border-bottom-color: var(--fill-color);\n",
              "    }\n",
              "    90% {\n",
              "      border-color: transparent;\n",
              "      border-bottom-color: var(--fill-color);\n",
              "    }\n",
              "  }\n",
              "</style>\n",
              "\n",
              "  <script>\n",
              "    async function quickchart(key) {\n",
              "      const quickchartButtonEl =\n",
              "        document.querySelector('#' + key + ' button');\n",
              "      quickchartButtonEl.disabled = true;  // To prevent multiple clicks.\n",
              "      quickchartButtonEl.classList.add('colab-df-spinner');\n",
              "      try {\n",
              "        const charts = await google.colab.kernel.invokeFunction(\n",
              "            'suggestCharts', [key], {});\n",
              "      } catch (error) {\n",
              "        console.error('Error during call to suggestCharts:', error);\n",
              "      }\n",
              "      quickchartButtonEl.classList.remove('colab-df-spinner');\n",
              "      quickchartButtonEl.classList.add('colab-df-quickchart-complete');\n",
              "    }\n",
              "    (() => {\n",
              "      let quickchartButtonEl =\n",
              "        document.querySelector('#df-f29c0422-c7ef-4586-9a6b-39af5eb3305d button');\n",
              "      quickchartButtonEl.style.display =\n",
              "        google.colab.kernel.accessAllowed ? 'block' : 'none';\n",
              "    })();\n",
              "  </script>\n",
              "</div>\n",
              "    </div>\n",
              "  </div>\n"
            ]
          },
          "metadata": {},
          "execution_count": 30
        }
      ]
    },
    {
      "cell_type": "code",
      "metadata": {
        "colab": {
          "base_uri": "https://localhost:8080/",
          "height": 206
        },
        "outputId": "c9175ab7-8efe-48e4-e6b6-d9cb97e0571d",
        "id": "rPYdw1SrTEJr"
      },
      "source": [
        "scaled = preprocessing.scale(X_num)\n",
        "X_num_proc = pd.DataFrame(scaled, columns=features_num)\n",
        "X_num_proc.head()"
      ],
      "execution_count": 31,
      "outputs": [
        {
          "output_type": "execute_result",
          "data": {
            "text/plain": [
              "   loan_amount_000s  applicant_income_000s\n",
              "0         -0.163551               0.450926\n",
              "1         -0.130510              -0.119654\n",
              "2         -0.250087              -0.335550\n",
              "3          0.218779               0.713085\n",
              "4         -0.295715                    NaN"
            ],
            "text/html": [
              "\n",
              "  <div id=\"df-ddff3d52-c5c5-46de-a5bc-b3e6aea908fa\" class=\"colab-df-container\">\n",
              "    <div>\n",
              "<style scoped>\n",
              "    .dataframe tbody tr th:only-of-type {\n",
              "        vertical-align: middle;\n",
              "    }\n",
              "\n",
              "    .dataframe tbody tr th {\n",
              "        vertical-align: top;\n",
              "    }\n",
              "\n",
              "    .dataframe thead th {\n",
              "        text-align: right;\n",
              "    }\n",
              "</style>\n",
              "<table border=\"1\" class=\"dataframe\">\n",
              "  <thead>\n",
              "    <tr style=\"text-align: right;\">\n",
              "      <th></th>\n",
              "      <th>loan_amount_000s</th>\n",
              "      <th>applicant_income_000s</th>\n",
              "    </tr>\n",
              "  </thead>\n",
              "  <tbody>\n",
              "    <tr>\n",
              "      <th>0</th>\n",
              "      <td>-0.163551</td>\n",
              "      <td>0.450926</td>\n",
              "    </tr>\n",
              "    <tr>\n",
              "      <th>1</th>\n",
              "      <td>-0.130510</td>\n",
              "      <td>-0.119654</td>\n",
              "    </tr>\n",
              "    <tr>\n",
              "      <th>2</th>\n",
              "      <td>-0.250087</td>\n",
              "      <td>-0.335550</td>\n",
              "    </tr>\n",
              "    <tr>\n",
              "      <th>3</th>\n",
              "      <td>0.218779</td>\n",
              "      <td>0.713085</td>\n",
              "    </tr>\n",
              "    <tr>\n",
              "      <th>4</th>\n",
              "      <td>-0.295715</td>\n",
              "      <td>NaN</td>\n",
              "    </tr>\n",
              "  </tbody>\n",
              "</table>\n",
              "</div>\n",
              "    <div class=\"colab-df-buttons\">\n",
              "\n",
              "  <div class=\"colab-df-container\">\n",
              "    <button class=\"colab-df-convert\" onclick=\"convertToInteractive('df-ddff3d52-c5c5-46de-a5bc-b3e6aea908fa')\"\n",
              "            title=\"Convert this dataframe to an interactive table.\"\n",
              "            style=\"display:none;\">\n",
              "\n",
              "  <svg xmlns=\"http://www.w3.org/2000/svg\" height=\"24px\" viewBox=\"0 -960 960 960\">\n",
              "    <path d=\"M120-120v-720h720v720H120Zm60-500h600v-160H180v160Zm220 220h160v-160H400v160Zm0 220h160v-160H400v160ZM180-400h160v-160H180v160Zm440 0h160v-160H620v160ZM180-180h160v-160H180v160Zm440 0h160v-160H620v160Z\"/>\n",
              "  </svg>\n",
              "    </button>\n",
              "\n",
              "  <style>\n",
              "    .colab-df-container {\n",
              "      display:flex;\n",
              "      gap: 12px;\n",
              "    }\n",
              "\n",
              "    .colab-df-convert {\n",
              "      background-color: #E8F0FE;\n",
              "      border: none;\n",
              "      border-radius: 50%;\n",
              "      cursor: pointer;\n",
              "      display: none;\n",
              "      fill: #1967D2;\n",
              "      height: 32px;\n",
              "      padding: 0 0 0 0;\n",
              "      width: 32px;\n",
              "    }\n",
              "\n",
              "    .colab-df-convert:hover {\n",
              "      background-color: #E2EBFA;\n",
              "      box-shadow: 0px 1px 2px rgba(60, 64, 67, 0.3), 0px 1px 3px 1px rgba(60, 64, 67, 0.15);\n",
              "      fill: #174EA6;\n",
              "    }\n",
              "\n",
              "    .colab-df-buttons div {\n",
              "      margin-bottom: 4px;\n",
              "    }\n",
              "\n",
              "    [theme=dark] .colab-df-convert {\n",
              "      background-color: #3B4455;\n",
              "      fill: #D2E3FC;\n",
              "    }\n",
              "\n",
              "    [theme=dark] .colab-df-convert:hover {\n",
              "      background-color: #434B5C;\n",
              "      box-shadow: 0px 1px 3px 1px rgba(0, 0, 0, 0.15);\n",
              "      filter: drop-shadow(0px 1px 2px rgba(0, 0, 0, 0.3));\n",
              "      fill: #FFFFFF;\n",
              "    }\n",
              "  </style>\n",
              "\n",
              "    <script>\n",
              "      const buttonEl =\n",
              "        document.querySelector('#df-ddff3d52-c5c5-46de-a5bc-b3e6aea908fa button.colab-df-convert');\n",
              "      buttonEl.style.display =\n",
              "        google.colab.kernel.accessAllowed ? 'block' : 'none';\n",
              "\n",
              "      async function convertToInteractive(key) {\n",
              "        const element = document.querySelector('#df-ddff3d52-c5c5-46de-a5bc-b3e6aea908fa');\n",
              "        const dataTable =\n",
              "          await google.colab.kernel.invokeFunction('convertToInteractive',\n",
              "                                                    [key], {});\n",
              "        if (!dataTable) return;\n",
              "\n",
              "        const docLinkHtml = 'Like what you see? Visit the ' +\n",
              "          '<a target=\"_blank\" href=https://colab.research.google.com/notebooks/data_table.ipynb>data table notebook</a>'\n",
              "          + ' to learn more about interactive tables.';\n",
              "        element.innerHTML = '';\n",
              "        dataTable['output_type'] = 'display_data';\n",
              "        await google.colab.output.renderOutput(dataTable, element);\n",
              "        const docLink = document.createElement('div');\n",
              "        docLink.innerHTML = docLinkHtml;\n",
              "        element.appendChild(docLink);\n",
              "      }\n",
              "    </script>\n",
              "  </div>\n",
              "\n",
              "\n",
              "<div id=\"df-a4eb8fa6-ea37-4bbc-9c00-0084491e17c0\">\n",
              "  <button class=\"colab-df-quickchart\" onclick=\"quickchart('df-a4eb8fa6-ea37-4bbc-9c00-0084491e17c0')\"\n",
              "            title=\"Suggest charts.\"\n",
              "            style=\"display:none;\">\n",
              "\n",
              "<svg xmlns=\"http://www.w3.org/2000/svg\" height=\"24px\"viewBox=\"0 0 24 24\"\n",
              "     width=\"24px\">\n",
              "    <g>\n",
              "        <path d=\"M19 3H5c-1.1 0-2 .9-2 2v14c0 1.1.9 2 2 2h14c1.1 0 2-.9 2-2V5c0-1.1-.9-2-2-2zM9 17H7v-7h2v7zm4 0h-2V7h2v10zm4 0h-2v-4h2v4z\"/>\n",
              "    </g>\n",
              "</svg>\n",
              "  </button>\n",
              "\n",
              "<style>\n",
              "  .colab-df-quickchart {\n",
              "      --bg-color: #E8F0FE;\n",
              "      --fill-color: #1967D2;\n",
              "      --hover-bg-color: #E2EBFA;\n",
              "      --hover-fill-color: #174EA6;\n",
              "      --disabled-fill-color: #AAA;\n",
              "      --disabled-bg-color: #DDD;\n",
              "  }\n",
              "\n",
              "  [theme=dark] .colab-df-quickchart {\n",
              "      --bg-color: #3B4455;\n",
              "      --fill-color: #D2E3FC;\n",
              "      --hover-bg-color: #434B5C;\n",
              "      --hover-fill-color: #FFFFFF;\n",
              "      --disabled-bg-color: #3B4455;\n",
              "      --disabled-fill-color: #666;\n",
              "  }\n",
              "\n",
              "  .colab-df-quickchart {\n",
              "    background-color: var(--bg-color);\n",
              "    border: none;\n",
              "    border-radius: 50%;\n",
              "    cursor: pointer;\n",
              "    display: none;\n",
              "    fill: var(--fill-color);\n",
              "    height: 32px;\n",
              "    padding: 0;\n",
              "    width: 32px;\n",
              "  }\n",
              "\n",
              "  .colab-df-quickchart:hover {\n",
              "    background-color: var(--hover-bg-color);\n",
              "    box-shadow: 0 1px 2px rgba(60, 64, 67, 0.3), 0 1px 3px 1px rgba(60, 64, 67, 0.15);\n",
              "    fill: var(--button-hover-fill-color);\n",
              "  }\n",
              "\n",
              "  .colab-df-quickchart-complete:disabled,\n",
              "  .colab-df-quickchart-complete:disabled:hover {\n",
              "    background-color: var(--disabled-bg-color);\n",
              "    fill: var(--disabled-fill-color);\n",
              "    box-shadow: none;\n",
              "  }\n",
              "\n",
              "  .colab-df-spinner {\n",
              "    border: 2px solid var(--fill-color);\n",
              "    border-color: transparent;\n",
              "    border-bottom-color: var(--fill-color);\n",
              "    animation:\n",
              "      spin 1s steps(1) infinite;\n",
              "  }\n",
              "\n",
              "  @keyframes spin {\n",
              "    0% {\n",
              "      border-color: transparent;\n",
              "      border-bottom-color: var(--fill-color);\n",
              "      border-left-color: var(--fill-color);\n",
              "    }\n",
              "    20% {\n",
              "      border-color: transparent;\n",
              "      border-left-color: var(--fill-color);\n",
              "      border-top-color: var(--fill-color);\n",
              "    }\n",
              "    30% {\n",
              "      border-color: transparent;\n",
              "      border-left-color: var(--fill-color);\n",
              "      border-top-color: var(--fill-color);\n",
              "      border-right-color: var(--fill-color);\n",
              "    }\n",
              "    40% {\n",
              "      border-color: transparent;\n",
              "      border-right-color: var(--fill-color);\n",
              "      border-top-color: var(--fill-color);\n",
              "    }\n",
              "    60% {\n",
              "      border-color: transparent;\n",
              "      border-right-color: var(--fill-color);\n",
              "    }\n",
              "    80% {\n",
              "      border-color: transparent;\n",
              "      border-right-color: var(--fill-color);\n",
              "      border-bottom-color: var(--fill-color);\n",
              "    }\n",
              "    90% {\n",
              "      border-color: transparent;\n",
              "      border-bottom-color: var(--fill-color);\n",
              "    }\n",
              "  }\n",
              "</style>\n",
              "\n",
              "  <script>\n",
              "    async function quickchart(key) {\n",
              "      const quickchartButtonEl =\n",
              "        document.querySelector('#' + key + ' button');\n",
              "      quickchartButtonEl.disabled = true;  // To prevent multiple clicks.\n",
              "      quickchartButtonEl.classList.add('colab-df-spinner');\n",
              "      try {\n",
              "        const charts = await google.colab.kernel.invokeFunction(\n",
              "            'suggestCharts', [key], {});\n",
              "      } catch (error) {\n",
              "        console.error('Error during call to suggestCharts:', error);\n",
              "      }\n",
              "      quickchartButtonEl.classList.remove('colab-df-spinner');\n",
              "      quickchartButtonEl.classList.add('colab-df-quickchart-complete');\n",
              "    }\n",
              "    (() => {\n",
              "      let quickchartButtonEl =\n",
              "        document.querySelector('#df-a4eb8fa6-ea37-4bbc-9c00-0084491e17c0 button');\n",
              "      quickchartButtonEl.style.display =\n",
              "        google.colab.kernel.accessAllowed ? 'block' : 'none';\n",
              "    })();\n",
              "  </script>\n",
              "</div>\n",
              "    </div>\n",
              "  </div>\n"
            ]
          },
          "metadata": {},
          "execution_count": 31
        }
      ]
    },
    {
      "cell_type": "code",
      "metadata": {
        "colab": {
          "base_uri": "https://localhost:8080/",
          "height": 278
        },
        "outputId": "32be5801-ed0e-458c-90d3-b08bb1499558",
        "id": "1opnwUYXTEJr"
      },
      "source": [
        "X = pd.concat([X_num_proc, X_cat_proc], axis=1, sort=False)\n",
        "X.head()"
      ],
      "execution_count": 32,
      "outputs": [
        {
          "output_type": "execute_result",
          "data": {
            "text/plain": [
              "   loan_amount_000s  applicant_income_000s  \\\n",
              "0         -0.163551               0.450926   \n",
              "1         -0.130510              -0.119654   \n",
              "2         -0.250087              -0.335550   \n",
              "3          0.218779               0.713085   \n",
              "4         -0.295715                    NaN   \n",
              "\n",
              "   loan_purpose_name_Home improvement  loan_purpose_name_Home purchase  \\\n",
              "0                                 0.0                              0.0   \n",
              "1                                 0.0                              0.0   \n",
              "2                                 0.0                              0.0   \n",
              "3                                 0.0                              0.0   \n",
              "4                                 1.0                              0.0   \n",
              "\n",
              "   loan_purpose_name_Refinancing  applicant_sex_name_Female  \\\n",
              "0                            1.0                        0.0   \n",
              "1                            1.0                        0.0   \n",
              "2                            1.0                        0.0   \n",
              "3                            1.0                        0.0   \n",
              "4                            0.0                        0.0   \n",
              "\n",
              "   applicant_sex_name_Information not provided by applicant in mail, Internet, or telephone application  \\\n",
              "0                                                0.0                                                      \n",
              "1                                                0.0                                                      \n",
              "2                                                0.0                                                      \n",
              "3                                                0.0                                                      \n",
              "4                                                0.0                                                      \n",
              "\n",
              "   applicant_sex_name_Male  applicant_sex_name_Not applicable  \n",
              "0                      1.0                                0.0  \n",
              "1                      1.0                                0.0  \n",
              "2                      1.0                                0.0  \n",
              "3                      1.0                                0.0  \n",
              "4                      1.0                                0.0  "
            ],
            "text/html": [
              "\n",
              "  <div id=\"df-8d8ea030-d276-4583-ad44-396fc73b7a1d\" class=\"colab-df-container\">\n",
              "    <div>\n",
              "<style scoped>\n",
              "    .dataframe tbody tr th:only-of-type {\n",
              "        vertical-align: middle;\n",
              "    }\n",
              "\n",
              "    .dataframe tbody tr th {\n",
              "        vertical-align: top;\n",
              "    }\n",
              "\n",
              "    .dataframe thead th {\n",
              "        text-align: right;\n",
              "    }\n",
              "</style>\n",
              "<table border=\"1\" class=\"dataframe\">\n",
              "  <thead>\n",
              "    <tr style=\"text-align: right;\">\n",
              "      <th></th>\n",
              "      <th>loan_amount_000s</th>\n",
              "      <th>applicant_income_000s</th>\n",
              "      <th>loan_purpose_name_Home improvement</th>\n",
              "      <th>loan_purpose_name_Home purchase</th>\n",
              "      <th>loan_purpose_name_Refinancing</th>\n",
              "      <th>applicant_sex_name_Female</th>\n",
              "      <th>applicant_sex_name_Information not provided by applicant in mail, Internet, or telephone application</th>\n",
              "      <th>applicant_sex_name_Male</th>\n",
              "      <th>applicant_sex_name_Not applicable</th>\n",
              "    </tr>\n",
              "  </thead>\n",
              "  <tbody>\n",
              "    <tr>\n",
              "      <th>0</th>\n",
              "      <td>-0.163551</td>\n",
              "      <td>0.450926</td>\n",
              "      <td>0.0</td>\n",
              "      <td>0.0</td>\n",
              "      <td>1.0</td>\n",
              "      <td>0.0</td>\n",
              "      <td>0.0</td>\n",
              "      <td>1.0</td>\n",
              "      <td>0.0</td>\n",
              "    </tr>\n",
              "    <tr>\n",
              "      <th>1</th>\n",
              "      <td>-0.130510</td>\n",
              "      <td>-0.119654</td>\n",
              "      <td>0.0</td>\n",
              "      <td>0.0</td>\n",
              "      <td>1.0</td>\n",
              "      <td>0.0</td>\n",
              "      <td>0.0</td>\n",
              "      <td>1.0</td>\n",
              "      <td>0.0</td>\n",
              "    </tr>\n",
              "    <tr>\n",
              "      <th>2</th>\n",
              "      <td>-0.250087</td>\n",
              "      <td>-0.335550</td>\n",
              "      <td>0.0</td>\n",
              "      <td>0.0</td>\n",
              "      <td>1.0</td>\n",
              "      <td>0.0</td>\n",
              "      <td>0.0</td>\n",
              "      <td>1.0</td>\n",
              "      <td>0.0</td>\n",
              "    </tr>\n",
              "    <tr>\n",
              "      <th>3</th>\n",
              "      <td>0.218779</td>\n",
              "      <td>0.713085</td>\n",
              "      <td>0.0</td>\n",
              "      <td>0.0</td>\n",
              "      <td>1.0</td>\n",
              "      <td>0.0</td>\n",
              "      <td>0.0</td>\n",
              "      <td>1.0</td>\n",
              "      <td>0.0</td>\n",
              "    </tr>\n",
              "    <tr>\n",
              "      <th>4</th>\n",
              "      <td>-0.295715</td>\n",
              "      <td>NaN</td>\n",
              "      <td>1.0</td>\n",
              "      <td>0.0</td>\n",
              "      <td>0.0</td>\n",
              "      <td>0.0</td>\n",
              "      <td>0.0</td>\n",
              "      <td>1.0</td>\n",
              "      <td>0.0</td>\n",
              "    </tr>\n",
              "  </tbody>\n",
              "</table>\n",
              "</div>\n",
              "    <div class=\"colab-df-buttons\">\n",
              "\n",
              "  <div class=\"colab-df-container\">\n",
              "    <button class=\"colab-df-convert\" onclick=\"convertToInteractive('df-8d8ea030-d276-4583-ad44-396fc73b7a1d')\"\n",
              "            title=\"Convert this dataframe to an interactive table.\"\n",
              "            style=\"display:none;\">\n",
              "\n",
              "  <svg xmlns=\"http://www.w3.org/2000/svg\" height=\"24px\" viewBox=\"0 -960 960 960\">\n",
              "    <path d=\"M120-120v-720h720v720H120Zm60-500h600v-160H180v160Zm220 220h160v-160H400v160Zm0 220h160v-160H400v160ZM180-400h160v-160H180v160Zm440 0h160v-160H620v160ZM180-180h160v-160H180v160Zm440 0h160v-160H620v160Z\"/>\n",
              "  </svg>\n",
              "    </button>\n",
              "\n",
              "  <style>\n",
              "    .colab-df-container {\n",
              "      display:flex;\n",
              "      gap: 12px;\n",
              "    }\n",
              "\n",
              "    .colab-df-convert {\n",
              "      background-color: #E8F0FE;\n",
              "      border: none;\n",
              "      border-radius: 50%;\n",
              "      cursor: pointer;\n",
              "      display: none;\n",
              "      fill: #1967D2;\n",
              "      height: 32px;\n",
              "      padding: 0 0 0 0;\n",
              "      width: 32px;\n",
              "    }\n",
              "\n",
              "    .colab-df-convert:hover {\n",
              "      background-color: #E2EBFA;\n",
              "      box-shadow: 0px 1px 2px rgba(60, 64, 67, 0.3), 0px 1px 3px 1px rgba(60, 64, 67, 0.15);\n",
              "      fill: #174EA6;\n",
              "    }\n",
              "\n",
              "    .colab-df-buttons div {\n",
              "      margin-bottom: 4px;\n",
              "    }\n",
              "\n",
              "    [theme=dark] .colab-df-convert {\n",
              "      background-color: #3B4455;\n",
              "      fill: #D2E3FC;\n",
              "    }\n",
              "\n",
              "    [theme=dark] .colab-df-convert:hover {\n",
              "      background-color: #434B5C;\n",
              "      box-shadow: 0px 1px 3px 1px rgba(0, 0, 0, 0.15);\n",
              "      filter: drop-shadow(0px 1px 2px rgba(0, 0, 0, 0.3));\n",
              "      fill: #FFFFFF;\n",
              "    }\n",
              "  </style>\n",
              "\n",
              "    <script>\n",
              "      const buttonEl =\n",
              "        document.querySelector('#df-8d8ea030-d276-4583-ad44-396fc73b7a1d button.colab-df-convert');\n",
              "      buttonEl.style.display =\n",
              "        google.colab.kernel.accessAllowed ? 'block' : 'none';\n",
              "\n",
              "      async function convertToInteractive(key) {\n",
              "        const element = document.querySelector('#df-8d8ea030-d276-4583-ad44-396fc73b7a1d');\n",
              "        const dataTable =\n",
              "          await google.colab.kernel.invokeFunction('convertToInteractive',\n",
              "                                                    [key], {});\n",
              "        if (!dataTable) return;\n",
              "\n",
              "        const docLinkHtml = 'Like what you see? Visit the ' +\n",
              "          '<a target=\"_blank\" href=https://colab.research.google.com/notebooks/data_table.ipynb>data table notebook</a>'\n",
              "          + ' to learn more about interactive tables.';\n",
              "        element.innerHTML = '';\n",
              "        dataTable['output_type'] = 'display_data';\n",
              "        await google.colab.output.renderOutput(dataTable, element);\n",
              "        const docLink = document.createElement('div');\n",
              "        docLink.innerHTML = docLinkHtml;\n",
              "        element.appendChild(docLink);\n",
              "      }\n",
              "    </script>\n",
              "  </div>\n",
              "\n",
              "\n",
              "<div id=\"df-db872512-bfdd-47f2-9b05-bc526ea20b46\">\n",
              "  <button class=\"colab-df-quickchart\" onclick=\"quickchart('df-db872512-bfdd-47f2-9b05-bc526ea20b46')\"\n",
              "            title=\"Suggest charts.\"\n",
              "            style=\"display:none;\">\n",
              "\n",
              "<svg xmlns=\"http://www.w3.org/2000/svg\" height=\"24px\"viewBox=\"0 0 24 24\"\n",
              "     width=\"24px\">\n",
              "    <g>\n",
              "        <path d=\"M19 3H5c-1.1 0-2 .9-2 2v14c0 1.1.9 2 2 2h14c1.1 0 2-.9 2-2V5c0-1.1-.9-2-2-2zM9 17H7v-7h2v7zm4 0h-2V7h2v10zm4 0h-2v-4h2v4z\"/>\n",
              "    </g>\n",
              "</svg>\n",
              "  </button>\n",
              "\n",
              "<style>\n",
              "  .colab-df-quickchart {\n",
              "      --bg-color: #E8F0FE;\n",
              "      --fill-color: #1967D2;\n",
              "      --hover-bg-color: #E2EBFA;\n",
              "      --hover-fill-color: #174EA6;\n",
              "      --disabled-fill-color: #AAA;\n",
              "      --disabled-bg-color: #DDD;\n",
              "  }\n",
              "\n",
              "  [theme=dark] .colab-df-quickchart {\n",
              "      --bg-color: #3B4455;\n",
              "      --fill-color: #D2E3FC;\n",
              "      --hover-bg-color: #434B5C;\n",
              "      --hover-fill-color: #FFFFFF;\n",
              "      --disabled-bg-color: #3B4455;\n",
              "      --disabled-fill-color: #666;\n",
              "  }\n",
              "\n",
              "  .colab-df-quickchart {\n",
              "    background-color: var(--bg-color);\n",
              "    border: none;\n",
              "    border-radius: 50%;\n",
              "    cursor: pointer;\n",
              "    display: none;\n",
              "    fill: var(--fill-color);\n",
              "    height: 32px;\n",
              "    padding: 0;\n",
              "    width: 32px;\n",
              "  }\n",
              "\n",
              "  .colab-df-quickchart:hover {\n",
              "    background-color: var(--hover-bg-color);\n",
              "    box-shadow: 0 1px 2px rgba(60, 64, 67, 0.3), 0 1px 3px 1px rgba(60, 64, 67, 0.15);\n",
              "    fill: var(--button-hover-fill-color);\n",
              "  }\n",
              "\n",
              "  .colab-df-quickchart-complete:disabled,\n",
              "  .colab-df-quickchart-complete:disabled:hover {\n",
              "    background-color: var(--disabled-bg-color);\n",
              "    fill: var(--disabled-fill-color);\n",
              "    box-shadow: none;\n",
              "  }\n",
              "\n",
              "  .colab-df-spinner {\n",
              "    border: 2px solid var(--fill-color);\n",
              "    border-color: transparent;\n",
              "    border-bottom-color: var(--fill-color);\n",
              "    animation:\n",
              "      spin 1s steps(1) infinite;\n",
              "  }\n",
              "\n",
              "  @keyframes spin {\n",
              "    0% {\n",
              "      border-color: transparent;\n",
              "      border-bottom-color: var(--fill-color);\n",
              "      border-left-color: var(--fill-color);\n",
              "    }\n",
              "    20% {\n",
              "      border-color: transparent;\n",
              "      border-left-color: var(--fill-color);\n",
              "      border-top-color: var(--fill-color);\n",
              "    }\n",
              "    30% {\n",
              "      border-color: transparent;\n",
              "      border-left-color: var(--fill-color);\n",
              "      border-top-color: var(--fill-color);\n",
              "      border-right-color: var(--fill-color);\n",
              "    }\n",
              "    40% {\n",
              "      border-color: transparent;\n",
              "      border-right-color: var(--fill-color);\n",
              "      border-top-color: var(--fill-color);\n",
              "    }\n",
              "    60% {\n",
              "      border-color: transparent;\n",
              "      border-right-color: var(--fill-color);\n",
              "    }\n",
              "    80% {\n",
              "      border-color: transparent;\n",
              "      border-right-color: var(--fill-color);\n",
              "      border-bottom-color: var(--fill-color);\n",
              "    }\n",
              "    90% {\n",
              "      border-color: transparent;\n",
              "      border-bottom-color: var(--fill-color);\n",
              "    }\n",
              "  }\n",
              "</style>\n",
              "\n",
              "  <script>\n",
              "    async function quickchart(key) {\n",
              "      const quickchartButtonEl =\n",
              "        document.querySelector('#' + key + ' button');\n",
              "      quickchartButtonEl.disabled = true;  // To prevent multiple clicks.\n",
              "      quickchartButtonEl.classList.add('colab-df-spinner');\n",
              "      try {\n",
              "        const charts = await google.colab.kernel.invokeFunction(\n",
              "            'suggestCharts', [key], {});\n",
              "      } catch (error) {\n",
              "        console.error('Error during call to suggestCharts:', error);\n",
              "      }\n",
              "      quickchartButtonEl.classList.remove('colab-df-spinner');\n",
              "      quickchartButtonEl.classList.add('colab-df-quickchart-complete');\n",
              "    }\n",
              "    (() => {\n",
              "      let quickchartButtonEl =\n",
              "        document.querySelector('#df-db872512-bfdd-47f2-9b05-bc526ea20b46 button');\n",
              "      quickchartButtonEl.style.display =\n",
              "        google.colab.kernel.accessAllowed ? 'block' : 'none';\n",
              "    })();\n",
              "  </script>\n",
              "</div>\n",
              "    </div>\n",
              "  </div>\n"
            ]
          },
          "metadata": {},
          "execution_count": 32
        }
      ]
    },
    {
      "cell_type": "code",
      "metadata": {
        "id": "ApzS5TP3TEJr"
      },
      "source": [
        "X = X.fillna(0) # remove NaN values"
      ],
      "execution_count": 33,
      "outputs": []
    },
    {
      "cell_type": "code",
      "metadata": {
        "id": "l4XMNmXNTEJr"
      },
      "source": [
        "y = balanced_df['loan_approved'] # target"
      ],
      "execution_count": 34,
      "outputs": []
    },
    {
      "cell_type": "code",
      "metadata": {
        "colab": {
          "base_uri": "https://localhost:8080/"
        },
        "outputId": "c0e4904f-f8b6-441d-f434-ee35f557814a",
        "id": "ybtRMntnTEJr"
      },
      "source": [
        "from sklearn.model_selection import train_test_split\n",
        "X_train, X_TEMP, y_train, y_TEMP = train_test_split(X, y, test_size=0.30) # split out into training 70% of our data\n",
        "X_validation, X_test, y_validation, y_test = train_test_split(X_TEMP, y_TEMP, test_size=0.50) # split out into validation 15% of our data and test 15% of our data\n",
        "print(X_train.shape, X_validation.shape, X_test.shape) # print data shape to check the sizing is correct"
      ],
      "execution_count": 35,
      "outputs": [
        {
          "output_type": "stream",
          "name": "stdout",
          "text": [
            "(84532, 9) (18114, 9) (18114, 9)\n"
          ]
        }
      ]
    },
    {
      "cell_type": "code",
      "metadata": {
        "id": "VsLYueZGTEJr"
      },
      "source": [
        "from sklearn.metrics import confusion_matrix\n",
        "from sklearn.metrics import classification_report\n",
        "\n",
        "# helper method to print basic model metrics\n",
        "def metrics(y_true, y_pred):\n",
        "    print('Confusion matrix:\\n', confusion_matrix(y_true, y_pred))\n",
        "    print('\\nReport:\\n', classification_report(y_true, y_pred))"
      ],
      "execution_count": 36,
      "outputs": []
    },
    {
      "cell_type": "code",
      "source": [
        "from sklearn.linear_model import LogisticRegression\n",
        "\n",
        "model = LogisticRegression(solver='lbfgs').fit(X_train, y_train) # first fit (train) the model\n",
        "y_pred = model.predict(X_validation) # next get the model's predictions for a sample in the validation set\n",
        "metrics(y_validation, y_pred) # finally evaluate performance"
      ],
      "metadata": {
        "colab": {
          "base_uri": "https://localhost:8080/"
        },
        "outputId": "18df7d36-5763-44de-c27b-58157625b2c8",
        "id": "YJOHbN16TEJr"
      },
      "execution_count": 37,
      "outputs": [
        {
          "output_type": "stream",
          "name": "stdout",
          "text": [
            "Confusion matrix:\n",
            " [[7048 1995]\n",
            " [4386 4685]]\n",
            "\n",
            "Report:\n",
            "               precision    recall  f1-score   support\n",
            "\n",
            "           0       0.62      0.78      0.69      9043\n",
            "           1       0.70      0.52      0.59      9071\n",
            "\n",
            "    accuracy                           0.65     18114\n",
            "   macro avg       0.66      0.65      0.64     18114\n",
            "weighted avg       0.66      0.65      0.64     18114\n",
            "\n"
          ]
        }
      ]
    },
    {
      "cell_type": "markdown",
      "metadata": {
        "id": "FFy8xwHVlG-r"
      },
      "source": [
        "## Task 4.C: Use your own imagination and experimentation to improve predictive performance for this task, modifying the model choices, feature choices, and data processing however you wish.\n",
        "\n",
        "Important! Your ability to improve the model above the baseline after Task 4.B will count for 10% of this assignment grade, with 5% of that given for modest improvements to performance. Thus while we encourage you to experiment, do not sink excessive time into this task. We will test the performance on our own holdout dataset.\n",
        "\n",
        "show your work below"
      ]
    },
    {
      "cell_type": "markdown",
      "source": [
        "Adding 'loan_type_name', 'loan_purpose_name', 'denial_reason_name_3','denial_reason_name_2','denial_reason_name_1' as features and generating the model"
      ],
      "metadata": {
        "id": "Af5CN02sW1X3"
      }
    },
    {
      "cell_type": "code",
      "metadata": {
        "id": "7g2vydKXTldL"
      },
      "source": [
        "def preprocessing_data_X_y(data, features_cat, features_num):\n",
        "\n",
        "  X_cat = data[features_cat]\n",
        "  X_num = data[features_num]\n",
        "  enc = preprocessing.OneHotEncoder()\n",
        "  enc.fit(X_cat) # fit the encoder to categories in our data\n",
        "  one_hot = enc.transform(X_cat) # transform data into one hot encoded sparse array format\n",
        "  # Finally, put the newly encoded sparse array back into a pandas dataframe so that we can use it\n",
        "  X_cat_proc = pd.DataFrame(one_hot.toarray(), columns=enc.get_feature_names_out())\n",
        "  X_cat_proc.head()\n",
        "  scaled = preprocessing.scale(X_num)\n",
        "  X_num_proc = pd.DataFrame(scaled, columns=features_num)\n",
        "  X_num_proc.head()\n",
        "  X = pd.concat([X_num_proc, X_cat_proc], axis=1, sort=False)\n",
        "  X.head()\n",
        "  X = X.fillna(0) # remove NaN values\n",
        "  y = data['loan_approved'] # target\n",
        "  return X, y"
      ],
      "execution_count": 38,
      "outputs": []
    },
    {
      "cell_type": "code",
      "metadata": {
        "id": "ET5W6XTJTldL"
      },
      "source": [
        "features_cat = ['loan_purpose_name', 'applicant_sex_name', 'loan_type_name', 'loan_purpose_name', 'denial_reason_name_3','denial_reason_name_2','denial_reason_name_1']\n",
        "features_num = ['loan_amount_000s', 'applicant_income_000s']\n",
        "X, y = preprocessing_data_X_y(balanced_df, features_cat, features_num)"
      ],
      "execution_count": 39,
      "outputs": []
    },
    {
      "cell_type": "code",
      "source": [
        "from sklearn.model_selection import train_test_split\n",
        "X_train, X_TEMP, y_train, y_TEMP = train_test_split(X, y, test_size=0.30) # split out into training 70% of our data\n",
        "X_validation, X_test, y_validation, y_test = train_test_split(X_TEMP, y_TEMP, test_size=0.50) # split out into validation 15% of our data and test 15% of our data\n",
        "print(X_train.shape, X_validation.shape, X_test.shape) # print data shape to check the sizing is correct"
      ],
      "metadata": {
        "colab": {
          "base_uri": "https://localhost:8080/"
        },
        "outputId": "5cd56aca-4814-4e97-c317-2600474c536f",
        "id": "TS0imMNZTldL"
      },
      "execution_count": 40,
      "outputs": [
        {
          "output_type": "stream",
          "name": "stdout",
          "text": [
            "(84532, 46) (18114, 46) (18114, 46)\n"
          ]
        }
      ]
    },
    {
      "cell_type": "code",
      "source": [
        "from sklearn.linear_model import LogisticRegression\n",
        "\n",
        "model = LogisticRegression(solver='lbfgs').fit(X_train, y_train) # first fit (train) the model\n",
        "y_pred_validation = model.predict(X_validation) # next get the model's predictions for a sample in the validation set\n",
        "metrics(y_validation, y_pred_validation) # finally evaluate performance\n",
        "y_pred_test = model.predict(X_test) # next get the model's predictions for a sample in the validation set\n",
        "metrics(y_test, y_pred_test) # finally evaluate performance"
      ],
      "metadata": {
        "colab": {
          "base_uri": "https://localhost:8080/"
        },
        "outputId": "874835b0-f113-4cee-a9bb-56c427563968",
        "id": "XxSZTm-hTldL"
      },
      "execution_count": 41,
      "outputs": [
        {
          "output_type": "stream",
          "name": "stdout",
          "text": [
            "Confusion matrix:\n",
            " [[5599 3418]\n",
            " [ 406 8691]]\n",
            "\n",
            "Report:\n",
            "               precision    recall  f1-score   support\n",
            "\n",
            "           0       0.93      0.62      0.75      9017\n",
            "           1       0.72      0.96      0.82      9097\n",
            "\n",
            "    accuracy                           0.79     18114\n",
            "   macro avg       0.83      0.79      0.78     18114\n",
            "weighted avg       0.82      0.79      0.78     18114\n",
            "\n",
            "Confusion matrix:\n",
            " [[5530 3428]\n",
            " [ 392 8764]]\n",
            "\n",
            "Report:\n",
            "               precision    recall  f1-score   support\n",
            "\n",
            "           0       0.93      0.62      0.74      8958\n",
            "           1       0.72      0.96      0.82      9156\n",
            "\n",
            "    accuracy                           0.79     18114\n",
            "   macro avg       0.83      0.79      0.78     18114\n",
            "weighted avg       0.83      0.79      0.78     18114\n",
            "\n"
          ]
        },
        {
          "output_type": "stream",
          "name": "stderr",
          "text": [
            "/usr/local/lib/python3.10/dist-packages/sklearn/linear_model/_logistic.py:458: ConvergenceWarning: lbfgs failed to converge (status=1):\n",
            "STOP: TOTAL NO. of ITERATIONS REACHED LIMIT.\n",
            "\n",
            "Increase the number of iterations (max_iter) or scale the data as shown in:\n",
            "    https://scikit-learn.org/stable/modules/preprocessing.html\n",
            "Please also refer to the documentation for alternative solver options:\n",
            "    https://scikit-learn.org/stable/modules/linear_model.html#logistic-regression\n",
            "  n_iter_i = _check_optimize_result(\n"
          ]
        }
      ]
    },
    {
      "cell_type": "markdown",
      "source": [
        "**We see usign more features helped us serve better at classification.**"
      ],
      "metadata": {
        "id": "M7_Aaw0R4K5F"
      }
    },
    {
      "cell_type": "markdown",
      "source": [
        "Using all the features and using pycaret to run and generate the lr model, this will help us to understand if selecting all the independent variables are useful"
      ],
      "metadata": {
        "id": "CUhDscgCXC99"
      }
    },
    {
      "cell_type": "markdown",
      "metadata": {
        "id": "9AlokmX26Ngc"
      },
      "source": [
        "# **Part 4: Your turn!** ( Changing the Dependent Variable Based on EDA ) Just wanted to try extra to understand data\n",
        "\n",
        "## Task 4.A: Create a new balanced dataset where exactly half of the samples are rejected loan applications and half are accepted loan application.\n",
        "\n",
        "show your work below"
      ]
    },
    {
      "cell_type": "markdown",
      "source": [
        "### EDA"
      ],
      "metadata": {
        "id": "CwYipCDXCeeY"
      }
    },
    {
      "cell_type": "code",
      "source": [
        "def count_each_label(combined_data_dup):\n",
        "  print(f\"Threshold = {int(combined_data_dup.shape[0]/2)}\")\n",
        "  approved = len(combined_data_dup[combined_data_dup['loan_approved'] == 1])\n",
        "  not_approved = len(combined_data_dup[combined_data_dup['loan_approved'] == 0])\n",
        "  print('--------------------------------------')\n",
        "  print(f\"Loan Approved Count = {approved}\")\n",
        "  print(f\"Loan Not Approved Count = {not_approved}\")\n",
        "  print(f\"Current Different = {abs(approved-not_approved)}\")\n",
        "  print(\"reduce approved\") if approved > not_approved else print('reduce not approved')\n",
        "  print('--------------------------------------')\n",
        "  get_combined_counts_denial(combined_data_dup)"
      ],
      "metadata": {
        "id": "NERvHgKvYUnF"
      },
      "execution_count": null,
      "outputs": []
    },
    {
      "cell_type": "code",
      "source": [
        "selected_columns = ['loan_amount_000s', 'applicant_income_000s',\n",
        "       'occupied_by_owner', 'loan_type_name',\n",
        "       'is_hoepa_loan', 'loan_purpose_name', 'loan_approved',\n",
        "       'denial_reason_name_3', 'denial_reason_name_2', 'denial_reason_name_1','applicant_sex_name']\n",
        "\n",
        "# Create a new DataFrame with the selected columns\n",
        "new_df = df[selected_columns].copy()"
      ],
      "metadata": {
        "id": "iVhiTJnJ7B9A"
      },
      "execution_count": null,
      "outputs": []
    },
    {
      "cell_type": "code",
      "source": [
        "count_each_label(new_df)"
      ],
      "metadata": {
        "id": "J88yLczfA4ck"
      },
      "execution_count": null,
      "outputs": []
    },
    {
      "cell_type": "markdown",
      "source": [
        "\n",
        "\n",
        "1.   Reject Loans ( Rejecting loans for people who have income less than loan amount )\n",
        "2.   Accept Loans ( If only denial reason is debt-to-income ratio, accept for people who have income more than debt 1.2 times income and less are accepted )\n",
        "3.   Accept Loans ( Approving loans where only loan:income is problem and is guaranteed FHA, VA, FSA/RHS )\n",
        "4.   Accept Loans ( When credit history is the only problem and then we have someone to guarantee )\n",
        "5.   Accept Loans ( When employment history is the only problem and then we have someone to guarantee )\n",
        "6.   Accept Loans ( No reason for rejection with someone to guarantee )\n",
        "7.   Accepting ( Accepting home loans where collatral is the only issue, because, we can use the home as collatral )\n",
        "8.   Accept ( Guaranteed by with only problem credit or employment history )\n",
        "9.   Accept ( Approving Conventional Loan where no reason given for cancellation and income*2 >= loan )\n",
        "10.  Accept ( Reason being employment history and Credit History and then income * 2> loan approving them )\n",
        "11. Accept ( Same as 10 but with collatral only the problem )\n",
        "12. Accept ( Collatral or employment or credit with guaranteed )"
      ],
      "metadata": {
        "id": "SDU9IMIsovDE"
      }
    },
    {
      "cell_type": "markdown",
      "source": [
        "### 1.Denying loans for people who have income less than the loan amount"
      ],
      "metadata": {
        "id": "GmkMov5DRTf0"
      }
    },
    {
      "cell_type": "code",
      "source": [
        "print(f\"Approved = {len(new_df[(new_df['applicant_income_000s'] < new_df['loan_amount_000s']) & (new_df['loan_approved'] == 1)])}\")\n",
        "print(f\"Rejected = {len(new_df[(new_df['applicant_income_000s'] < new_df['loan_amount_000s']) & (new_df['loan_approved'] == 0)])}\")"
      ],
      "metadata": {
        "id": "epL1Xa3EnuZE"
      },
      "execution_count": null,
      "outputs": []
    },
    {
      "cell_type": "markdown",
      "source": [
        "As we see one of the reason for loans to get refused is debt-to-income ration, as 85% of the data in rejected has this reason"
      ],
      "metadata": {
        "id": "aHT6dh-Mnfng"
      }
    },
    {
      "cell_type": "markdown",
      "source": [
        "##### Denying for everyone who has loan_amount > income"
      ],
      "metadata": {
        "id": "r7vjs4WZFYGi"
      }
    },
    {
      "cell_type": "code",
      "source": [
        "new_df.loc[new_df[new_df['applicant_income_000s'] < new_df['loan_amount_000s']].index, 'loan_approved'] = 0"
      ],
      "metadata": {
        "id": "Vb5rUKuaFno7"
      },
      "execution_count": null,
      "outputs": []
    },
    {
      "cell_type": "code",
      "source": [
        "count_each_label(new_df)"
      ],
      "metadata": {
        "id": "BDvXgb15GFW4"
      },
      "execution_count": null,
      "outputs": []
    },
    {
      "cell_type": "code",
      "source": [
        "# Checking if all approved loans have any reason of denial to clean it\n",
        "len(new_df[\n",
        "    (new_df['denial_reason_name_1'].isna() & new_df['denial_reason_name_2'].isna()) &\n",
        "    (new_df['denial_reason_name_3'].isna()) & new_df['loan_approved'] == 1])"
      ],
      "metadata": {
        "id": "8uux2BrKNE1T"
      },
      "execution_count": null,
      "outputs": []
    },
    {
      "cell_type": "markdown",
      "source": [
        "### 2.Check for Wrong loan denial"
      ],
      "metadata": {
        "id": "yj92gborGGeR"
      }
    },
    {
      "cell_type": "code",
      "source": [
        "approved_loans_2 = new_df[new_df['loan_approved'] == 1]\n",
        "rejected_loans_2 = new_df[new_df['loan_approved'] == 0]"
      ],
      "metadata": {
        "id": "uQ6ooIys8ogO"
      },
      "execution_count": null,
      "outputs": []
    },
    {
      "cell_type": "markdown",
      "source": [
        "When the loan amount is less than income and thats the only rejection reason."
      ],
      "metadata": {
        "id": "xLW02evEGL7Q"
      }
    },
    {
      "cell_type": "code",
      "source": [
        "rejected_loans_ratio_denied = rejected_loans_2[\n",
        "    ((rejected_loans_2['denial_reason_name_1'] == 'Debt-to-income ratio') |\n",
        "     (rejected_loans_2['denial_reason_name_2'] == 'Debt-to-income ratio') |\n",
        "     (rejected_loans_2['denial_reason_name_3'] == 'Debt-to-income ratio'))\n",
        "]\n",
        "\n",
        "rejected_only_money = rejected_loans_ratio_denied[\n",
        "    (rejected_loans_ratio_denied['denial_reason_name_1'].isna() & rejected_loans_ratio_denied['denial_reason_name_2'].isna()) |\n",
        "    (rejected_loans_ratio_denied['denial_reason_name_1'].isna() & rejected_loans_ratio_denied['denial_reason_name_3'].isna()) |\n",
        "    (rejected_loans_ratio_denied['denial_reason_name_2'].isna() & rejected_loans_ratio_denied['denial_reason_name_3'].isna())\n",
        "]"
      ],
      "metadata": {
        "id": "YtYu6GIy90eq"
      },
      "execution_count": null,
      "outputs": []
    },
    {
      "cell_type": "markdown",
      "source": [
        "People who got rejected for loan to income ratio but have more income than loan"
      ],
      "metadata": {
        "id": "G90pE1vQuLDi"
      }
    },
    {
      "cell_type": "code",
      "source": [
        "len(rejected_only_money[(rejected_only_money['applicant_income_000s'] ) >= rejected_only_money['loan_amount_000s']])"
      ],
      "metadata": {
        "id": "IHyqqk6Itva5"
      },
      "execution_count": null,
      "outputs": []
    },
    {
      "cell_type": "markdown",
      "source": [
        "Finding number of people who have loan amount just more than 1.1*income or income more than loan"
      ],
      "metadata": {
        "id": "d_lUycu4uSsh"
      }
    },
    {
      "cell_type": "code",
      "source": [
        "len(rejected_only_money[(rejected_only_money['applicant_income_000s'] + 0.2*(rejected_only_money['applicant_income_000s'])) >= rejected_only_money['loan_amount_000s']])"
      ],
      "metadata": {
        "id": "tHwvAHrIEfSA"
      },
      "execution_count": null,
      "outputs": []
    },
    {
      "cell_type": "code",
      "source": [
        "new_df_loan_approved = new_df.copy()\n",
        "new_df_loan_approved.loc[rejected_only_money[(rejected_only_money['applicant_income_000s'] + 0.2*(rejected_only_money['applicant_income_000s'])) > rejected_only_money['loan_amount_000s']].index, 'loan_approved'] = 1\n",
        "rejected_only_money.loc[rejected_only_money[(rejected_only_money['applicant_income_000s'] + 0.2*(rejected_only_money['applicant_income_000s'])) > rejected_only_money['loan_amount_000s']].index, 'loan_approved'] = 1\n",
        "count_each_label(new_df_loan_approved)"
      ],
      "metadata": {
        "id": "BWZwnnCxQlak"
      },
      "execution_count": null,
      "outputs": []
    },
    {
      "cell_type": "code",
      "source": [
        "rejected_only_money = rejected_only_money[rejected_only_money['loan_approved'] == 0]"
      ],
      "metadata": {
        "id": "QilSnfoxx56N"
      },
      "execution_count": null,
      "outputs": []
    },
    {
      "cell_type": "markdown",
      "source": [
        "### 3.EDA on rejection only money approving when guaranteed"
      ],
      "metadata": {
        "id": "DfNf5VmZJh2k"
      }
    },
    {
      "cell_type": "markdown",
      "source": [
        "Approving loans where only loan:income is problem and is guaranteed FHA, VA, FSA/RHS"
      ],
      "metadata": {
        "id": "UFxHNU_KpthK"
      }
    },
    {
      "cell_type": "code",
      "source": [
        "len(rejected_only_money)"
      ],
      "metadata": {
        "id": "wMV9C3SUrERS"
      },
      "execution_count": null,
      "outputs": []
    },
    {
      "cell_type": "code",
      "source": [
        "new_df_loan_approved.iloc[265765]"
      ],
      "metadata": {
        "id": "7K-oYQ75zqtu"
      },
      "execution_count": null,
      "outputs": []
    },
    {
      "cell_type": "code",
      "source": [
        "def get_difference(df_d):\n",
        "  return df_d['loan_amount_000s'] - df_d['applicant_income_000s']"
      ],
      "metadata": {
        "id": "7bs02H03zQJe"
      },
      "execution_count": null,
      "outputs": []
    },
    {
      "cell_type": "code",
      "source": [
        "get_difference(rejected_only_money).nsmallest(10)"
      ],
      "metadata": {
        "id": "b6p_CrD0zcQv"
      },
      "execution_count": null,
      "outputs": []
    },
    {
      "cell_type": "markdown",
      "source": [
        "Get rejected based on just income and check the loan_type_name"
      ],
      "metadata": {
        "id": "Rk6_oBxJ2Fpb"
      }
    },
    {
      "cell_type": "code",
      "source": [
        "loan_type_counts = rejected_only_money['loan_type_name'].value_counts()\n",
        "\n",
        "# Print the counts\n",
        "print(loan_type_counts)"
      ],
      "metadata": {
        "id": "gfvolTpM2Evg"
      },
      "execution_count": null,
      "outputs": []
    },
    {
      "cell_type": "markdown",
      "source": [
        "Approving loans where only loan:income is problem and is guaranteed FHA, VA, FSA/RHS"
      ],
      "metadata": {
        "id": "cL8OETd03uCl"
      }
    },
    {
      "cell_type": "code",
      "source": [
        "rejected_only_money_guaranteed = rejected_only_money[rejected_only_money['loan_type_name'] != 'Conventional']\n",
        "rejected_only_money_guaranteed['loan_approved'] = 1"
      ],
      "metadata": {
        "id": "XJT7TQjj31b-"
      },
      "execution_count": null,
      "outputs": []
    },
    {
      "cell_type": "code",
      "source": [
        "new_df_loan_approved.loc[rejected_only_money_guaranteed.index, 'loan_approved'] = 1"
      ],
      "metadata": {
        "id": "zIsVK1Hh438S"
      },
      "execution_count": null,
      "outputs": []
    },
    {
      "cell_type": "code",
      "source": [
        "count_each_label(new_df_loan_approved)"
      ],
      "metadata": {
        "id": "6OQVopAq5DSY"
      },
      "execution_count": null,
      "outputs": []
    },
    {
      "cell_type": "markdown",
      "source": [
        "### 4.Credit History only issue with someone guaranteed approving those"
      ],
      "metadata": {
        "id": "HieV0OUv5Moi"
      }
    },
    {
      "cell_type": "code",
      "source": [
        "rejected_loans_3 = new_df_loan_approved[new_df_loan_approved['loan_approved'] == 0]"
      ],
      "metadata": {
        "id": "KNdUG3EfOrNZ"
      },
      "execution_count": null,
      "outputs": []
    },
    {
      "cell_type": "code",
      "source": [
        "rejected_loans_creditHistory = rejected_loans_3[\n",
        "    ((rejected_loans_3['denial_reason_name_1'] == 'Credit history') |\n",
        "     (rejected_loans_3['denial_reason_name_2'] == 'Credit history') |\n",
        "     (rejected_loans_3['denial_reason_name_3'] == 'Credit history'))\n",
        "]\n",
        "\n",
        "rejected_only_credit = rejected_loans_creditHistory[\n",
        "    ((rejected_loans_creditHistory['denial_reason_name_1'].isna() & rejected_loans_creditHistory['denial_reason_name_2'].isna()) |\n",
        "    (rejected_loans_creditHistory['denial_reason_name_1'].isna() & rejected_loans_creditHistory['denial_reason_name_3'].isna()) |\n",
        "    (rejected_loans_creditHistory['denial_reason_name_2'].isna() & rejected_loans_creditHistory['denial_reason_name_3'].isna())) &\n",
        "    (rejected_loans_creditHistory['loan_type_name'] != 'Conventional')\n",
        "]\n"
      ],
      "metadata": {
        "id": "ulvLhucjOSnF"
      },
      "execution_count": null,
      "outputs": []
    },
    {
      "cell_type": "code",
      "source": [
        "rejected_only_credit"
      ],
      "metadata": {
        "id": "k33ALzV1PWuV"
      },
      "execution_count": null,
      "outputs": []
    },
    {
      "cell_type": "code",
      "source": [
        "new_df_loan_approved.loc[rejected_only_credit.index, 'loan_approved'] = 1"
      ],
      "metadata": {
        "id": "AvvnYiCXQreX"
      },
      "execution_count": null,
      "outputs": []
    },
    {
      "cell_type": "code",
      "source": [
        "count_each_label(new_df_loan_approved)"
      ],
      "metadata": {
        "id": "5NnJUcryO8oT"
      },
      "execution_count": null,
      "outputs": []
    },
    {
      "cell_type": "markdown",
      "source": [
        "### 5. Employment History and guaranteed by someone"
      ],
      "metadata": {
        "id": "hRIQsU5uRejG"
      }
    },
    {
      "cell_type": "code",
      "source": [
        "rejected_loans_3 = new_df_loan_approved[new_df_loan_approved['loan_approved'] == 0]"
      ],
      "metadata": {
        "id": "NJTbd-HIRIC7"
      },
      "execution_count": null,
      "outputs": []
    },
    {
      "cell_type": "code",
      "source": [
        "rejected_loans_creditHistory = rejected_loans_3[\n",
        "    ((rejected_loans_3['denial_reason_name_1'] == 'Employment history') |\n",
        "     (rejected_loans_3['denial_reason_name_2'] == 'Employment history') |\n",
        "     (rejected_loans_3['denial_reason_name_3'] == 'Employment history'))\n",
        "]\n",
        "\n",
        "rejected_only_employment = rejected_loans_creditHistory[\n",
        "    ((rejected_loans_creditHistory['denial_reason_name_1'].isna() & rejected_loans_creditHistory['denial_reason_name_2'].isna()) |\n",
        "    (rejected_loans_creditHistory['denial_reason_name_1'].isna() & rejected_loans_creditHistory['denial_reason_name_3'].isna()) |\n",
        "    (rejected_loans_creditHistory['denial_reason_name_2'].isna() & rejected_loans_creditHistory['denial_reason_name_3'].isna())) &\n",
        "    (rejected_loans_creditHistory['loan_type_name'] != 'Conventional')\n",
        "]\n"
      ],
      "metadata": {
        "id": "lX-Pl7EZRIC9"
      },
      "execution_count": null,
      "outputs": []
    },
    {
      "cell_type": "code",
      "source": [
        "rejected_only_employment"
      ],
      "metadata": {
        "id": "sKmxTZ0yRIC9"
      },
      "execution_count": null,
      "outputs": []
    },
    {
      "cell_type": "code",
      "source": [
        "new_df_loan_approved.loc[rejected_only_employment.index, 'loan_approved'] = 1"
      ],
      "metadata": {
        "id": "bFjcjjNxRIC-"
      },
      "execution_count": null,
      "outputs": []
    },
    {
      "cell_type": "code",
      "source": [
        "count_each_label(new_df_loan_approved)"
      ],
      "metadata": {
        "id": "gUZUa-Z0RIC-"
      },
      "execution_count": null,
      "outputs": []
    },
    {
      "cell_type": "markdown",
      "source": [
        "### 6. No Reason loan rejected with guaranteed ( Approving them as well )"
      ],
      "metadata": {
        "id": "uVkkvJQNTcM-"
      }
    },
    {
      "cell_type": "code",
      "source": [
        "rejected_loan = new_df_loan_approved[new_df_loan_approved['loan_approved'] == 0]"
      ],
      "metadata": {
        "id": "TwvTQwbeTeKf"
      },
      "execution_count": null,
      "outputs": []
    },
    {
      "cell_type": "code",
      "source": [
        "rejected_loan"
      ],
      "metadata": {
        "id": "dgEoJDAOTnAH"
      },
      "execution_count": null,
      "outputs": []
    },
    {
      "cell_type": "code",
      "source": [
        "rejected_only_no_reason = rejected_loan[\n",
        "    (rejected_loan['denial_reason_name_1'].isna() &\n",
        "      rejected_loan['denial_reason_name_2'].isna() &\n",
        "      rejected_loan['denial_reason_name_3'].isna())]"
      ],
      "metadata": {
        "id": "Gf6Rl7ItT3uK"
      },
      "execution_count": null,
      "outputs": []
    },
    {
      "cell_type": "code",
      "source": [
        "rejected_only_no_reason_guaranteed = rejected_only_no_reason[rejected_only_no_reason['loan_type_name'] != 'Conventional']"
      ],
      "metadata": {
        "id": "o2dOofzxUSXd"
      },
      "execution_count": null,
      "outputs": []
    },
    {
      "cell_type": "code",
      "source": [
        "new_df_loan_approved.loc[rejected_only_no_reason_guaranteed.index, 'loan_approved'] = 1"
      ],
      "metadata": {
        "id": "YN2UIV6nWMb1"
      },
      "execution_count": null,
      "outputs": []
    },
    {
      "cell_type": "code",
      "source": [
        "count_each_label(new_df_loan_approved)"
      ],
      "metadata": {
        "id": "r27kTKU6WWQV"
      },
      "execution_count": null,
      "outputs": []
    },
    {
      "cell_type": "markdown",
      "source": [
        "### 7. Home loans where collateral is the only issue and is guaranteed are approved"
      ],
      "metadata": {
        "id": "4Yx6-3KlWg6z"
      }
    },
    {
      "cell_type": "code",
      "source": [
        "rejected_loan = new_df_loan_approved[new_df_loan_approved['loan_approved'] == 0]\n",
        "rejected_loan_guaranteed = rejected_loan[rejected_loan['loan_type_name'] != 'Conventional']"
      ],
      "metadata": {
        "id": "BIniy7vxWi5P"
      },
      "execution_count": null,
      "outputs": []
    },
    {
      "cell_type": "code",
      "source": [
        "rejected_only_one_reason = rejected_loan_guaranteed[\n",
        "    ( rejected_loan_guaranteed['denial_reason_name_2'].isna() &\n",
        "      rejected_loan_guaranteed['denial_reason_name_3'].isna())]"
      ],
      "metadata": {
        "id": "EiNFS1wNXm3N"
      },
      "execution_count": null,
      "outputs": []
    },
    {
      "cell_type": "code",
      "source": [
        "rejected_only_no_reason['denial_reason_name_1'].unique()"
      ],
      "metadata": {
        "id": "A5NVD-lvXpLG"
      },
      "execution_count": null,
      "outputs": []
    },
    {
      "cell_type": "code",
      "source": [
        "rejected_only_no_reason['loan_purpose_name'].unique()"
      ],
      "metadata": {
        "id": "7KCjshNVZEPN"
      },
      "execution_count": null,
      "outputs": []
    },
    {
      "cell_type": "code",
      "source": [
        "rejected_only_one_reason[rejected_only_one_reason['loan_purpose_name'] != 'Refinancing']"
      ],
      "metadata": {
        "id": "32NZNtn7ZhVe"
      },
      "execution_count": null,
      "outputs": []
    },
    {
      "cell_type": "code",
      "source": [
        "new_df_loan_approved.loc[rejected_only_one_reason.index, 'loan_approved'] = 1\n",
        "count_each_label(new_df_loan_approved)"
      ],
      "metadata": {
        "id": "kPZ8A4-ObgCR"
      },
      "execution_count": null,
      "outputs": []
    },
    {
      "cell_type": "markdown",
      "source": [
        "### 8. Approving guaranteed where the reason is credit or employment or income ratio"
      ],
      "metadata": {
        "id": "gVJTDcDYbpdI"
      }
    },
    {
      "cell_type": "code",
      "source": [
        "rejected_loan = new_df_loan_approved[new_df_loan_approved['loan_approved'] == 0]"
      ],
      "metadata": {
        "id": "0n22BB2BbsSL"
      },
      "execution_count": null,
      "outputs": []
    },
    {
      "cell_type": "code",
      "source": [
        "rejected_loan"
      ],
      "metadata": {
        "id": "HRFK4LeNbyMy"
      },
      "execution_count": null,
      "outputs": []
    },
    {
      "cell_type": "code",
      "source": [
        "\n",
        "# Create a new DataFrame with the selected columns\n",
        "combinations_df = rejected_loan.copy()\n",
        "combinations_df = combinations_df[combinations_df['denial_reason_name_2'] == 'Credit history']\n",
        "# Use the drop_duplicates method to get unique combinations\n"
      ],
      "metadata": {
        "id": "IZ8cReCsb-qL"
      },
      "execution_count": null,
      "outputs": []
    },
    {
      "cell_type": "code",
      "source": [
        "desired_reasons = ['Credit history', 'Debt-to-income ratio', 'Employment history']\n",
        "mask = ((combinations_df['denial_reason_name_3'].isin(desired_reasons) | combinations_df['denial_reason_name_3'].isna() )& \\\n",
        "      (combinations_df['denial_reason_name_2'].isin(desired_reasons) | combinations_df['denial_reason_name_2'].isna() )& \\\n",
        "      (combinations_df['denial_reason_name_1'].isin(desired_reasons) | combinations_df['denial_reason_name_1'].isna() ))\n",
        "\n",
        "# Filter the DataFrame using the mask\n",
        "filtered_combinations = combinations_df[mask]\n",
        "\n",
        "# Display the rows with desired denial reasons\n",
        "print(filtered_combinations)"
      ],
      "metadata": {
        "id": "PAdPtJISgw6T"
      },
      "execution_count": null,
      "outputs": []
    },
    {
      "cell_type": "code",
      "source": [
        "filtered_combinations = filtered_combinations[filtered_combinations['loan_type_name'] != 'Conventional']"
      ],
      "metadata": {
        "id": "WbOBMs-uiMk6"
      },
      "execution_count": null,
      "outputs": []
    },
    {
      "cell_type": "code",
      "source": [
        "new_df_loan_approved.loc[filtered_combinations.index, 'loan_approved'] = 1\n",
        "count_each_label(new_df_loan_approved)"
      ],
      "metadata": {
        "id": "SqxNhuuJiYUh"
      },
      "execution_count": null,
      "outputs": []
    },
    {
      "cell_type": "markdown",
      "source": [
        "### 9. Approving Conventional Loan where no reason given for cancellation and income*2 >= loan"
      ],
      "metadata": {
        "id": "7crJAEiJirto"
      }
    },
    {
      "cell_type": "code",
      "source": [
        "rejected_loan = new_df_loan_approved[new_df_loan_approved['loan_approved'] == 0]"
      ],
      "metadata": {
        "id": "qNhnmaEeiugp"
      },
      "execution_count": null,
      "outputs": []
    },
    {
      "cell_type": "code",
      "source": [
        "rejected_loan"
      ],
      "metadata": {
        "id": "V3YpckqCivdK"
      },
      "execution_count": null,
      "outputs": []
    },
    {
      "cell_type": "code",
      "source": [
        "rejected_no_reason = rejected_loan[\n",
        "    ( rejected_loan['denial_reason_name_2'].isna() & rejected_loan['denial_reason_name_1'].isna() &\n",
        "      rejected_loan['denial_reason_name_3'].isna())]"
      ],
      "metadata": {
        "id": "EqB3Mj53jFHo"
      },
      "execution_count": null,
      "outputs": []
    },
    {
      "cell_type": "code",
      "source": [
        "rejected_no_reason = rejected_no_reason[rejected_no_reason['applicant_income_000s']*2 > rejected_no_reason['loan_amount_000s']]"
      ],
      "metadata": {
        "id": "O3e0MZX0jKDR"
      },
      "execution_count": null,
      "outputs": []
    },
    {
      "cell_type": "code",
      "source": [
        "new_df_loan_approved.loc[rejected_no_reason.index, 'loan_approved'] = 1\n",
        "count_each_label(new_df_loan_approved)"
      ],
      "metadata": {
        "id": "3x-rldrvpXUc"
      },
      "execution_count": null,
      "outputs": []
    },
    {
      "cell_type": "markdown",
      "source": [
        "### 10. Reason being employment history and Credit History and then income * 2> loan approving them"
      ],
      "metadata": {
        "id": "6495Ch-msPem"
      }
    },
    {
      "cell_type": "code",
      "source": [
        "rejected_loan = new_df_loan_approved[new_df_loan_approved['loan_approved'] == 0]"
      ],
      "metadata": {
        "id": "aat_XGBnrH7F"
      },
      "execution_count": null,
      "outputs": []
    },
    {
      "cell_type": "code",
      "source": [
        "reason = ['Employment history', 'Credit history']\n",
        "rejected_loans_ratio_denied = rejected_loan[\n",
        "    ((rejected_loan['denial_reason_name_1'].isin(reason)) |\n",
        "     (rejected_loan['denial_reason_name_2'].isin(reason)) |\n",
        "     (rejected_loan['denial_reason_name_3'].isin(reason)))\n",
        "]\n",
        "\n",
        "rejected_only_money = rejected_loans_ratio_denied[\n",
        "    (rejected_loans_ratio_denied['denial_reason_name_1'].isna() & rejected_loans_ratio_denied['denial_reason_name_2'].isna()) |\n",
        "    (rejected_loans_ratio_denied['denial_reason_name_1'].isna() & rejected_loans_ratio_denied['denial_reason_name_3'].isna()) |\n",
        "    (rejected_loans_ratio_denied['denial_reason_name_2'].isna() & rejected_loans_ratio_denied['denial_reason_name_3'].isna())\n",
        "]"
      ],
      "metadata": {
        "id": "2gag7GilrJGq"
      },
      "execution_count": null,
      "outputs": []
    },
    {
      "cell_type": "code",
      "source": [
        "rejected_cred_emp_income_more = rejected_only_money[rejected_only_money['applicant_income_000s']*2 > rejected_only_money['loan_amount_000s']]"
      ],
      "metadata": {
        "id": "HU-CLRo_ribY"
      },
      "execution_count": null,
      "outputs": []
    },
    {
      "cell_type": "code",
      "source": [
        "new_df_loan_approved.loc[rejected_cred_emp_income_more.index, 'loan_approved'] = 1\n",
        "count_each_label(new_df_loan_approved)"
      ],
      "metadata": {
        "id": "-Hy25UMEsRhY"
      },
      "execution_count": null,
      "outputs": []
    },
    {
      "cell_type": "markdown",
      "source": [
        "### 11. Merge with 10 .. collatral only reason and 2*salary more than loan"
      ],
      "metadata": {
        "id": "lm5FpAxyugCC"
      }
    },
    {
      "cell_type": "code",
      "source": [
        "rejected_loan = new_df_loan_approved[new_df_loan_approved['loan_approved'] == 0]"
      ],
      "metadata": {
        "id": "fPa625QouhrC"
      },
      "execution_count": null,
      "outputs": []
    },
    {
      "cell_type": "code",
      "source": [
        "rejected_more_income = rejected_loan[2* rejected_loan['applicant_income_000s'] > rejected_loan['loan_amount_000s']]"
      ],
      "metadata": {
        "id": "Yi-87AiJuinr"
      },
      "execution_count": null,
      "outputs": []
    },
    {
      "cell_type": "code",
      "source": [
        "reason = ['Collateral']\n",
        "rejected_loans_ratio_denied = rejected_more_income[\n",
        "    ((rejected_more_income['denial_reason_name_1'].isin(reason)) |\n",
        "     (rejected_more_income['denial_reason_name_2'].isin(reason)) |\n",
        "     (rejected_more_income['denial_reason_name_3'].isin(reason)))\n",
        "]\n",
        "\n",
        "rejected_only_money = rejected_loans_ratio_denied[\n",
        "    (rejected_loans_ratio_denied['denial_reason_name_1'].isna() & rejected_loans_ratio_denied['denial_reason_name_2'].isna()) |\n",
        "    (rejected_loans_ratio_denied['denial_reason_name_1'].isna() & rejected_loans_ratio_denied['denial_reason_name_3'].isna()) |\n",
        "    (rejected_loans_ratio_denied['denial_reason_name_2'].isna() & rejected_loans_ratio_denied['denial_reason_name_3'].isna())\n",
        "]"
      ],
      "metadata": {
        "id": "NvXj6yEuv7WT"
      },
      "execution_count": null,
      "outputs": []
    },
    {
      "cell_type": "code",
      "source": [
        "new_df_loan_approved.loc[rejected_only_money.index, 'loan_approved'] = 1\n",
        "count_each_label(new_df_loan_approved)"
      ],
      "metadata": {
        "id": "jUqXnv41vzd3"
      },
      "execution_count": null,
      "outputs": []
    },
    {
      "cell_type": "markdown",
      "source": [
        "### 12. Guaranteed loans where issue is collatral or history or income ratio approving"
      ],
      "metadata": {
        "id": "cAikPdfyyAua"
      }
    },
    {
      "cell_type": "code",
      "source": [
        "rejected_loan = new_df_loan_approved[new_df_loan_approved['loan_approved'] == 0]"
      ],
      "metadata": {
        "id": "nsYf-VmGyCQG"
      },
      "execution_count": null,
      "outputs": []
    },
    {
      "cell_type": "code",
      "source": [
        "rejected_loan = rejected_loan[rejected_loan['loan_type_name'] != 'Conventional']"
      ],
      "metadata": {
        "id": "w7u3QwyZyDal"
      },
      "execution_count": null,
      "outputs": []
    },
    {
      "cell_type": "code",
      "source": [
        "selected_columns = ['denial_reason_name_3', 'denial_reason_name_2', 'denial_reason_name_1']\n",
        "\n",
        "# Create a new DataFrame with the selected columns\n",
        "combinations_df = rejected_loan[selected_columns]\n",
        "\n"
      ],
      "metadata": {
        "id": "6VkzuqgFyN-F"
      },
      "execution_count": null,
      "outputs": []
    },
    {
      "cell_type": "code",
      "source": [
        "desired_reasons = ['Credit history', 'Employment history', 'Collateral','Debt-to-income ratio']\n",
        "mask = ((combinations_df['denial_reason_name_3'].isin(desired_reasons) |\n",
        "        combinations_df['denial_reason_name_3'].isna())\n",
        "        &\n",
        "       (combinations_df['denial_reason_name_1'].isin(desired_reasons) |\n",
        "        combinations_df['denial_reason_name_1'].isna())\n",
        "       &\n",
        "        (combinations_df['denial_reason_name_2'].isin(desired_reasons) |\n",
        "        combinations_df['denial_reason_name_2'].isna()))\n",
        "\n",
        "\n",
        "# Filter the DataFrame using the mask\n",
        "filtered_combinations = combinations_df[mask]\n"
      ],
      "metadata": {
        "id": "8I4UEuiWy0bk"
      },
      "execution_count": null,
      "outputs": []
    },
    {
      "cell_type": "code",
      "source": [
        "new_df_loan_approved.loc[filtered_combinations.index, 'loan_approved'] = 1\n",
        "count_each_label(new_df_loan_approved)"
      ],
      "metadata": {
        "id": "nN4VFVhPzLQb"
      },
      "execution_count": null,
      "outputs": []
    },
    {
      "cell_type": "markdown",
      "source": [
        "### 13. Extra"
      ],
      "metadata": {
        "id": "XNPpG9WU03-U"
      }
    },
    {
      "cell_type": "code",
      "source": [
        "rejected_loan = new_df_loan_approved[new_df_loan_approved['loan_approved'] == 0]"
      ],
      "metadata": {
        "id": "-cEqMJQH03QO"
      },
      "execution_count": null,
      "outputs": []
    },
    {
      "cell_type": "code",
      "source": [
        "rejected_loan"
      ],
      "metadata": {
        "id": "UT2OEMRs06Rt"
      },
      "execution_count": null,
      "outputs": []
    },
    {
      "cell_type": "markdown",
      "metadata": {
        "id": "rCXzv9K16WIl"
      },
      "source": [
        "\n",
        "## Task 4.B: Below, retry training and evaluating a Logistic regression model on the updated data.\n",
        "show your work below"
      ]
    },
    {
      "cell_type": "code",
      "source": [
        "new_df_loan_approved.keys()"
      ],
      "metadata": {
        "id": "OKxP-SUq1C--"
      },
      "execution_count": null,
      "outputs": []
    },
    {
      "cell_type": "code",
      "source": [
        "new_df_loan_approved.loc[new_df_loan_approved['loan_approved'] == 1, 'denial_reason_name_1'] = np.nan\n",
        "new_df_loan_approved.loc[new_df_loan_approved['loan_approved'] == 1, 'denial_reason_name_2'] = np.nan\n",
        "new_df_loan_approved.loc[new_df_loan_approved['loan_approved'] == 1, 'denial_reason_name_3'] = np.nan"
      ],
      "metadata": {
        "id": "d0m1Ngn62IQa"
      },
      "execution_count": null,
      "outputs": []
    },
    {
      "cell_type": "code",
      "source": [
        "X_cat = new_df_loan_approved[features_cat]\n",
        "X_num = new_df_loan_approved[features_num]"
      ],
      "metadata": {
        "id": "PiiI87NK2hvH"
      },
      "execution_count": null,
      "outputs": []
    },
    {
      "cell_type": "code",
      "metadata": {
        "id": "4KAFKbcrl4yY"
      },
      "source": [
        "def preprocessing_data_X_y(data, features_cat, features_num):\n",
        "\n",
        "  X_cat = data[features_cat]\n",
        "  X_num = data[features_num]\n",
        "  enc = preprocessing.OneHotEncoder()\n",
        "  enc.fit(X_cat) # fit the encoder to categories in our data\n",
        "  one_hot = enc.transform(X_cat) # transform data into one hot encoded sparse array format\n",
        "  # Finally, put the newly encoded sparse array back into a pandas dataframe so that we can use it\n",
        "  X_cat_proc = pd.DataFrame(one_hot.toarray(), columns=enc.get_feature_names_out())\n",
        "  X_cat_proc.head()\n",
        "  scaled = preprocessing.scale(X_num)\n",
        "  X_num_proc = pd.DataFrame(scaled, columns=features_num)\n",
        "  X_num_proc.head()\n",
        "  X = pd.concat([X_num_proc, X_cat_proc], axis=1, sort=False)\n",
        "  X.head()\n",
        "  X = X.fillna(0) # remove NaN values\n",
        "  y = data['loan_approved'] # target\n",
        "  return X, y"
      ],
      "execution_count": null,
      "outputs": []
    },
    {
      "cell_type": "code",
      "source": [
        "features_cat = ['loan_purpose_name', 'applicant_sex_name']\n",
        "features_num = ['loan_amount_000s', 'applicant_income_000s']\n",
        "X, y = preprocessing_data_X_y(new_df_loan_approved, features_cat, features_num)"
      ],
      "metadata": {
        "id": "6YdCFHb0Bk1d"
      },
      "execution_count": null,
      "outputs": []
    },
    {
      "cell_type": "code",
      "metadata": {
        "id": "cYbcVntHl4yd"
      },
      "source": [
        "from sklearn.model_selection import train_test_split\n",
        "X_train, X_TEMP, y_train, y_TEMP = train_test_split(X, y, test_size=0.30) # split out into training 70% of our data\n",
        "X_validation, X_test, y_validation, y_test = train_test_split(X_TEMP, y_TEMP, test_size=0.50) # split out into validation 15% of our data and test 15% of our data\n",
        "print(X_train.shape, X_validation.shape, X_test.shape) # print data shape to check the sizing is correct"
      ],
      "execution_count": null,
      "outputs": []
    },
    {
      "cell_type": "code",
      "source": [
        "print(len(y_train[y_train == 1]))\n",
        "print(len(y_train[y_train == 0]))\n",
        "print(len(y_validation[y_validation == 1]))\n",
        "print(len(y_validation[y_validation == 0]))\n",
        "print(len(y_test[y_test == 1]))\n",
        "print(len(y_test[y_test == 0]))"
      ],
      "metadata": {
        "id": "F_V9bCZ41e2L"
      },
      "execution_count": null,
      "outputs": []
    },
    {
      "cell_type": "code",
      "source": [
        "from sklearn.linear_model import LogisticRegression\n",
        "\n",
        "model = LogisticRegression(solver='lbfgs').fit(X_train, y_train) # first fit (train) the model\n",
        "y_pred_validation = model.predict(X_validation) # next get the model's predictions for a sample in the validation set\n",
        "metrics(y_validation, y_pred_validation) # finally evaluate performance\n",
        "y_pred_test = model.predict(X_test) # next get the model's predictions for a sample in the validation set\n",
        "metrics(y_test, y_pred_test) # finally evaluate performance"
      ],
      "metadata": {
        "id": "JCOk0CWzl4yd"
      },
      "execution_count": null,
      "outputs": []
    },
    {
      "cell_type": "markdown",
      "metadata": {
        "id": "RYH0dMV47GbM"
      },
      "source": [
        "## Task 4.C: Use your own imagination and experimentation to improve predictive performance for this task, modifying the model choices, feature choices, and data processing however you wish.\n",
        "\n",
        "Important! Your ability to improve the model above the baseline after Task 4.B will count for 10% of this assignment grade, with 5% of that given for modest improvements to performance. Thus while we encourage you to experiment, do not sink excessive time into this task. We will test the performance on our own holdout dataset.\n",
        "\n",
        "show your work below"
      ]
    },
    {
      "cell_type": "code",
      "source": [
        "new_df_loan_approved.keys()"
      ],
      "metadata": {
        "id": "_CwBH0CJCHgc"
      },
      "execution_count": null,
      "outputs": []
    },
    {
      "cell_type": "markdown",
      "source": [
        "### Approach 1 : Adding more features loan_type_name, loan_purpose, denial reasons (3), applicant_sex_name"
      ],
      "metadata": {
        "id": "1E-PSCs1D2A1"
      }
    },
    {
      "cell_type": "code",
      "metadata": {
        "id": "PUAS6haa7KZR"
      },
      "source": [
        "features_cat = ['loan_purpose_name', 'applicant_sex_name', 'loan_type_name', 'loan_purpose_name', 'denial_reason_name_3','denial_reason_name_2','denial_reason_name_1']\n",
        "features_num = ['loan_amount_000s', 'applicant_income_000s']\n",
        "X, y = preprocessing_data_X_y(new_df_loan_approved, features_cat, features_num)"
      ],
      "execution_count": null,
      "outputs": []
    },
    {
      "cell_type": "code",
      "source": [
        "from sklearn.model_selection import train_test_split\n",
        "X_train, X_TEMP, y_train, y_TEMP = train_test_split(X, y, test_size=0.30) # split out into training 70% of our data\n",
        "X_validation, X_test, y_validation, y_test = train_test_split(X_TEMP, y_TEMP, test_size=0.50) # split out into validation 15% of our data and test 15% of our data\n",
        "print(X_train.shape, X_validation.shape, X_test.shape) # print data shape to check the sizing is correct"
      ],
      "metadata": {
        "id": "mhyZ8vRFDqf1"
      },
      "execution_count": null,
      "outputs": []
    },
    {
      "cell_type": "code",
      "source": [
        "from sklearn.linear_model import LogisticRegression\n",
        "\n",
        "model = LogisticRegression(solver='lbfgs').fit(X_train, y_train) # first fit (train) the model\n",
        "y_pred_validation = model.predict(X_validation) # next get the model's predictions for a sample in the validation set\n",
        "metrics(y_validation, y_pred_validation) # finally evaluate performance\n",
        "y_pred_test = model.predict(X_test) # next get the model's predictions for a sample in the validation set\n",
        "metrics(y_test, y_pred_test) # finally evaluate performance"
      ],
      "metadata": {
        "id": "8QVCIVe2Dsby"
      },
      "execution_count": null,
      "outputs": []
    },
    {
      "cell_type": "markdown",
      "source": [
        "**Conclusion** : As we see from the data we see a 20% increase in accurace f1 score."
      ],
      "metadata": {
        "id": "wE1z2Zs-EC5k"
      }
    },
    {
      "cell_type": "markdown",
      "source": [
        "### Approach 2 : Attenmpting Regularization"
      ],
      "metadata": {
        "id": "TPhff4c7EOZ-"
      }
    },
    {
      "cell_type": "code",
      "metadata": {
        "id": "9_IxOshEGim_"
      },
      "source": [
        "features_cat = ['loan_purpose_name', 'applicant_sex_name', 'loan_type_name', 'loan_purpose_name', 'denial_reason_name_3','denial_reason_name_2','denial_reason_name_1']\n",
        "features_num = ['loan_amount_000s', 'applicant_income_000s']\n",
        "X, y = preprocessing_data_X_y(new_df_loan_approved, features_cat, features_num)"
      ],
      "execution_count": null,
      "outputs": []
    },
    {
      "cell_type": "code",
      "source": [
        "from sklearn.model_selection import train_test_split\n",
        "X_train, X_TEMP, y_train, y_TEMP = train_test_split(X, y, test_size=0.30) # split out into training 70% of our data\n",
        "X_validation, X_test, y_validation, y_test = train_test_split(X_TEMP, y_TEMP, test_size=0.50) # split out into validation 15% of our data and test 15% of our data\n",
        "print(X_train.shape, X_validation.shape, X_test.shape) # print data shape to check the sizing is correct"
      ],
      "metadata": {
        "id": "ewWajRXUGinA"
      },
      "execution_count": null,
      "outputs": []
    },
    {
      "cell_type": "code",
      "source": [
        "from sklearn.linear_model import LogisticRegression\n",
        "\n",
        "model = LogisticRegression(solver='liblinear', penalty='l1', C=1.0).fit(X_train, y_train)\n",
        "y_pred_validation = model.predict(X_validation) # next get the model's predictions for a sample in the validation set\n",
        "metrics(y_validation, y_pred_validation) # finally evaluate performance\n",
        "y_pred_test = model.predict(X_test) # next get the model's predictions for a sample in the validation set\n",
        "metrics(y_test, y_pred_test) # finally evaluate performance"
      ],
      "metadata": {
        "id": "4lpgsW9vGinB"
      },
      "execution_count": null,
      "outputs": []
    },
    {
      "cell_type": "markdown",
      "source": [
        "**Conclusion** : Changing the solver we see a slight change in the confusion matrix, it has imporoved performance."
      ],
      "metadata": {
        "id": "dnetKJYPMdSP"
      }
    },
    {
      "cell_type": "markdown",
      "source": [
        "### Approach 3 : Using Random Forest"
      ],
      "metadata": {
        "id": "GOvzUFN_NG8Y"
      }
    },
    {
      "cell_type": "code",
      "source": [
        "from sklearn.ensemble import RandomForestClassifier\n",
        "\n",
        "model = RandomForestClassifier(n_estimators=100, max_depth=10, random_state=42).fit(X_train, y_train)\n",
        "y_pred_validation = model.predict(X_validation) # next get the model's predictions for a sample in the validation set\n",
        "metrics(y_validation, y_pred_validation) # finally evaluate performance\n",
        "y_pred_test = model.predict(X_test) # next get the model's predictions for a sample in the validation set\n",
        "metrics(y_test, y_pred_test) # finally evaluate performance"
      ],
      "metadata": {
        "id": "NjgpHVVHNJOs"
      },
      "execution_count": null,
      "outputs": []
    },
    {
      "cell_type": "markdown",
      "source": [
        "**Conclusion** Approach 3 performs worse, best approach has been approach 2"
      ],
      "metadata": {
        "id": "9HwlOC__XZs2"
      }
    },
    {
      "cell_type": "code",
      "source": [
        "from pycaret.classification import *"
      ],
      "metadata": {
        "id": "0SZ4Vx1QpJS9"
      },
      "execution_count": null,
      "outputs": []
    },
    {
      "cell_type": "code",
      "source": [
        "exp_name = setup(data = new_df_loan_approved,  target = 'loan_approved')"
      ],
      "metadata": {
        "id": "lxIhQ6_rpKNR"
      },
      "execution_count": null,
      "outputs": []
    },
    {
      "cell_type": "code",
      "source": [
        "knn = create_model('knn')"
      ],
      "metadata": {
        "id": "YKXeLd5nqI2Z"
      },
      "execution_count": null,
      "outputs": []
    },
    {
      "cell_type": "code",
      "source": [
        "tuned_knn = tune_model(knn, n_iter=50)\n"
      ],
      "metadata": {
        "id": "tMaROJ5K4enL"
      },
      "execution_count": null,
      "outputs": []
    },
    {
      "cell_type": "markdown",
      "metadata": {
        "id": "8mi8xNjeRiHt"
      },
      "source": [
        "# **Part 4: Your turn!** ( Trying to group the data and analyze the scenarios where it is getting approved and rejected for similar data )\n",
        "\n",
        "## Task 4.A: Create a new balanced dataset where exactly half of the samples are rejected loan applications and half are accepted loan application.\n",
        "\n",
        "show your work below"
      ]
    },
    {
      "cell_type": "code",
      "source": [
        "l = new_df_loan_approved.keys().tolist()"
      ],
      "metadata": {
        "id": "5c-F98-mRiH6"
      },
      "execution_count": null,
      "outputs": []
    },
    {
      "cell_type": "code",
      "source": [
        "l"
      ],
      "metadata": {
        "id": "dbR4MW2pRiH6"
      },
      "execution_count": null,
      "outputs": []
    },
    {
      "cell_type": "code",
      "source": [
        "exp_2 = df.copy()"
      ],
      "metadata": {
        "id": "UKtpr5xZRiH7"
      },
      "execution_count": null,
      "outputs": []
    },
    {
      "cell_type": "code",
      "source": [
        "exp_2.keys()"
      ],
      "metadata": {
        "id": "AmnF3Eu-RiH7"
      },
      "execution_count": null,
      "outputs": []
    },
    {
      "cell_type": "code",
      "source": [
        "exp_2 = exp_2[l]"
      ],
      "metadata": {
        "id": "HcOh1oq0RiH7"
      },
      "execution_count": null,
      "outputs": []
    },
    {
      "cell_type": "code",
      "source": [
        "exp_2.keys()"
      ],
      "metadata": {
        "id": "N0nN09juRiH7"
      },
      "execution_count": null,
      "outputs": []
    },
    {
      "cell_type": "code",
      "source": [
        "exp_2['income_more'] = np.where(exp_2['applicant_income_000s'] > exp_2['loan_amount_000s'], 1, 0)"
      ],
      "metadata": {
        "id": "53ZbN3VaRiH7"
      },
      "execution_count": null,
      "outputs": []
    },
    {
      "cell_type": "code",
      "source": [
        "cols_group = ['occupied_by_owner',\n",
        "       'loan_type_name', 'is_hoepa_loan', 'loan_purpose_name',\n",
        "       'denial_reason_name_3', 'denial_reason_name_2', 'denial_reason_name_1']\n",
        "grouped = new_df_loan_approved.groupby(cols_group)\n",
        "result = grouped['loan_approved'].sum()"
      ],
      "metadata": {
        "id": "xP4LFJWZRiH7"
      },
      "execution_count": null,
      "outputs": []
    },
    {
      "cell_type": "code",
      "source": [
        "mapping = {\n",
        "    'Debt-to-income ratio': 1,\n",
        "    'Credit history': 2,\n",
        "    'Credit application incomplete': 3,\n",
        "    'Collateral': 4,\n",
        "    'Other': 5,\n",
        "    'Unverifiable information': 6,\n",
        "    'Insufficient cash (downpayment, closing costs)': 7,\n",
        "    'Employment history': 8,\n",
        "    'Mortgage insurance denied': 9\n",
        "}"
      ],
      "metadata": {
        "id": "bjs6qjIvRiH7"
      },
      "execution_count": null,
      "outputs": []
    },
    {
      "cell_type": "code",
      "source": [
        "exp_2['denial_reason_name_1'] = exp_2['denial_reason_name_1'].replace(mapping)\n",
        "exp_2['denial_reason_name_1'] = exp_2['denial_reason_name_1'].fillna(0)"
      ],
      "metadata": {
        "id": "3WETqF_CRiH8"
      },
      "execution_count": null,
      "outputs": []
    },
    {
      "cell_type": "code",
      "source": [
        "exp_2['denial_reason_name_2'] = exp_2['denial_reason_name_2'].replace(mapping)\n",
        "exp_2['denial_reason_name_2'] = exp_2['denial_reason_name_2'].fillna(0)"
      ],
      "metadata": {
        "id": "YzNAhHmqRiH8"
      },
      "execution_count": null,
      "outputs": []
    },
    {
      "cell_type": "code",
      "source": [
        "exp_2['denial_reason_name_3'] = exp_2['denial_reason_name_3'].replace(mapping)\n",
        "exp_2['denial_reason_name_3'] = exp_2['denial_reason_name_3'].fillna(0)"
      ],
      "metadata": {
        "id": "UNL8MZO3RiH8"
      },
      "execution_count": null,
      "outputs": []
    },
    {
      "cell_type": "code",
      "source": [
        "def combine_and_sort(row):\n",
        "    values = row.values.tolist()  # Convert row values to a list\n",
        "    values.sort()  # Sort the values in ascending order\n",
        "    return ''.join(map(str, values))"
      ],
      "metadata": {
        "id": "KBOxusOsRiH8"
      },
      "execution_count": null,
      "outputs": []
    },
    {
      "cell_type": "code",
      "source": [
        "exp_2['reasons_combined'] = exp_2[['denial_reason_name_1','denial_reason_name_2','denial_reason_name_3']].apply(combine_and_sort, axis=1)"
      ],
      "metadata": {
        "id": "nOQdh-jMRiH8"
      },
      "execution_count": null,
      "outputs": []
    },
    {
      "cell_type": "code",
      "source": [
        "exp_2 = exp_2.drop(columns=['denial_reason_name_1','denial_reason_name_2','denial_reason_name_3', 'applicant_income_000s', 'loan_amount_000s'])"
      ],
      "metadata": {
        "id": "T8yd8Qn-RiH8"
      },
      "execution_count": null,
      "outputs": []
    },
    {
      "cell_type": "code",
      "source": [
        "cols_group = ['occupied_by_owner',\n",
        "       'loan_type_name', 'is_hoepa_loan', 'loan_purpose_name', 'reasons_combined','income_more','loan_approved']\n",
        "grouped = exp_2.groupby(cols_group)\n",
        "result = grouped['loan_approved'].count()"
      ],
      "metadata": {
        "id": "5g_EjV_rRiH8"
      },
      "execution_count": null,
      "outputs": []
    },
    {
      "cell_type": "code",
      "source": [
        "\n",
        "# Print groups where the sum is greater than 0\n",
        "result_1 = result[result > 100]\n",
        "print(len(result_1))\n",
        "print(result_1.tail(60))"
      ],
      "metadata": {
        "id": "O1UfbP2CRiH8"
      },
      "execution_count": null,
      "outputs": []
    },
    {
      "cell_type": "markdown",
      "source": [
        "Further we can do outlier detection and remove those data and see how the model performs.\n",
        "\n",
        "After outlier removal, we should divide the dataset into train and test and then fit the scaling for the train set."
      ],
      "metadata": {
        "id": "aXOe4A8VMqqd"
      }
    },
    {
      "cell_type": "markdown",
      "metadata": {
        "id": "ym50mMJWxsUv"
      },
      "source": [
        "# **Part 4: Your turn!** ( Under Sampling )\n",
        "\n",
        "## Task 4.A: Create a new balanced dataset where exactly half of the samples are rejected loan applications and half are accepted loan application.\n",
        "\n",
        "show your work below"
      ]
    },
    {
      "cell_type": "code",
      "source": [
        "count_each_label(df)"
      ],
      "metadata": {
        "colab": {
          "base_uri": "https://localhost:8080/"
        },
        "outputId": "aeaf8052-7156-40ec-b97e-3a85152b9103",
        "id": "E_6JEo7KxsU8"
      },
      "execution_count": 43,
      "outputs": [
        {
          "output_type": "stream",
          "name": "stdout",
          "text": [
            "Threshold = 184640\n",
            "--------------------------------------\n",
            "Loan Approved Count = 308901\n",
            "Loan Not Approved Count = 60380\n",
            "Current Different = 248521\n",
            "reduce approved\n",
            "--------------------------------------\n",
            "Debt-to-income ratio                              9365\n",
            "Credit history                                    8531\n",
            "Credit application incomplete                     6017\n",
            "Collateral                                        5783\n",
            "Other                                             5314\n",
            "Unverifiable information                          1951\n",
            "Insufficient cash (downpayment, closing costs)    1894\n",
            "Employment history                                 825\n",
            "Mortgage insurance denied                           47\n",
            "dtype: int64\n"
          ]
        }
      ]
    },
    {
      "cell_type": "code",
      "source": [
        "import random\n",
        "\n",
        "# Assuming 'df' is your DataFrame and 'loan_approved' is your binary label column\n",
        "indices_label_0 = df[df['loan_approved'] == 0].index\n",
        "indices_label_1 = df[df['loan_approved'] == 1].index\n",
        "\n",
        "# Randomly sample the same number of samples from label 1\n",
        "indices_label_1_sampled = random.sample(indices_label_1.tolist(), len(indices_label_0))\n",
        "\n",
        "# Combine the indices from both classes\n",
        "balanced_indices = indices_label_0.tolist() + indices_label_1_sampled\n",
        "\n",
        "# Create a balanced dataset\n",
        "under_sampled_balanced_df = df.loc[balanced_indices]"
      ],
      "metadata": {
        "id": "EI8VsoD7xsU8"
      },
      "execution_count": 44,
      "outputs": []
    },
    {
      "cell_type": "code",
      "source": [
        "count_each_label(under_sampled_balanced_df)"
      ],
      "metadata": {
        "colab": {
          "base_uri": "https://localhost:8080/"
        },
        "outputId": "aefe192f-ddfe-480f-82ec-19564123c385",
        "id": "j0ZZMRJrxsU9"
      },
      "execution_count": 141,
      "outputs": [
        {
          "output_type": "stream",
          "name": "stdout",
          "text": [
            "Threshold = 60380\n",
            "--------------------------------------\n",
            "Loan Approved Count = 60380\n",
            "Loan Not Approved Count = 60380\n",
            "Current Different = 0\n",
            "reduce not approved\n",
            "--------------------------------------\n",
            "Debt-to-income ratio                              9365\n",
            "Credit history                                    8531\n",
            "Credit application incomplete                     6017\n",
            "Collateral                                        5783\n",
            "Other                                             5314\n",
            "Unverifiable information                          1951\n",
            "Insufficient cash (downpayment, closing costs)    1894\n",
            "Employment history                                 825\n",
            "Mortgage insurance denied                           47\n",
            "dtype: int64\n"
          ]
        }
      ]
    },
    {
      "cell_type": "code",
      "source": [
        "def scale_Encode_Test(enc, scaler, data):\n",
        "  features_cat = ['loan_purpose_name', 'loan_type_name', 'loan_purpose_name', 'denial_reason_name_3','denial_reason_name_2','denial_reason_name_1']\n",
        "  features_num = ['loan_amount_000s', 'applicant_income_000s']\n",
        "  X_cat = data[features_cat]\n",
        "  X_num = data[features_num]\n",
        "  one_hot = enc.transform(X_cat) # transform data into one hot encoded sparse array format\n",
        "\n",
        "  X_cat_proc = pd.DataFrame(one_hot.toarray(), columns=enc.get_feature_names_out())\n",
        "  X_num_scaled = scaler.transform(X_num)\n",
        "  X_num_proc = pd.DataFrame(X_num_scaled, columns=features_num)\n",
        "\n",
        "  scaled_data = pd.concat([X_num_proc, X_cat_proc], axis=1, sort=False)\n",
        "  scaled_data = scaled_data.fillna(0) # remove NaN values\n",
        "  return scaled_data"
      ],
      "metadata": {
        "id": "dLs-9PLs_A0P"
      },
      "execution_count": 142,
      "outputs": []
    },
    {
      "cell_type": "code",
      "source": [
        "def preprocessing_data_X_y(data, features_cat, features_num):\n",
        "  X = data[['loan_purpose_name', 'loan_type_name', 'loan_purpose_name', 'denial_reason_name_3','denial_reason_name_2','denial_reason_name_1','loan_amount_000s', 'applicant_income_000s']]\n",
        "  y = data['loan_approved']\n",
        "\n",
        "  X_train, X_TEMP, y_train, y_TEMP = train_test_split(X, y, test_size=0.30, stratify=y) # split out into training 70% of our data\n",
        "  X_validation, X_test, y_validation, y_test = train_test_split(X_TEMP, y_TEMP, test_size=0.50, stratify=y) # split out into validation 15% of our data and test 15% of our data\n",
        "\n",
        "\n",
        "  features_cat = ['loan_purpose_name', 'loan_type_name', 'loan_purpose_name', 'denial_reason_name_3','denial_reason_name_2','denial_reason_name_1']\n",
        "  features_num = ['loan_amount_000s', 'applicant_income_000s']\n",
        "\n",
        "  X_cat = X_train[features_cat]\n",
        "  X_num = X_train[features_num]\n",
        "\n",
        "  enc = preprocessing.OneHotEncoder()\n",
        "  enc.fit(X_cat) # fit the encoder to categories in our data\n",
        "  scaler = StandardScaler()\n",
        "  scaler.fit(X_num)\n",
        "  X_train = scale_Encode_Test(enc, scaler, X_train)\n",
        "\n",
        "  return X_train, y_train, X_validation, y_validation, X_test, y_test, enc, scaler"
      ],
      "metadata": {
        "id": "dpuGg9RAyzHV"
      },
      "execution_count": 199,
      "outputs": []
    },
    {
      "cell_type": "code",
      "metadata": {
        "id": "lfT_mYbdxsU-"
      },
      "source": [
        "X_train, y_train, X_validation, y_validation, X_test, y_test, enc, scaler = preprocessing_data_X_y(under_sampled_balanced_df, features_cat, features_num)"
      ],
      "execution_count": 144,
      "outputs": []
    },
    {
      "cell_type": "code",
      "source": [
        "X_train.head(5)"
      ],
      "metadata": {
        "colab": {
          "base_uri": "https://localhost:8080/",
          "height": 273
        },
        "id": "gkLMFpuTIZHo",
        "outputId": "712772dd-2858-4de7-c18a-ff6fe337d1b6"
      },
      "execution_count": 145,
      "outputs": [
        {
          "output_type": "execute_result",
          "data": {
            "text/plain": [
              "   loan_amount_000s  applicant_income_000s  \\\n",
              "0         -0.066615               0.000000   \n",
              "1         -0.062845               0.172284   \n",
              "2         -0.126922              -0.368679   \n",
              "3         -0.158960              -0.260486   \n",
              "4          0.176499               0.048635   \n",
              "\n",
              "   loan_purpose_name_Home improvement  loan_purpose_name_Home purchase  \\\n",
              "0                                 0.0                              1.0   \n",
              "1                                 0.0                              0.0   \n",
              "2                                 0.0                              0.0   \n",
              "3                                 0.0                              0.0   \n",
              "4                                 0.0                              1.0   \n",
              "\n",
              "   loan_purpose_name_Refinancing  loan_purpose_name_Home improvement  \\\n",
              "0                            0.0                                 0.0   \n",
              "1                            1.0                                 0.0   \n",
              "2                            1.0                                 0.0   \n",
              "3                            1.0                                 0.0   \n",
              "4                            0.0                                 0.0   \n",
              "\n",
              "   loan_purpose_name_Home purchase  loan_purpose_name_Refinancing  \\\n",
              "0                              1.0                            0.0   \n",
              "1                              0.0                            1.0   \n",
              "2                              0.0                            1.0   \n",
              "3                              0.0                            1.0   \n",
              "4                              1.0                            0.0   \n",
              "\n",
              "   loan_type_name_Conventional  loan_type_name_FHA-insured  ...  \\\n",
              "0                          0.0                         1.0  ...   \n",
              "1                          1.0                         0.0  ...   \n",
              "2                          0.0                         1.0  ...   \n",
              "3                          1.0                         0.0  ...   \n",
              "4                          1.0                         0.0  ...   \n",
              "\n",
              "   denial_reason_name_1_Collateral  \\\n",
              "0                              0.0   \n",
              "1                              0.0   \n",
              "2                              0.0   \n",
              "3                              0.0   \n",
              "4                              0.0   \n",
              "\n",
              "   denial_reason_name_1_Credit application incomplete  \\\n",
              "0                                                0.0    \n",
              "1                                                0.0    \n",
              "2                                                0.0    \n",
              "3                                                0.0    \n",
              "4                                                0.0    \n",
              "\n",
              "   denial_reason_name_1_Credit history  \\\n",
              "0                                  0.0   \n",
              "1                                  0.0   \n",
              "2                                  1.0   \n",
              "3                                  0.0   \n",
              "4                                  0.0   \n",
              "\n",
              "   denial_reason_name_1_Debt-to-income ratio  \\\n",
              "0                                        0.0   \n",
              "1                                        0.0   \n",
              "2                                        0.0   \n",
              "3                                        0.0   \n",
              "4                                        0.0   \n",
              "\n",
              "   denial_reason_name_1_Employment history  \\\n",
              "0                                      0.0   \n",
              "1                                      0.0   \n",
              "2                                      0.0   \n",
              "3                                      0.0   \n",
              "4                                      0.0   \n",
              "\n",
              "   denial_reason_name_1_Insufficient cash (downpayment, closing costs)  \\\n",
              "0                                                0.0                     \n",
              "1                                                0.0                     \n",
              "2                                                0.0                     \n",
              "3                                                0.0                     \n",
              "4                                                0.0                     \n",
              "\n",
              "   denial_reason_name_1_Mortgage insurance denied  denial_reason_name_1_Other  \\\n",
              "0                                             0.0                         0.0   \n",
              "1                                             0.0                         0.0   \n",
              "2                                             0.0                         0.0   \n",
              "3                                             0.0                         0.0   \n",
              "4                                             0.0                         0.0   \n",
              "\n",
              "   denial_reason_name_1_Unverifiable information  denial_reason_name_1_nan  \n",
              "0                                            0.0                       1.0  \n",
              "1                                            0.0                       1.0  \n",
              "2                                            0.0                       0.0  \n",
              "3                                            0.0                       1.0  \n",
              "4                                            0.0                       1.0  \n",
              "\n",
              "[5 rows x 48 columns]"
            ],
            "text/html": [
              "\n",
              "  <div id=\"df-0ed543cb-253c-413f-a3a7-1d3c0a639fc3\" class=\"colab-df-container\">\n",
              "    <div>\n",
              "<style scoped>\n",
              "    .dataframe tbody tr th:only-of-type {\n",
              "        vertical-align: middle;\n",
              "    }\n",
              "\n",
              "    .dataframe tbody tr th {\n",
              "        vertical-align: top;\n",
              "    }\n",
              "\n",
              "    .dataframe thead th {\n",
              "        text-align: right;\n",
              "    }\n",
              "</style>\n",
              "<table border=\"1\" class=\"dataframe\">\n",
              "  <thead>\n",
              "    <tr style=\"text-align: right;\">\n",
              "      <th></th>\n",
              "      <th>loan_amount_000s</th>\n",
              "      <th>applicant_income_000s</th>\n",
              "      <th>loan_purpose_name_Home improvement</th>\n",
              "      <th>loan_purpose_name_Home purchase</th>\n",
              "      <th>loan_purpose_name_Refinancing</th>\n",
              "      <th>loan_purpose_name_Home improvement</th>\n",
              "      <th>loan_purpose_name_Home purchase</th>\n",
              "      <th>loan_purpose_name_Refinancing</th>\n",
              "      <th>loan_type_name_Conventional</th>\n",
              "      <th>loan_type_name_FHA-insured</th>\n",
              "      <th>...</th>\n",
              "      <th>denial_reason_name_1_Collateral</th>\n",
              "      <th>denial_reason_name_1_Credit application incomplete</th>\n",
              "      <th>denial_reason_name_1_Credit history</th>\n",
              "      <th>denial_reason_name_1_Debt-to-income ratio</th>\n",
              "      <th>denial_reason_name_1_Employment history</th>\n",
              "      <th>denial_reason_name_1_Insufficient cash (downpayment, closing costs)</th>\n",
              "      <th>denial_reason_name_1_Mortgage insurance denied</th>\n",
              "      <th>denial_reason_name_1_Other</th>\n",
              "      <th>denial_reason_name_1_Unverifiable information</th>\n",
              "      <th>denial_reason_name_1_nan</th>\n",
              "    </tr>\n",
              "  </thead>\n",
              "  <tbody>\n",
              "    <tr>\n",
              "      <th>0</th>\n",
              "      <td>-0.066615</td>\n",
              "      <td>0.000000</td>\n",
              "      <td>0.0</td>\n",
              "      <td>1.0</td>\n",
              "      <td>0.0</td>\n",
              "      <td>0.0</td>\n",
              "      <td>1.0</td>\n",
              "      <td>0.0</td>\n",
              "      <td>0.0</td>\n",
              "      <td>1.0</td>\n",
              "      <td>...</td>\n",
              "      <td>0.0</td>\n",
              "      <td>0.0</td>\n",
              "      <td>0.0</td>\n",
              "      <td>0.0</td>\n",
              "      <td>0.0</td>\n",
              "      <td>0.0</td>\n",
              "      <td>0.0</td>\n",
              "      <td>0.0</td>\n",
              "      <td>0.0</td>\n",
              "      <td>1.0</td>\n",
              "    </tr>\n",
              "    <tr>\n",
              "      <th>1</th>\n",
              "      <td>-0.062845</td>\n",
              "      <td>0.172284</td>\n",
              "      <td>0.0</td>\n",
              "      <td>0.0</td>\n",
              "      <td>1.0</td>\n",
              "      <td>0.0</td>\n",
              "      <td>0.0</td>\n",
              "      <td>1.0</td>\n",
              "      <td>1.0</td>\n",
              "      <td>0.0</td>\n",
              "      <td>...</td>\n",
              "      <td>0.0</td>\n",
              "      <td>0.0</td>\n",
              "      <td>0.0</td>\n",
              "      <td>0.0</td>\n",
              "      <td>0.0</td>\n",
              "      <td>0.0</td>\n",
              "      <td>0.0</td>\n",
              "      <td>0.0</td>\n",
              "      <td>0.0</td>\n",
              "      <td>1.0</td>\n",
              "    </tr>\n",
              "    <tr>\n",
              "      <th>2</th>\n",
              "      <td>-0.126922</td>\n",
              "      <td>-0.368679</td>\n",
              "      <td>0.0</td>\n",
              "      <td>0.0</td>\n",
              "      <td>1.0</td>\n",
              "      <td>0.0</td>\n",
              "      <td>0.0</td>\n",
              "      <td>1.0</td>\n",
              "      <td>0.0</td>\n",
              "      <td>1.0</td>\n",
              "      <td>...</td>\n",
              "      <td>0.0</td>\n",
              "      <td>0.0</td>\n",
              "      <td>1.0</td>\n",
              "      <td>0.0</td>\n",
              "      <td>0.0</td>\n",
              "      <td>0.0</td>\n",
              "      <td>0.0</td>\n",
              "      <td>0.0</td>\n",
              "      <td>0.0</td>\n",
              "      <td>0.0</td>\n",
              "    </tr>\n",
              "    <tr>\n",
              "      <th>3</th>\n",
              "      <td>-0.158960</td>\n",
              "      <td>-0.260486</td>\n",
              "      <td>0.0</td>\n",
              "      <td>0.0</td>\n",
              "      <td>1.0</td>\n",
              "      <td>0.0</td>\n",
              "      <td>0.0</td>\n",
              "      <td>1.0</td>\n",
              "      <td>1.0</td>\n",
              "      <td>0.0</td>\n",
              "      <td>...</td>\n",
              "      <td>0.0</td>\n",
              "      <td>0.0</td>\n",
              "      <td>0.0</td>\n",
              "      <td>0.0</td>\n",
              "      <td>0.0</td>\n",
              "      <td>0.0</td>\n",
              "      <td>0.0</td>\n",
              "      <td>0.0</td>\n",
              "      <td>0.0</td>\n",
              "      <td>1.0</td>\n",
              "    </tr>\n",
              "    <tr>\n",
              "      <th>4</th>\n",
              "      <td>0.176499</td>\n",
              "      <td>0.048635</td>\n",
              "      <td>0.0</td>\n",
              "      <td>1.0</td>\n",
              "      <td>0.0</td>\n",
              "      <td>0.0</td>\n",
              "      <td>1.0</td>\n",
              "      <td>0.0</td>\n",
              "      <td>1.0</td>\n",
              "      <td>0.0</td>\n",
              "      <td>...</td>\n",
              "      <td>0.0</td>\n",
              "      <td>0.0</td>\n",
              "      <td>0.0</td>\n",
              "      <td>0.0</td>\n",
              "      <td>0.0</td>\n",
              "      <td>0.0</td>\n",
              "      <td>0.0</td>\n",
              "      <td>0.0</td>\n",
              "      <td>0.0</td>\n",
              "      <td>1.0</td>\n",
              "    </tr>\n",
              "  </tbody>\n",
              "</table>\n",
              "<p>5 rows × 48 columns</p>\n",
              "</div>\n",
              "    <div class=\"colab-df-buttons\">\n",
              "\n",
              "  <div class=\"colab-df-container\">\n",
              "    <button class=\"colab-df-convert\" onclick=\"convertToInteractive('df-0ed543cb-253c-413f-a3a7-1d3c0a639fc3')\"\n",
              "            title=\"Convert this dataframe to an interactive table.\"\n",
              "            style=\"display:none;\">\n",
              "\n",
              "  <svg xmlns=\"http://www.w3.org/2000/svg\" height=\"24px\" viewBox=\"0 -960 960 960\">\n",
              "    <path d=\"M120-120v-720h720v720H120Zm60-500h600v-160H180v160Zm220 220h160v-160H400v160Zm0 220h160v-160H400v160ZM180-400h160v-160H180v160Zm440 0h160v-160H620v160ZM180-180h160v-160H180v160Zm440 0h160v-160H620v160Z\"/>\n",
              "  </svg>\n",
              "    </button>\n",
              "\n",
              "  <style>\n",
              "    .colab-df-container {\n",
              "      display:flex;\n",
              "      gap: 12px;\n",
              "    }\n",
              "\n",
              "    .colab-df-convert {\n",
              "      background-color: #E8F0FE;\n",
              "      border: none;\n",
              "      border-radius: 50%;\n",
              "      cursor: pointer;\n",
              "      display: none;\n",
              "      fill: #1967D2;\n",
              "      height: 32px;\n",
              "      padding: 0 0 0 0;\n",
              "      width: 32px;\n",
              "    }\n",
              "\n",
              "    .colab-df-convert:hover {\n",
              "      background-color: #E2EBFA;\n",
              "      box-shadow: 0px 1px 2px rgba(60, 64, 67, 0.3), 0px 1px 3px 1px rgba(60, 64, 67, 0.15);\n",
              "      fill: #174EA6;\n",
              "    }\n",
              "\n",
              "    .colab-df-buttons div {\n",
              "      margin-bottom: 4px;\n",
              "    }\n",
              "\n",
              "    [theme=dark] .colab-df-convert {\n",
              "      background-color: #3B4455;\n",
              "      fill: #D2E3FC;\n",
              "    }\n",
              "\n",
              "    [theme=dark] .colab-df-convert:hover {\n",
              "      background-color: #434B5C;\n",
              "      box-shadow: 0px 1px 3px 1px rgba(0, 0, 0, 0.15);\n",
              "      filter: drop-shadow(0px 1px 2px rgba(0, 0, 0, 0.3));\n",
              "      fill: #FFFFFF;\n",
              "    }\n",
              "  </style>\n",
              "\n",
              "    <script>\n",
              "      const buttonEl =\n",
              "        document.querySelector('#df-0ed543cb-253c-413f-a3a7-1d3c0a639fc3 button.colab-df-convert');\n",
              "      buttonEl.style.display =\n",
              "        google.colab.kernel.accessAllowed ? 'block' : 'none';\n",
              "\n",
              "      async function convertToInteractive(key) {\n",
              "        const element = document.querySelector('#df-0ed543cb-253c-413f-a3a7-1d3c0a639fc3');\n",
              "        const dataTable =\n",
              "          await google.colab.kernel.invokeFunction('convertToInteractive',\n",
              "                                                    [key], {});\n",
              "        if (!dataTable) return;\n",
              "\n",
              "        const docLinkHtml = 'Like what you see? Visit the ' +\n",
              "          '<a target=\"_blank\" href=https://colab.research.google.com/notebooks/data_table.ipynb>data table notebook</a>'\n",
              "          + ' to learn more about interactive tables.';\n",
              "        element.innerHTML = '';\n",
              "        dataTable['output_type'] = 'display_data';\n",
              "        await google.colab.output.renderOutput(dataTable, element);\n",
              "        const docLink = document.createElement('div');\n",
              "        docLink.innerHTML = docLinkHtml;\n",
              "        element.appendChild(docLink);\n",
              "      }\n",
              "    </script>\n",
              "  </div>\n",
              "\n",
              "\n",
              "<div id=\"df-a361d0de-9cfe-444f-af2f-0f0f9b10cf26\">\n",
              "  <button class=\"colab-df-quickchart\" onclick=\"quickchart('df-a361d0de-9cfe-444f-af2f-0f0f9b10cf26')\"\n",
              "            title=\"Suggest charts.\"\n",
              "            style=\"display:none;\">\n",
              "\n",
              "<svg xmlns=\"http://www.w3.org/2000/svg\" height=\"24px\"viewBox=\"0 0 24 24\"\n",
              "     width=\"24px\">\n",
              "    <g>\n",
              "        <path d=\"M19 3H5c-1.1 0-2 .9-2 2v14c0 1.1.9 2 2 2h14c1.1 0 2-.9 2-2V5c0-1.1-.9-2-2-2zM9 17H7v-7h2v7zm4 0h-2V7h2v10zm4 0h-2v-4h2v4z\"/>\n",
              "    </g>\n",
              "</svg>\n",
              "  </button>\n",
              "\n",
              "<style>\n",
              "  .colab-df-quickchart {\n",
              "      --bg-color: #E8F0FE;\n",
              "      --fill-color: #1967D2;\n",
              "      --hover-bg-color: #E2EBFA;\n",
              "      --hover-fill-color: #174EA6;\n",
              "      --disabled-fill-color: #AAA;\n",
              "      --disabled-bg-color: #DDD;\n",
              "  }\n",
              "\n",
              "  [theme=dark] .colab-df-quickchart {\n",
              "      --bg-color: #3B4455;\n",
              "      --fill-color: #D2E3FC;\n",
              "      --hover-bg-color: #434B5C;\n",
              "      --hover-fill-color: #FFFFFF;\n",
              "      --disabled-bg-color: #3B4455;\n",
              "      --disabled-fill-color: #666;\n",
              "  }\n",
              "\n",
              "  .colab-df-quickchart {\n",
              "    background-color: var(--bg-color);\n",
              "    border: none;\n",
              "    border-radius: 50%;\n",
              "    cursor: pointer;\n",
              "    display: none;\n",
              "    fill: var(--fill-color);\n",
              "    height: 32px;\n",
              "    padding: 0;\n",
              "    width: 32px;\n",
              "  }\n",
              "\n",
              "  .colab-df-quickchart:hover {\n",
              "    background-color: var(--hover-bg-color);\n",
              "    box-shadow: 0 1px 2px rgba(60, 64, 67, 0.3), 0 1px 3px 1px rgba(60, 64, 67, 0.15);\n",
              "    fill: var(--button-hover-fill-color);\n",
              "  }\n",
              "\n",
              "  .colab-df-quickchart-complete:disabled,\n",
              "  .colab-df-quickchart-complete:disabled:hover {\n",
              "    background-color: var(--disabled-bg-color);\n",
              "    fill: var(--disabled-fill-color);\n",
              "    box-shadow: none;\n",
              "  }\n",
              "\n",
              "  .colab-df-spinner {\n",
              "    border: 2px solid var(--fill-color);\n",
              "    border-color: transparent;\n",
              "    border-bottom-color: var(--fill-color);\n",
              "    animation:\n",
              "      spin 1s steps(1) infinite;\n",
              "  }\n",
              "\n",
              "  @keyframes spin {\n",
              "    0% {\n",
              "      border-color: transparent;\n",
              "      border-bottom-color: var(--fill-color);\n",
              "      border-left-color: var(--fill-color);\n",
              "    }\n",
              "    20% {\n",
              "      border-color: transparent;\n",
              "      border-left-color: var(--fill-color);\n",
              "      border-top-color: var(--fill-color);\n",
              "    }\n",
              "    30% {\n",
              "      border-color: transparent;\n",
              "      border-left-color: var(--fill-color);\n",
              "      border-top-color: var(--fill-color);\n",
              "      border-right-color: var(--fill-color);\n",
              "    }\n",
              "    40% {\n",
              "      border-color: transparent;\n",
              "      border-right-color: var(--fill-color);\n",
              "      border-top-color: var(--fill-color);\n",
              "    }\n",
              "    60% {\n",
              "      border-color: transparent;\n",
              "      border-right-color: var(--fill-color);\n",
              "    }\n",
              "    80% {\n",
              "      border-color: transparent;\n",
              "      border-right-color: var(--fill-color);\n",
              "      border-bottom-color: var(--fill-color);\n",
              "    }\n",
              "    90% {\n",
              "      border-color: transparent;\n",
              "      border-bottom-color: var(--fill-color);\n",
              "    }\n",
              "  }\n",
              "</style>\n",
              "\n",
              "  <script>\n",
              "    async function quickchart(key) {\n",
              "      const quickchartButtonEl =\n",
              "        document.querySelector('#' + key + ' button');\n",
              "      quickchartButtonEl.disabled = true;  // To prevent multiple clicks.\n",
              "      quickchartButtonEl.classList.add('colab-df-spinner');\n",
              "      try {\n",
              "        const charts = await google.colab.kernel.invokeFunction(\n",
              "            'suggestCharts', [key], {});\n",
              "      } catch (error) {\n",
              "        console.error('Error during call to suggestCharts:', error);\n",
              "      }\n",
              "      quickchartButtonEl.classList.remove('colab-df-spinner');\n",
              "      quickchartButtonEl.classList.add('colab-df-quickchart-complete');\n",
              "    }\n",
              "    (() => {\n",
              "      let quickchartButtonEl =\n",
              "        document.querySelector('#df-a361d0de-9cfe-444f-af2f-0f0f9b10cf26 button');\n",
              "      quickchartButtonEl.style.display =\n",
              "        google.colab.kernel.accessAllowed ? 'block' : 'none';\n",
              "    })();\n",
              "  </script>\n",
              "</div>\n",
              "    </div>\n",
              "  </div>\n"
            ]
          },
          "metadata": {},
          "execution_count": 145
        }
      ]
    },
    {
      "cell_type": "code",
      "source": [
        "from sklearn.linear_model import LogisticRegression\n",
        "\n",
        "model = LogisticRegression(solver='lbfgs', max_iter=5000).fit(X_train, y_train) # first fit (train) the model\n"
      ],
      "metadata": {
        "id": "WwsV8uo3xsU-"
      },
      "execution_count": 146,
      "outputs": []
    },
    {
      "cell_type": "code",
      "source": [
        "y_train_pred = model.predict(X_train) # next get the model's predictions for a sample in the validation set\n",
        "metrics(y_train, y_train_pred) # finally evaluate performance"
      ],
      "metadata": {
        "colab": {
          "base_uri": "https://localhost:8080/"
        },
        "id": "G2j7eOtQIuxo",
        "outputId": "758c3282-09d0-47a6-ef69-f9d411b38f29"
      },
      "execution_count": 147,
      "outputs": [
        {
          "output_type": "stream",
          "name": "stdout",
          "text": [
            "Confusion matrix:\n",
            " [[25200 17098]\n",
            " [ 1824 40410]]\n",
            "\n",
            "Report:\n",
            "               precision    recall  f1-score   support\n",
            "\n",
            "           0       0.93      0.60      0.73     42298\n",
            "           1       0.70      0.96      0.81     42234\n",
            "\n",
            "    accuracy                           0.78     84532\n",
            "   macro avg       0.82      0.78      0.77     84532\n",
            "weighted avg       0.82      0.78      0.77     84532\n",
            "\n"
          ]
        }
      ]
    },
    {
      "cell_type": "code",
      "source": [
        "y_pred_validation = model.predict(scale_Encode_Test(enc, scaler, X_validation)) # next get the model's predictions for a sample in the validation set\n",
        "metrics(y_validation, y_pred_validation) # finally evaluate performance\n",
        "y_pred_test = model.predict(scale_Encode_Test(enc, scaler, X_test)) # next get the model's predictions for a sample in the validation set\n",
        "metrics(y_test, y_pred_test) # finally evaluate performance"
      ],
      "metadata": {
        "colab": {
          "base_uri": "https://localhost:8080/"
        },
        "id": "mJKHrhYiISBB",
        "outputId": "ff6e0982-9112-4680-adf2-c603edef200f"
      },
      "execution_count": 148,
      "outputs": [
        {
          "output_type": "stream",
          "name": "stdout",
          "text": [
            "Confusion matrix:\n",
            " [[5370 3615]\n",
            " [ 386 8743]]\n",
            "\n",
            "Report:\n",
            "               precision    recall  f1-score   support\n",
            "\n",
            "           0       0.93      0.60      0.73      8985\n",
            "           1       0.71      0.96      0.81      9129\n",
            "\n",
            "    accuracy                           0.78     18114\n",
            "   macro avg       0.82      0.78      0.77     18114\n",
            "weighted avg       0.82      0.78      0.77     18114\n",
            "\n",
            "Confusion matrix:\n",
            " [[5374 3723]\n",
            " [ 350 8667]]\n",
            "\n",
            "Report:\n",
            "               precision    recall  f1-score   support\n",
            "\n",
            "           0       0.94      0.59      0.73      9097\n",
            "           1       0.70      0.96      0.81      9017\n",
            "\n",
            "    accuracy                           0.78     18114\n",
            "   macro avg       0.82      0.78      0.77     18114\n",
            "weighted avg       0.82      0.78      0.77     18114\n",
            "\n"
          ]
        }
      ]
    },
    {
      "cell_type": "markdown",
      "source": [
        "**We see usign more features helped us serve better at classification.**"
      ],
      "metadata": {
        "id": "qUsY5azAxsU_"
      }
    },
    {
      "cell_type": "markdown",
      "source": [
        "Using all the features and using pycaret to run and generate the lr model, this will help us to understand if selecting all the independent variables are useful"
      ],
      "metadata": {
        "id": "XRqRh7dWxsU_"
      }
    },
    {
      "cell_type": "markdown",
      "metadata": {
        "id": "TN-MZdLDJSbO"
      },
      "source": [
        "# **Part 4: Your turn!** ( Random Oversampling )\n",
        "\n",
        "## Task 4.A: Create a new balanced dataset where exactly half of the samples are rejected loan applications and half are accepted loan application.\n",
        "\n",
        "show your work below"
      ]
    },
    {
      "cell_type": "code",
      "source": [
        "count_each_label(df)"
      ],
      "metadata": {
        "colab": {
          "base_uri": "https://localhost:8080/"
        },
        "outputId": "198d093a-82e1-4ea6-c982-f841952d998c",
        "id": "JnfyqvXZJSbc"
      },
      "execution_count": 133,
      "outputs": [
        {
          "output_type": "stream",
          "name": "stdout",
          "text": [
            "Threshold = 184640\n",
            "--------------------------------------\n",
            "Loan Approved Count = 308901\n",
            "Loan Not Approved Count = 60380\n",
            "Current Different = 248521\n",
            "reduce approved\n",
            "--------------------------------------\n",
            "Debt-to-income ratio                              9365\n",
            "Credit history                                    8531\n",
            "Credit application incomplete                     6017\n",
            "Collateral                                        5783\n",
            "Other                                             5314\n",
            "Unverifiable information                          1951\n",
            "Insufficient cash (downpayment, closing costs)    1894\n",
            "Employment history                                 825\n",
            "Mortgage insurance denied                           47\n",
            "dtype: int64\n"
          ]
        }
      ]
    },
    {
      "cell_type": "code",
      "source": [
        "from sklearn.utils import resample"
      ],
      "metadata": {
        "id": "m8PeC4PcJeEX"
      },
      "execution_count": 139,
      "outputs": []
    },
    {
      "cell_type": "code",
      "source": [
        "X_train, y_train, X_validation, y_validation, X_test, y_test, enc, scaler = preprocessing_data_X_y(balanced_df, features_cat, features_num)"
      ],
      "metadata": {
        "id": "X9pa_9VLJSbc"
      },
      "execution_count": 136,
      "outputs": []
    },
    {
      "cell_type": "code",
      "source": [
        "len(indices_label_0)"
      ],
      "metadata": {
        "colab": {
          "base_uri": "https://localhost:8080/"
        },
        "id": "KomvGQAWJrcu",
        "outputId": "05a0e564-b519-4a28-9abe-c99fc4a2b0f8"
      },
      "execution_count": 138,
      "outputs": [
        {
          "output_type": "execute_result",
          "data": {
            "text/plain": [
              "60380"
            ]
          },
          "metadata": {},
          "execution_count": 138
        }
      ]
    },
    {
      "cell_type": "code",
      "source": [
        "count_each_label(balanced_df)"
      ],
      "metadata": {
        "colab": {
          "base_uri": "https://localhost:8080/"
        },
        "outputId": "cd9d282a-51b7-4c4a-caab-1c25215a1369",
        "id": "8CIRZ2RrJSbc"
      },
      "execution_count": null,
      "outputs": [
        {
          "output_type": "stream",
          "name": "stdout",
          "text": [
            "Threshold = 60380\n",
            "--------------------------------------\n",
            "Loan Approved Count = 60380\n",
            "Loan Not Approved Count = 60380\n",
            "Current Different = 0\n",
            "reduce not approved\n",
            "--------------------------------------\n",
            "Debt-to-income ratio                              9365\n",
            "Credit history                                    8531\n",
            "Credit application incomplete                     6017\n",
            "Collateral                                        5783\n",
            "Other                                             5314\n",
            "Unverifiable information                          1951\n",
            "Insufficient cash (downpayment, closing costs)    1894\n",
            "Employment history                                 825\n",
            "Mortgage insurance denied                           47\n",
            "dtype: int64\n"
          ]
        }
      ]
    },
    {
      "cell_type": "code",
      "source": [
        "def scale_Encode_Test(enc, scaler, data):\n",
        "  features_cat = ['loan_purpose_name', 'loan_type_name', 'loan_purpose_name', 'denial_reason_name_3','denial_reason_name_2','denial_reason_name_1']\n",
        "  features_num = ['loan_amount_000s', 'applicant_income_000s']\n",
        "  X_cat = data[features_cat]\n",
        "  X_num = data[features_num]\n",
        "  one_hot = enc.transform(X_cat) # transform data into one hot encoded sparse array format\n",
        "\n",
        "  X_cat_proc = pd.DataFrame(one_hot.toarray(), columns=enc.get_feature_names_out())\n",
        "  X_num_scaled = scaler.transform(X_num)\n",
        "  X_num_proc = pd.DataFrame(X_num_scaled, columns=features_num)\n",
        "\n",
        "  scaled_data = pd.concat([X_num_proc, X_cat_proc], axis=1, sort=False)\n",
        "  scaled_data = scaled_data.fillna(0) # remove NaN values\n",
        "  return scaled_data"
      ],
      "metadata": {
        "id": "2O8Eu_arJSbc"
      },
      "execution_count": null,
      "outputs": []
    },
    {
      "cell_type": "code",
      "source": [
        "def over_sample_data(X_train, y_train):\n",
        "  majority_class = X_train[y_train == 1]\n",
        "  minority_class = X_train[y_train == 0]\n",
        "  minority_upsampled = resample(minority_class, replace=True, n_samples=len(majority_class), random_state=42)\n",
        "  # Combine the upsampled minority class with the original majority class\n",
        "  X_train_upsampled = pd.concat([pd.DataFrame(majority_class), pd.DataFrame(minority_upsampled)])\n",
        "  y_train_upsampled = pd.concat([pd.Series(1, index=range(len(majority_class))), pd.Series(0, index=range(len(minority_upsampled)))])\n",
        "\n",
        "  return X_train_upsampled, y_train_upsampled"
      ],
      "metadata": {
        "id": "QjTcBW0CLb5v"
      },
      "execution_count": 181,
      "outputs": []
    },
    {
      "cell_type": "code",
      "source": [
        "def preprocessing_data_X_y_overSampling(data, features_cat, features_num):\n",
        "  X = data[['loan_purpose_name', 'loan_type_name', 'loan_purpose_name', 'denial_reason_name_3','denial_reason_name_2','denial_reason_name_1','loan_amount_000s', 'applicant_income_000s']]\n",
        "  y = data['loan_approved']\n",
        "\n",
        "  X_train, X_TEMP, y_train, y_TEMP = train_test_split(X, y, test_size=0.30) # split out into training 70% of our data\n",
        "  X_validation, X_test, y_validation, y_test = train_test_split(X_TEMP, y_TEMP, test_size=0.50) # split out into validation 15% of our data and test 15% of our data\n",
        "\n",
        "  X_train, y_train = over_sample_data(X_train, y_train)\n",
        "\n",
        "  features_cat = ['loan_purpose_name', 'loan_type_name', 'loan_purpose_name', 'denial_reason_name_3','denial_reason_name_2','denial_reason_name_1']\n",
        "  features_num = ['loan_amount_000s', 'applicant_income_000s']\n",
        "  X_cat = X_train[features_cat]\n",
        "  X_num = X_train[features_num]\n",
        "\n",
        "  enc = preprocessing.OneHotEncoder()\n",
        "  enc.fit(X_cat) # fit the encoder to categories in our data\n",
        "  scaler = StandardScaler()\n",
        "  scaler.fit(X_num)\n",
        "  X_train = scale_Encode_Test(enc, scaler, X_train)\n",
        "\n",
        "  return X_train, y_train, X_validation, y_validation, X_test, y_test, enc, scaler"
      ],
      "metadata": {
        "id": "uNtGNsZOJSbc"
      },
      "execution_count": 218,
      "outputs": []
    },
    {
      "cell_type": "code",
      "metadata": {
        "colab": {
          "base_uri": "https://localhost:8080/",
          "height": 322
        },
        "id": "Pye6XshOJSbc",
        "outputId": "34b37ff8-2022-4753-c735-b341f087c8ef"
      },
      "source": [
        "X_train, y_train, X_validation, y_validation, X_test, y_test, enc, scaler = preprocessing_data_X_y_overSampling(df, features_cat, features_num)"
      ],
      "execution_count": 201,
      "outputs": [
        {
          "output_type": "error",
          "ename": "ValueError",
          "evalue": "ignored",
          "traceback": [
            "\u001b[0;31m---------------------------------------------------------------------------\u001b[0m",
            "\u001b[0;31mValueError\u001b[0m                                Traceback (most recent call last)",
            "\u001b[0;32m<ipython-input-201-653505e2f437>\u001b[0m in \u001b[0;36m<cell line: 1>\u001b[0;34m()\u001b[0m\n\u001b[0;32m----> 1\u001b[0;31m \u001b[0mX_train\u001b[0m\u001b[0;34m,\u001b[0m \u001b[0my_train\u001b[0m\u001b[0;34m,\u001b[0m \u001b[0mX_validation\u001b[0m\u001b[0;34m,\u001b[0m \u001b[0my_validation\u001b[0m\u001b[0;34m,\u001b[0m \u001b[0mX_test\u001b[0m\u001b[0;34m,\u001b[0m \u001b[0my_test\u001b[0m\u001b[0;34m,\u001b[0m \u001b[0menc\u001b[0m\u001b[0;34m,\u001b[0m \u001b[0mscaler\u001b[0m \u001b[0;34m=\u001b[0m \u001b[0mpreprocessing_data_X_y_overSampling\u001b[0m\u001b[0;34m(\u001b[0m\u001b[0mdf\u001b[0m\u001b[0;34m,\u001b[0m \u001b[0mfeatures_cat\u001b[0m\u001b[0;34m,\u001b[0m \u001b[0mfeatures_num\u001b[0m\u001b[0;34m)\u001b[0m\u001b[0;34m\u001b[0m\u001b[0;34m\u001b[0m\u001b[0m\n\u001b[0m",
            "\u001b[0;32m<ipython-input-200-85139a8710b3>\u001b[0m in \u001b[0;36mpreprocessing_data_X_y_overSampling\u001b[0;34m(data, features_cat, features_num)\u001b[0m\n\u001b[1;32m      4\u001b[0m \u001b[0;34m\u001b[0m\u001b[0m\n\u001b[1;32m      5\u001b[0m   \u001b[0mX_train\u001b[0m\u001b[0;34m,\u001b[0m \u001b[0mX_TEMP\u001b[0m\u001b[0;34m,\u001b[0m \u001b[0my_train\u001b[0m\u001b[0;34m,\u001b[0m \u001b[0my_TEMP\u001b[0m \u001b[0;34m=\u001b[0m \u001b[0mtrain_test_split\u001b[0m\u001b[0;34m(\u001b[0m\u001b[0mX\u001b[0m\u001b[0;34m,\u001b[0m \u001b[0my\u001b[0m\u001b[0;34m,\u001b[0m \u001b[0mtest_size\u001b[0m\u001b[0;34m=\u001b[0m\u001b[0;36m0.30\u001b[0m\u001b[0;34m,\u001b[0m \u001b[0mstratify\u001b[0m\u001b[0;34m=\u001b[0m\u001b[0my\u001b[0m\u001b[0;34m)\u001b[0m \u001b[0;31m# split out into training 70% of our data\u001b[0m\u001b[0;34m\u001b[0m\u001b[0;34m\u001b[0m\u001b[0m\n\u001b[0;32m----> 6\u001b[0;31m   \u001b[0mX_validation\u001b[0m\u001b[0;34m,\u001b[0m \u001b[0mX_test\u001b[0m\u001b[0;34m,\u001b[0m \u001b[0my_validation\u001b[0m\u001b[0;34m,\u001b[0m \u001b[0my_test\u001b[0m \u001b[0;34m=\u001b[0m \u001b[0mtrain_test_split\u001b[0m\u001b[0;34m(\u001b[0m\u001b[0mX_TEMP\u001b[0m\u001b[0;34m,\u001b[0m \u001b[0my_TEMP\u001b[0m\u001b[0;34m,\u001b[0m \u001b[0mtest_size\u001b[0m\u001b[0;34m=\u001b[0m\u001b[0;36m0.50\u001b[0m\u001b[0;34m,\u001b[0m \u001b[0mstratify\u001b[0m\u001b[0;34m=\u001b[0m\u001b[0my\u001b[0m\u001b[0;34m)\u001b[0m \u001b[0;31m# split out into validation 15% of our data and test 15% of our data\u001b[0m\u001b[0;34m\u001b[0m\u001b[0;34m\u001b[0m\u001b[0m\n\u001b[0m\u001b[1;32m      7\u001b[0m \u001b[0;34m\u001b[0m\u001b[0m\n\u001b[1;32m      8\u001b[0m   \u001b[0mX_train\u001b[0m\u001b[0;34m,\u001b[0m \u001b[0my_train\u001b[0m \u001b[0;34m=\u001b[0m \u001b[0mover_sample_data\u001b[0m\u001b[0;34m(\u001b[0m\u001b[0mX_train\u001b[0m\u001b[0;34m,\u001b[0m \u001b[0my_train\u001b[0m\u001b[0;34m)\u001b[0m\u001b[0;34m\u001b[0m\u001b[0;34m\u001b[0m\u001b[0m\n",
            "\u001b[0;32m/usr/local/lib/python3.10/dist-packages/sklearn/model_selection/_split.py\u001b[0m in \u001b[0;36mtrain_test_split\u001b[0;34m(test_size, train_size, random_state, shuffle, stratify, *arrays)\u001b[0m\n\u001b[1;32m   2581\u001b[0m         \u001b[0mcv\u001b[0m \u001b[0;34m=\u001b[0m \u001b[0mCVClass\u001b[0m\u001b[0;34m(\u001b[0m\u001b[0mtest_size\u001b[0m\u001b[0;34m=\u001b[0m\u001b[0mn_test\u001b[0m\u001b[0;34m,\u001b[0m \u001b[0mtrain_size\u001b[0m\u001b[0;34m=\u001b[0m\u001b[0mn_train\u001b[0m\u001b[0;34m,\u001b[0m \u001b[0mrandom_state\u001b[0m\u001b[0;34m=\u001b[0m\u001b[0mrandom_state\u001b[0m\u001b[0;34m)\u001b[0m\u001b[0;34m\u001b[0m\u001b[0;34m\u001b[0m\u001b[0m\n\u001b[1;32m   2582\u001b[0m \u001b[0;34m\u001b[0m\u001b[0m\n\u001b[0;32m-> 2583\u001b[0;31m         \u001b[0mtrain\u001b[0m\u001b[0;34m,\u001b[0m \u001b[0mtest\u001b[0m \u001b[0;34m=\u001b[0m \u001b[0mnext\u001b[0m\u001b[0;34m(\u001b[0m\u001b[0mcv\u001b[0m\u001b[0;34m.\u001b[0m\u001b[0msplit\u001b[0m\u001b[0;34m(\u001b[0m\u001b[0mX\u001b[0m\u001b[0;34m=\u001b[0m\u001b[0marrays\u001b[0m\u001b[0;34m[\u001b[0m\u001b[0;36m0\u001b[0m\u001b[0;34m]\u001b[0m\u001b[0;34m,\u001b[0m \u001b[0my\u001b[0m\u001b[0;34m=\u001b[0m\u001b[0mstratify\u001b[0m\u001b[0;34m)\u001b[0m\u001b[0;34m)\u001b[0m\u001b[0;34m\u001b[0m\u001b[0;34m\u001b[0m\u001b[0m\n\u001b[0m\u001b[1;32m   2584\u001b[0m \u001b[0;34m\u001b[0m\u001b[0m\n\u001b[1;32m   2585\u001b[0m     return list(\n",
            "\u001b[0;32m/usr/local/lib/python3.10/dist-packages/sklearn/model_selection/_split.py\u001b[0m in \u001b[0;36msplit\u001b[0;34m(self, X, y, groups)\u001b[0m\n\u001b[1;32m   1686\u001b[0m         \u001b[0mto\u001b[0m \u001b[0man\u001b[0m \u001b[0minteger\u001b[0m\u001b[0;34m.\u001b[0m\u001b[0;34m\u001b[0m\u001b[0;34m\u001b[0m\u001b[0m\n\u001b[1;32m   1687\u001b[0m         \"\"\"\n\u001b[0;32m-> 1688\u001b[0;31m         \u001b[0mX\u001b[0m\u001b[0;34m,\u001b[0m \u001b[0my\u001b[0m\u001b[0;34m,\u001b[0m \u001b[0mgroups\u001b[0m \u001b[0;34m=\u001b[0m \u001b[0mindexable\u001b[0m\u001b[0;34m(\u001b[0m\u001b[0mX\u001b[0m\u001b[0;34m,\u001b[0m \u001b[0my\u001b[0m\u001b[0;34m,\u001b[0m \u001b[0mgroups\u001b[0m\u001b[0;34m)\u001b[0m\u001b[0;34m\u001b[0m\u001b[0;34m\u001b[0m\u001b[0m\n\u001b[0m\u001b[1;32m   1689\u001b[0m         \u001b[0;32mfor\u001b[0m \u001b[0mtrain\u001b[0m\u001b[0;34m,\u001b[0m \u001b[0mtest\u001b[0m \u001b[0;32min\u001b[0m \u001b[0mself\u001b[0m\u001b[0;34m.\u001b[0m\u001b[0m_iter_indices\u001b[0m\u001b[0;34m(\u001b[0m\u001b[0mX\u001b[0m\u001b[0;34m,\u001b[0m \u001b[0my\u001b[0m\u001b[0;34m,\u001b[0m \u001b[0mgroups\u001b[0m\u001b[0;34m)\u001b[0m\u001b[0;34m:\u001b[0m\u001b[0;34m\u001b[0m\u001b[0;34m\u001b[0m\u001b[0m\n\u001b[1;32m   1690\u001b[0m             \u001b[0;32myield\u001b[0m \u001b[0mtrain\u001b[0m\u001b[0;34m,\u001b[0m \u001b[0mtest\u001b[0m\u001b[0;34m\u001b[0m\u001b[0;34m\u001b[0m\u001b[0m\n",
            "\u001b[0;32m/usr/local/lib/python3.10/dist-packages/sklearn/utils/validation.py\u001b[0m in \u001b[0;36mindexable\u001b[0;34m(*iterables)\u001b[0m\n\u001b[1;32m    441\u001b[0m \u001b[0;34m\u001b[0m\u001b[0m\n\u001b[1;32m    442\u001b[0m     \u001b[0mresult\u001b[0m \u001b[0;34m=\u001b[0m \u001b[0;34m[\u001b[0m\u001b[0m_make_indexable\u001b[0m\u001b[0;34m(\u001b[0m\u001b[0mX\u001b[0m\u001b[0;34m)\u001b[0m \u001b[0;32mfor\u001b[0m \u001b[0mX\u001b[0m \u001b[0;32min\u001b[0m \u001b[0miterables\u001b[0m\u001b[0;34m]\u001b[0m\u001b[0;34m\u001b[0m\u001b[0;34m\u001b[0m\u001b[0m\n\u001b[0;32m--> 443\u001b[0;31m     \u001b[0mcheck_consistent_length\u001b[0m\u001b[0;34m(\u001b[0m\u001b[0;34m*\u001b[0m\u001b[0mresult\u001b[0m\u001b[0;34m)\u001b[0m\u001b[0;34m\u001b[0m\u001b[0;34m\u001b[0m\u001b[0m\n\u001b[0m\u001b[1;32m    444\u001b[0m     \u001b[0;32mreturn\u001b[0m \u001b[0mresult\u001b[0m\u001b[0;34m\u001b[0m\u001b[0;34m\u001b[0m\u001b[0m\n\u001b[1;32m    445\u001b[0m \u001b[0;34m\u001b[0m\u001b[0m\n",
            "\u001b[0;32m/usr/local/lib/python3.10/dist-packages/sklearn/utils/validation.py\u001b[0m in \u001b[0;36mcheck_consistent_length\u001b[0;34m(*arrays)\u001b[0m\n\u001b[1;32m    395\u001b[0m     \u001b[0muniques\u001b[0m \u001b[0;34m=\u001b[0m \u001b[0mnp\u001b[0m\u001b[0;34m.\u001b[0m\u001b[0munique\u001b[0m\u001b[0;34m(\u001b[0m\u001b[0mlengths\u001b[0m\u001b[0;34m)\u001b[0m\u001b[0;34m\u001b[0m\u001b[0;34m\u001b[0m\u001b[0m\n\u001b[1;32m    396\u001b[0m     \u001b[0;32mif\u001b[0m \u001b[0mlen\u001b[0m\u001b[0;34m(\u001b[0m\u001b[0muniques\u001b[0m\u001b[0;34m)\u001b[0m \u001b[0;34m>\u001b[0m \u001b[0;36m1\u001b[0m\u001b[0;34m:\u001b[0m\u001b[0;34m\u001b[0m\u001b[0;34m\u001b[0m\u001b[0m\n\u001b[0;32m--> 397\u001b[0;31m         raise ValueError(\n\u001b[0m\u001b[1;32m    398\u001b[0m             \u001b[0;34m\"Found input variables with inconsistent numbers of samples: %r\"\u001b[0m\u001b[0;34m\u001b[0m\u001b[0;34m\u001b[0m\u001b[0m\n\u001b[1;32m    399\u001b[0m             \u001b[0;34m%\u001b[0m \u001b[0;34m[\u001b[0m\u001b[0mint\u001b[0m\u001b[0;34m(\u001b[0m\u001b[0ml\u001b[0m\u001b[0;34m)\u001b[0m \u001b[0;32mfor\u001b[0m \u001b[0ml\u001b[0m \u001b[0;32min\u001b[0m \u001b[0mlengths\u001b[0m\u001b[0;34m]\u001b[0m\u001b[0;34m\u001b[0m\u001b[0;34m\u001b[0m\u001b[0m\n",
            "\u001b[0;31mValueError\u001b[0m: Found input variables with inconsistent numbers of samples: [110785, 369281]"
          ]
        }
      ]
    },
    {
      "cell_type": "code",
      "source": [
        "X_train.head(5)"
      ],
      "metadata": {
        "outputId": "b3be7fae-ec16-464a-f300-631764067468",
        "colab": {
          "base_uri": "https://localhost:8080/",
          "height": 273
        },
        "id": "tf2j6w7bJSbc"
      },
      "execution_count": 186,
      "outputs": [
        {
          "output_type": "execute_result",
          "data": {
            "text/plain": [
              "   loan_amount_000s  applicant_income_000s  \\\n",
              "0         -0.095324              -0.048444   \n",
              "1         -0.085371              -0.387053   \n",
              "2          0.062683              -0.311807   \n",
              "3          0.143553               0.395511   \n",
              "4         -0.192369              -0.086067   \n",
              "\n",
              "   loan_purpose_name_Home improvement  loan_purpose_name_Home purchase  \\\n",
              "0                                 0.0                              1.0   \n",
              "1                                 0.0                              0.0   \n",
              "2                                 0.0                              1.0   \n",
              "3                                 0.0                              1.0   \n",
              "4                                 0.0                              1.0   \n",
              "\n",
              "   loan_purpose_name_Refinancing  loan_purpose_name_Home improvement  \\\n",
              "0                            0.0                                 0.0   \n",
              "1                            1.0                                 0.0   \n",
              "2                            0.0                                 0.0   \n",
              "3                            0.0                                 0.0   \n",
              "4                            0.0                                 0.0   \n",
              "\n",
              "   loan_purpose_name_Home purchase  loan_purpose_name_Refinancing  \\\n",
              "0                              1.0                            0.0   \n",
              "1                              0.0                            1.0   \n",
              "2                              1.0                            0.0   \n",
              "3                              1.0                            0.0   \n",
              "4                              1.0                            0.0   \n",
              "\n",
              "   loan_type_name_Conventional  loan_type_name_FHA-insured  ...  \\\n",
              "0                          1.0                         0.0  ...   \n",
              "1                          0.0                         0.0  ...   \n",
              "2                          0.0                         0.0  ...   \n",
              "3                          1.0                         0.0  ...   \n",
              "4                          1.0                         0.0  ...   \n",
              "\n",
              "   denial_reason_name_1_Collateral  \\\n",
              "0                              0.0   \n",
              "1                              0.0   \n",
              "2                              0.0   \n",
              "3                              0.0   \n",
              "4                              0.0   \n",
              "\n",
              "   denial_reason_name_1_Credit application incomplete  \\\n",
              "0                                                0.0    \n",
              "1                                                0.0    \n",
              "2                                                0.0    \n",
              "3                                                0.0    \n",
              "4                                                0.0    \n",
              "\n",
              "   denial_reason_name_1_Credit history  \\\n",
              "0                                  0.0   \n",
              "1                                  0.0   \n",
              "2                                  0.0   \n",
              "3                                  0.0   \n",
              "4                                  0.0   \n",
              "\n",
              "   denial_reason_name_1_Debt-to-income ratio  \\\n",
              "0                                        0.0   \n",
              "1                                        0.0   \n",
              "2                                        0.0   \n",
              "3                                        0.0   \n",
              "4                                        0.0   \n",
              "\n",
              "   denial_reason_name_1_Employment history  \\\n",
              "0                                      0.0   \n",
              "1                                      0.0   \n",
              "2                                      0.0   \n",
              "3                                      0.0   \n",
              "4                                      0.0   \n",
              "\n",
              "   denial_reason_name_1_Insufficient cash (downpayment, closing costs)  \\\n",
              "0                                                0.0                     \n",
              "1                                                0.0                     \n",
              "2                                                0.0                     \n",
              "3                                                0.0                     \n",
              "4                                                0.0                     \n",
              "\n",
              "   denial_reason_name_1_Mortgage insurance denied  denial_reason_name_1_Other  \\\n",
              "0                                             0.0                         0.0   \n",
              "1                                             0.0                         0.0   \n",
              "2                                             0.0                         0.0   \n",
              "3                                             0.0                         0.0   \n",
              "4                                             0.0                         0.0   \n",
              "\n",
              "   denial_reason_name_1_Unverifiable information  denial_reason_name_1_nan  \n",
              "0                                            0.0                       1.0  \n",
              "1                                            0.0                       1.0  \n",
              "2                                            0.0                       1.0  \n",
              "3                                            0.0                       1.0  \n",
              "4                                            0.0                       1.0  \n",
              "\n",
              "[5 rows x 48 columns]"
            ],
            "text/html": [
              "\n",
              "  <div id=\"df-a7b7b383-42fd-46d3-af27-b1db98398bd5\" class=\"colab-df-container\">\n",
              "    <div>\n",
              "<style scoped>\n",
              "    .dataframe tbody tr th:only-of-type {\n",
              "        vertical-align: middle;\n",
              "    }\n",
              "\n",
              "    .dataframe tbody tr th {\n",
              "        vertical-align: top;\n",
              "    }\n",
              "\n",
              "    .dataframe thead th {\n",
              "        text-align: right;\n",
              "    }\n",
              "</style>\n",
              "<table border=\"1\" class=\"dataframe\">\n",
              "  <thead>\n",
              "    <tr style=\"text-align: right;\">\n",
              "      <th></th>\n",
              "      <th>loan_amount_000s</th>\n",
              "      <th>applicant_income_000s</th>\n",
              "      <th>loan_purpose_name_Home improvement</th>\n",
              "      <th>loan_purpose_name_Home purchase</th>\n",
              "      <th>loan_purpose_name_Refinancing</th>\n",
              "      <th>loan_purpose_name_Home improvement</th>\n",
              "      <th>loan_purpose_name_Home purchase</th>\n",
              "      <th>loan_purpose_name_Refinancing</th>\n",
              "      <th>loan_type_name_Conventional</th>\n",
              "      <th>loan_type_name_FHA-insured</th>\n",
              "      <th>...</th>\n",
              "      <th>denial_reason_name_1_Collateral</th>\n",
              "      <th>denial_reason_name_1_Credit application incomplete</th>\n",
              "      <th>denial_reason_name_1_Credit history</th>\n",
              "      <th>denial_reason_name_1_Debt-to-income ratio</th>\n",
              "      <th>denial_reason_name_1_Employment history</th>\n",
              "      <th>denial_reason_name_1_Insufficient cash (downpayment, closing costs)</th>\n",
              "      <th>denial_reason_name_1_Mortgage insurance denied</th>\n",
              "      <th>denial_reason_name_1_Other</th>\n",
              "      <th>denial_reason_name_1_Unverifiable information</th>\n",
              "      <th>denial_reason_name_1_nan</th>\n",
              "    </tr>\n",
              "  </thead>\n",
              "  <tbody>\n",
              "    <tr>\n",
              "      <th>0</th>\n",
              "      <td>-0.095324</td>\n",
              "      <td>-0.048444</td>\n",
              "      <td>0.0</td>\n",
              "      <td>1.0</td>\n",
              "      <td>0.0</td>\n",
              "      <td>0.0</td>\n",
              "      <td>1.0</td>\n",
              "      <td>0.0</td>\n",
              "      <td>1.0</td>\n",
              "      <td>0.0</td>\n",
              "      <td>...</td>\n",
              "      <td>0.0</td>\n",
              "      <td>0.0</td>\n",
              "      <td>0.0</td>\n",
              "      <td>0.0</td>\n",
              "      <td>0.0</td>\n",
              "      <td>0.0</td>\n",
              "      <td>0.0</td>\n",
              "      <td>0.0</td>\n",
              "      <td>0.0</td>\n",
              "      <td>1.0</td>\n",
              "    </tr>\n",
              "    <tr>\n",
              "      <th>1</th>\n",
              "      <td>-0.085371</td>\n",
              "      <td>-0.387053</td>\n",
              "      <td>0.0</td>\n",
              "      <td>0.0</td>\n",
              "      <td>1.0</td>\n",
              "      <td>0.0</td>\n",
              "      <td>0.0</td>\n",
              "      <td>1.0</td>\n",
              "      <td>0.0</td>\n",
              "      <td>0.0</td>\n",
              "      <td>...</td>\n",
              "      <td>0.0</td>\n",
              "      <td>0.0</td>\n",
              "      <td>0.0</td>\n",
              "      <td>0.0</td>\n",
              "      <td>0.0</td>\n",
              "      <td>0.0</td>\n",
              "      <td>0.0</td>\n",
              "      <td>0.0</td>\n",
              "      <td>0.0</td>\n",
              "      <td>1.0</td>\n",
              "    </tr>\n",
              "    <tr>\n",
              "      <th>2</th>\n",
              "      <td>0.062683</td>\n",
              "      <td>-0.311807</td>\n",
              "      <td>0.0</td>\n",
              "      <td>1.0</td>\n",
              "      <td>0.0</td>\n",
              "      <td>0.0</td>\n",
              "      <td>1.0</td>\n",
              "      <td>0.0</td>\n",
              "      <td>0.0</td>\n",
              "      <td>0.0</td>\n",
              "      <td>...</td>\n",
              "      <td>0.0</td>\n",
              "      <td>0.0</td>\n",
              "      <td>0.0</td>\n",
              "      <td>0.0</td>\n",
              "      <td>0.0</td>\n",
              "      <td>0.0</td>\n",
              "      <td>0.0</td>\n",
              "      <td>0.0</td>\n",
              "      <td>0.0</td>\n",
              "      <td>1.0</td>\n",
              "    </tr>\n",
              "    <tr>\n",
              "      <th>3</th>\n",
              "      <td>0.143553</td>\n",
              "      <td>0.395511</td>\n",
              "      <td>0.0</td>\n",
              "      <td>1.0</td>\n",
              "      <td>0.0</td>\n",
              "      <td>0.0</td>\n",
              "      <td>1.0</td>\n",
              "      <td>0.0</td>\n",
              "      <td>1.0</td>\n",
              "      <td>0.0</td>\n",
              "      <td>...</td>\n",
              "      <td>0.0</td>\n",
              "      <td>0.0</td>\n",
              "      <td>0.0</td>\n",
              "      <td>0.0</td>\n",
              "      <td>0.0</td>\n",
              "      <td>0.0</td>\n",
              "      <td>0.0</td>\n",
              "      <td>0.0</td>\n",
              "      <td>0.0</td>\n",
              "      <td>1.0</td>\n",
              "    </tr>\n",
              "    <tr>\n",
              "      <th>4</th>\n",
              "      <td>-0.192369</td>\n",
              "      <td>-0.086067</td>\n",
              "      <td>0.0</td>\n",
              "      <td>1.0</td>\n",
              "      <td>0.0</td>\n",
              "      <td>0.0</td>\n",
              "      <td>1.0</td>\n",
              "      <td>0.0</td>\n",
              "      <td>1.0</td>\n",
              "      <td>0.0</td>\n",
              "      <td>...</td>\n",
              "      <td>0.0</td>\n",
              "      <td>0.0</td>\n",
              "      <td>0.0</td>\n",
              "      <td>0.0</td>\n",
              "      <td>0.0</td>\n",
              "      <td>0.0</td>\n",
              "      <td>0.0</td>\n",
              "      <td>0.0</td>\n",
              "      <td>0.0</td>\n",
              "      <td>1.0</td>\n",
              "    </tr>\n",
              "  </tbody>\n",
              "</table>\n",
              "<p>5 rows × 48 columns</p>\n",
              "</div>\n",
              "    <div class=\"colab-df-buttons\">\n",
              "\n",
              "  <div class=\"colab-df-container\">\n",
              "    <button class=\"colab-df-convert\" onclick=\"convertToInteractive('df-a7b7b383-42fd-46d3-af27-b1db98398bd5')\"\n",
              "            title=\"Convert this dataframe to an interactive table.\"\n",
              "            style=\"display:none;\">\n",
              "\n",
              "  <svg xmlns=\"http://www.w3.org/2000/svg\" height=\"24px\" viewBox=\"0 -960 960 960\">\n",
              "    <path d=\"M120-120v-720h720v720H120Zm60-500h600v-160H180v160Zm220 220h160v-160H400v160Zm0 220h160v-160H400v160ZM180-400h160v-160H180v160Zm440 0h160v-160H620v160ZM180-180h160v-160H180v160Zm440 0h160v-160H620v160Z\"/>\n",
              "  </svg>\n",
              "    </button>\n",
              "\n",
              "  <style>\n",
              "    .colab-df-container {\n",
              "      display:flex;\n",
              "      gap: 12px;\n",
              "    }\n",
              "\n",
              "    .colab-df-convert {\n",
              "      background-color: #E8F0FE;\n",
              "      border: none;\n",
              "      border-radius: 50%;\n",
              "      cursor: pointer;\n",
              "      display: none;\n",
              "      fill: #1967D2;\n",
              "      height: 32px;\n",
              "      padding: 0 0 0 0;\n",
              "      width: 32px;\n",
              "    }\n",
              "\n",
              "    .colab-df-convert:hover {\n",
              "      background-color: #E2EBFA;\n",
              "      box-shadow: 0px 1px 2px rgba(60, 64, 67, 0.3), 0px 1px 3px 1px rgba(60, 64, 67, 0.15);\n",
              "      fill: #174EA6;\n",
              "    }\n",
              "\n",
              "    .colab-df-buttons div {\n",
              "      margin-bottom: 4px;\n",
              "    }\n",
              "\n",
              "    [theme=dark] .colab-df-convert {\n",
              "      background-color: #3B4455;\n",
              "      fill: #D2E3FC;\n",
              "    }\n",
              "\n",
              "    [theme=dark] .colab-df-convert:hover {\n",
              "      background-color: #434B5C;\n",
              "      box-shadow: 0px 1px 3px 1px rgba(0, 0, 0, 0.15);\n",
              "      filter: drop-shadow(0px 1px 2px rgba(0, 0, 0, 0.3));\n",
              "      fill: #FFFFFF;\n",
              "    }\n",
              "  </style>\n",
              "\n",
              "    <script>\n",
              "      const buttonEl =\n",
              "        document.querySelector('#df-a7b7b383-42fd-46d3-af27-b1db98398bd5 button.colab-df-convert');\n",
              "      buttonEl.style.display =\n",
              "        google.colab.kernel.accessAllowed ? 'block' : 'none';\n",
              "\n",
              "      async function convertToInteractive(key) {\n",
              "        const element = document.querySelector('#df-a7b7b383-42fd-46d3-af27-b1db98398bd5');\n",
              "        const dataTable =\n",
              "          await google.colab.kernel.invokeFunction('convertToInteractive',\n",
              "                                                    [key], {});\n",
              "        if (!dataTable) return;\n",
              "\n",
              "        const docLinkHtml = 'Like what you see? Visit the ' +\n",
              "          '<a target=\"_blank\" href=https://colab.research.google.com/notebooks/data_table.ipynb>data table notebook</a>'\n",
              "          + ' to learn more about interactive tables.';\n",
              "        element.innerHTML = '';\n",
              "        dataTable['output_type'] = 'display_data';\n",
              "        await google.colab.output.renderOutput(dataTable, element);\n",
              "        const docLink = document.createElement('div');\n",
              "        docLink.innerHTML = docLinkHtml;\n",
              "        element.appendChild(docLink);\n",
              "      }\n",
              "    </script>\n",
              "  </div>\n",
              "\n",
              "\n",
              "<div id=\"df-74b5848b-a651-4fb1-86ab-47c14fe23fe8\">\n",
              "  <button class=\"colab-df-quickchart\" onclick=\"quickchart('df-74b5848b-a651-4fb1-86ab-47c14fe23fe8')\"\n",
              "            title=\"Suggest charts.\"\n",
              "            style=\"display:none;\">\n",
              "\n",
              "<svg xmlns=\"http://www.w3.org/2000/svg\" height=\"24px\"viewBox=\"0 0 24 24\"\n",
              "     width=\"24px\">\n",
              "    <g>\n",
              "        <path d=\"M19 3H5c-1.1 0-2 .9-2 2v14c0 1.1.9 2 2 2h14c1.1 0 2-.9 2-2V5c0-1.1-.9-2-2-2zM9 17H7v-7h2v7zm4 0h-2V7h2v10zm4 0h-2v-4h2v4z\"/>\n",
              "    </g>\n",
              "</svg>\n",
              "  </button>\n",
              "\n",
              "<style>\n",
              "  .colab-df-quickchart {\n",
              "      --bg-color: #E8F0FE;\n",
              "      --fill-color: #1967D2;\n",
              "      --hover-bg-color: #E2EBFA;\n",
              "      --hover-fill-color: #174EA6;\n",
              "      --disabled-fill-color: #AAA;\n",
              "      --disabled-bg-color: #DDD;\n",
              "  }\n",
              "\n",
              "  [theme=dark] .colab-df-quickchart {\n",
              "      --bg-color: #3B4455;\n",
              "      --fill-color: #D2E3FC;\n",
              "      --hover-bg-color: #434B5C;\n",
              "      --hover-fill-color: #FFFFFF;\n",
              "      --disabled-bg-color: #3B4455;\n",
              "      --disabled-fill-color: #666;\n",
              "  }\n",
              "\n",
              "  .colab-df-quickchart {\n",
              "    background-color: var(--bg-color);\n",
              "    border: none;\n",
              "    border-radius: 50%;\n",
              "    cursor: pointer;\n",
              "    display: none;\n",
              "    fill: var(--fill-color);\n",
              "    height: 32px;\n",
              "    padding: 0;\n",
              "    width: 32px;\n",
              "  }\n",
              "\n",
              "  .colab-df-quickchart:hover {\n",
              "    background-color: var(--hover-bg-color);\n",
              "    box-shadow: 0 1px 2px rgba(60, 64, 67, 0.3), 0 1px 3px 1px rgba(60, 64, 67, 0.15);\n",
              "    fill: var(--button-hover-fill-color);\n",
              "  }\n",
              "\n",
              "  .colab-df-quickchart-complete:disabled,\n",
              "  .colab-df-quickchart-complete:disabled:hover {\n",
              "    background-color: var(--disabled-bg-color);\n",
              "    fill: var(--disabled-fill-color);\n",
              "    box-shadow: none;\n",
              "  }\n",
              "\n",
              "  .colab-df-spinner {\n",
              "    border: 2px solid var(--fill-color);\n",
              "    border-color: transparent;\n",
              "    border-bottom-color: var(--fill-color);\n",
              "    animation:\n",
              "      spin 1s steps(1) infinite;\n",
              "  }\n",
              "\n",
              "  @keyframes spin {\n",
              "    0% {\n",
              "      border-color: transparent;\n",
              "      border-bottom-color: var(--fill-color);\n",
              "      border-left-color: var(--fill-color);\n",
              "    }\n",
              "    20% {\n",
              "      border-color: transparent;\n",
              "      border-left-color: var(--fill-color);\n",
              "      border-top-color: var(--fill-color);\n",
              "    }\n",
              "    30% {\n",
              "      border-color: transparent;\n",
              "      border-left-color: var(--fill-color);\n",
              "      border-top-color: var(--fill-color);\n",
              "      border-right-color: var(--fill-color);\n",
              "    }\n",
              "    40% {\n",
              "      border-color: transparent;\n",
              "      border-right-color: var(--fill-color);\n",
              "      border-top-color: var(--fill-color);\n",
              "    }\n",
              "    60% {\n",
              "      border-color: transparent;\n",
              "      border-right-color: var(--fill-color);\n",
              "    }\n",
              "    80% {\n",
              "      border-color: transparent;\n",
              "      border-right-color: var(--fill-color);\n",
              "      border-bottom-color: var(--fill-color);\n",
              "    }\n",
              "    90% {\n",
              "      border-color: transparent;\n",
              "      border-bottom-color: var(--fill-color);\n",
              "    }\n",
              "  }\n",
              "</style>\n",
              "\n",
              "  <script>\n",
              "    async function quickchart(key) {\n",
              "      const quickchartButtonEl =\n",
              "        document.querySelector('#' + key + ' button');\n",
              "      quickchartButtonEl.disabled = true;  // To prevent multiple clicks.\n",
              "      quickchartButtonEl.classList.add('colab-df-spinner');\n",
              "      try {\n",
              "        const charts = await google.colab.kernel.invokeFunction(\n",
              "            'suggestCharts', [key], {});\n",
              "      } catch (error) {\n",
              "        console.error('Error during call to suggestCharts:', error);\n",
              "      }\n",
              "      quickchartButtonEl.classList.remove('colab-df-spinner');\n",
              "      quickchartButtonEl.classList.add('colab-df-quickchart-complete');\n",
              "    }\n",
              "    (() => {\n",
              "      let quickchartButtonEl =\n",
              "        document.querySelector('#df-74b5848b-a651-4fb1-86ab-47c14fe23fe8 button');\n",
              "      quickchartButtonEl.style.display =\n",
              "        google.colab.kernel.accessAllowed ? 'block' : 'none';\n",
              "    })();\n",
              "  </script>\n",
              "</div>\n",
              "    </div>\n",
              "  </div>\n"
            ]
          },
          "metadata": {},
          "execution_count": 186
        }
      ]
    },
    {
      "cell_type": "code",
      "source": [
        "from sklearn.linear_model import LogisticRegression\n",
        "\n",
        "model = LogisticRegression(solver='lbfgs', max_iter=5000).fit(X_train, y_train) # first fit (train) the model\n"
      ],
      "metadata": {
        "id": "ov92gngTJSbd"
      },
      "execution_count": 187,
      "outputs": []
    },
    {
      "cell_type": "code",
      "source": [
        "y_train_pred = model.predict(X_train) # next get the model's predictions for a sample in the validation set\n",
        "metrics(y_train, y_train_pred) # finally evaluate performance"
      ],
      "metadata": {
        "outputId": "b6df4c27-012a-48db-d18d-33ccf9254bc3",
        "colab": {
          "base_uri": "https://localhost:8080/"
        },
        "id": "gUqDBi4lJSbd"
      },
      "execution_count": 188,
      "outputs": [
        {
          "output_type": "stream",
          "name": "stdout",
          "text": [
            "Confusion matrix:\n",
            " [[130256  85698]\n",
            " [  9530 206424]]\n",
            "\n",
            "Report:\n",
            "               precision    recall  f1-score   support\n",
            "\n",
            "           0       0.93      0.60      0.73    215954\n",
            "           1       0.71      0.96      0.81    215954\n",
            "\n",
            "    accuracy                           0.78    431908\n",
            "   macro avg       0.82      0.78      0.77    431908\n",
            "weighted avg       0.82      0.78      0.77    431908\n",
            "\n"
          ]
        }
      ]
    },
    {
      "cell_type": "code",
      "source": [
        "y_pred_validation = model.predict(scale_Encode_Test(enc, scaler, X_validation)) # next get the model's predictions for a sample in the validation set\n",
        "metrics(y_validation, y_pred_validation) # finally evaluate performance\n",
        "y_pred_test = model.predict(scale_Encode_Test(enc, scaler, X_test)) # next get the model's predictions for a sample in the validation set\n",
        "metrics(y_test, y_pred_test) # finally evaluate performance"
      ],
      "metadata": {
        "outputId": "970caa52-f0d7-4743-faf5-0e315a52e9c3",
        "colab": {
          "base_uri": "https://localhost:8080/"
        },
        "id": "VBoZh_fAJSbd"
      },
      "execution_count": 189,
      "outputs": [
        {
          "output_type": "stream",
          "name": "stdout",
          "text": [
            "Confusion matrix:\n",
            " [[ 5429  3495]\n",
            " [ 2024 44444]]\n",
            "\n",
            "Report:\n",
            "               precision    recall  f1-score   support\n",
            "\n",
            "           0       0.73      0.61      0.66      8924\n",
            "           1       0.93      0.96      0.94     46468\n",
            "\n",
            "    accuracy                           0.90     55392\n",
            "   macro avg       0.83      0.78      0.80     55392\n",
            "weighted avg       0.90      0.90      0.90     55392\n",
            "\n",
            "Confusion matrix:\n",
            " [[ 5404  3510]\n",
            " [ 2043 44436]]\n",
            "\n",
            "Report:\n",
            "               precision    recall  f1-score   support\n",
            "\n",
            "           0       0.73      0.61      0.66      8914\n",
            "           1       0.93      0.96      0.94     46479\n",
            "\n",
            "    accuracy                           0.90     55393\n",
            "   macro avg       0.83      0.78      0.80     55393\n",
            "weighted avg       0.89      0.90      0.90     55393\n",
            "\n"
          ]
        }
      ]
    },
    {
      "cell_type": "markdown",
      "source": [
        "Random Oversampling only helped us in helping us use the data instead of throwing it away.\n",
        "But when we see based on the f1-score individual classes, we see it does not do a good job for the loan denied data."
      ],
      "metadata": {
        "id": "wh8ZXgqqJSbd"
      }
    },
    {
      "cell_type": "markdown",
      "source": [
        "Trying approach of oversamplind and then splitting, but here we can lead into data leakage where the training data would go into test while splitting.\n",
        "\n",
        "That is drawback here"
      ],
      "metadata": {
        "id": "qjn9fkaRPpeA"
      }
    },
    {
      "cell_type": "code",
      "source": [
        "def preprocessing_data_X_y_overSampling_equal(data, features_cat, features_num):\n",
        "  X = data[['loan_purpose_name', 'loan_type_name', 'loan_purpose_name', 'denial_reason_name_3','denial_reason_name_2','denial_reason_name_1','loan_amount_000s', 'applicant_income_000s']]\n",
        "  y = data['loan_approved']\n",
        "\n",
        "  X_train, X_TEMP, y_train, y_TEMP = train_test_split(X, y, test_size=0.30,  stratify=y) # split out into training 70% of our data\n",
        "  X_validation, X_test, y_validation, y_test = train_test_split(X_TEMP, y_TEMP, test_size=0.50) # split out into validation 15% of our data and test 15% of our data\n",
        "\n",
        "  features_cat = ['loan_purpose_name', 'loan_type_name', 'loan_purpose_name', 'denial_reason_name_3','denial_reason_name_2','denial_reason_name_1']\n",
        "  features_num = ['loan_amount_000s', 'applicant_income_000s']\n",
        "  X_cat = X_train[features_cat]\n",
        "  X_num = X_train[features_num]\n",
        "\n",
        "  enc = preprocessing.OneHotEncoder()\n",
        "  enc.fit(X_cat) # fit the encoder to categories in our data\n",
        "  scaler = StandardScaler()\n",
        "  scaler.fit(X_num)\n",
        "  X_train = scale_Encode_Test(enc, scaler, X_train)\n",
        "\n",
        "  return X_train, y_train, X_validation, y_validation, X_test, y_test, enc, scaler"
      ],
      "metadata": {
        "id": "4ir12p35QkIe"
      },
      "execution_count": 226,
      "outputs": []
    },
    {
      "cell_type": "code",
      "source": [
        "X = df[['loan_purpose_name', 'loan_type_name', 'loan_purpose_name', 'denial_reason_name_3','denial_reason_name_2','denial_reason_name_1','loan_amount_000s', 'applicant_income_000s']]\n",
        "y = df['loan_approved']\n",
        "X, y = over_sample_data(X, y)\n"
      ],
      "metadata": {
        "id": "RSvEUZXSQyOk"
      },
      "execution_count": 204,
      "outputs": []
    },
    {
      "cell_type": "code",
      "source": [
        "df_upsampled = pd.DataFrame(X, columns=X.columns)\n",
        "df_upsampled['loan_approved'] = y.values"
      ],
      "metadata": {
        "id": "pm41i8vPRI5h"
      },
      "execution_count": 206,
      "outputs": []
    },
    {
      "cell_type": "code",
      "source": [
        "X_train, y_train, X_validation, y_validation, X_test, y_test, enc, scaler = preprocessing_data_X_y_overSampling_equal(df_upsampled, features_cat, features_num)"
      ],
      "metadata": {
        "id": "PgECOoCnQ8Lr"
      },
      "execution_count": 227,
      "outputs": []
    },
    {
      "cell_type": "code",
      "source": [
        "from sklearn.linear_model import LogisticRegression\n",
        "\n",
        "model = LogisticRegression(solver='lbfgs', max_iter=5000).fit(X_train, y_train) # first fit (train) the model\n"
      ],
      "metadata": {
        "id": "IV1BDQxfRPx6"
      },
      "execution_count": 228,
      "outputs": []
    },
    {
      "cell_type": "code",
      "source": [
        "y_train_pred = model.predict(X_train) # next get the model's predictions for a sample in the validation set\n",
        "metrics(y_train, y_train_pred) # finally evaluate performance"
      ],
      "metadata": {
        "outputId": "17d97df8-6668-4549-c001-2552d56fbdfa",
        "colab": {
          "base_uri": "https://localhost:8080/"
        },
        "id": "rgxTWcS7RPyB"
      },
      "execution_count": 229,
      "outputs": [
        {
          "output_type": "stream",
          "name": "stdout",
          "text": [
            "Confusion matrix:\n",
            " [[128771  87459]\n",
            " [  9458 206773]]\n",
            "\n",
            "Report:\n",
            "               precision    recall  f1-score   support\n",
            "\n",
            "           0       0.93      0.60      0.73    216230\n",
            "           1       0.70      0.96      0.81    216231\n",
            "\n",
            "    accuracy                           0.78    432461\n",
            "   macro avg       0.82      0.78      0.77    432461\n",
            "weighted avg       0.82      0.78      0.77    432461\n",
            "\n"
          ]
        }
      ]
    },
    {
      "cell_type": "code",
      "source": [
        "y_pred_validation = model.predict(scale_Encode_Test(enc, scaler, X_validation)) # next get the model's predictions for a sample in the validation set\n",
        "metrics(y_validation, y_pred_validation) # finally evaluate performance\n",
        "y_pred_test = model.predict(scale_Encode_Test(enc, scaler, X_test)) # next get the model's predictions for a sample in the validation set\n",
        "metrics(y_test, y_pred_test) # finally evaluate performance"
      ],
      "metadata": {
        "outputId": "f63f52d1-d3d6-4c77-a63c-bca98ba9becd",
        "colab": {
          "base_uri": "https://localhost:8080/"
        },
        "id": "inw4u_auRPyB"
      },
      "execution_count": 230,
      "outputs": [
        {
          "output_type": "stream",
          "name": "stdout",
          "text": [
            "Confusion matrix:\n",
            " [[27702 18910]\n",
            " [ 2055 44003]]\n",
            "\n",
            "Report:\n",
            "               precision    recall  f1-score   support\n",
            "\n",
            "           0       0.93      0.59      0.73     46612\n",
            "           1       0.70      0.96      0.81     46058\n",
            "\n",
            "    accuracy                           0.77     92670\n",
            "   macro avg       0.82      0.77      0.77     92670\n",
            "weighted avg       0.82      0.77      0.77     92670\n",
            "\n",
            "Confusion matrix:\n",
            " [[27245 18814]\n",
            " [ 2094 44518]]\n",
            "\n",
            "Report:\n",
            "               precision    recall  f1-score   support\n",
            "\n",
            "           0       0.93      0.59      0.72     46059\n",
            "           1       0.70      0.96      0.81     46612\n",
            "\n",
            "    accuracy                           0.77     92671\n",
            "   macro avg       0.82      0.77      0.77     92671\n",
            "weighted avg       0.82      0.77      0.77     92671\n",
            "\n"
          ]
        }
      ]
    },
    {
      "cell_type": "markdown",
      "metadata": {
        "id": "f_vdIpQdOuOP"
      },
      "source": [
        "# **Part 4: Your turn!** ( Over Sampling )\n",
        "\n",
        "## Task 4.A: Create a new balanced dataset where exactly half of the samples are rejected loan applications and half are accepted loan application.\n",
        "\n",
        "show your work below"
      ]
    },
    {
      "cell_type": "code",
      "source": [
        "count_each_label(df)"
      ],
      "metadata": {
        "colab": {
          "base_uri": "https://localhost:8080/"
        },
        "outputId": "2b2561fc-f500-4493-ad78-aa6430f0e681",
        "id": "VziVKuATOuOV"
      },
      "execution_count": 231,
      "outputs": [
        {
          "output_type": "stream",
          "name": "stdout",
          "text": [
            "Threshold = 184640\n",
            "--------------------------------------\n",
            "Loan Approved Count = 308901\n",
            "Loan Not Approved Count = 60380\n",
            "Current Different = 248521\n",
            "reduce approved\n",
            "--------------------------------------\n",
            "Debt-to-income ratio                              9365\n",
            "Credit history                                    8531\n",
            "Credit application incomplete                     6017\n",
            "Collateral                                        5783\n",
            "Other                                             5314\n",
            "Unverifiable information                          1951\n",
            "Insufficient cash (downpayment, closing costs)    1894\n",
            "Employment history                                 825\n",
            "Mortgage insurance denied                           47\n",
            "dtype: int64\n"
          ]
        }
      ]
    },
    {
      "cell_type": "code",
      "source": [
        "from imblearn.over_sampling import SMOTE"
      ],
      "metadata": {
        "id": "K-qD0h9SOuOV"
      },
      "execution_count": 233,
      "outputs": []
    },
    {
      "cell_type": "code",
      "source": [
        "smote = SMOTE(sampling_strategy='minority')"
      ],
      "metadata": {
        "id": "jRou00pVT4ka"
      },
      "execution_count": 234,
      "outputs": []
    },
    {
      "cell_type": "code",
      "source": [
        "X = df[['loan_purpose_name', 'loan_type_name', 'loan_purpose_name', 'denial_reason_name_3','denial_reason_name_2','denial_reason_name_1','loan_amount_000s', 'applicant_income_000s']]\n",
        "y = df['loan_approved']\n",
        "X, y = over_sample_data(X, y)"
      ],
      "metadata": {
        "id": "q_TA_XgiUIrJ"
      },
      "execution_count": 235,
      "outputs": []
    },
    {
      "cell_type": "code",
      "source": [
        "X_smote, y_smot = smote.fit_resample(X,y)"
      ],
      "metadata": {
        "colab": {
          "base_uri": "https://localhost:8080/",
          "height": 322
        },
        "id": "674NUIx8T-dA",
        "outputId": "017947d5-0700-4bed-da43-c9ff5dc967c5"
      },
      "execution_count": 237,
      "outputs": [
        {
          "output_type": "error",
          "ename": "ValueError",
          "evalue": "ignored",
          "traceback": [
            "\u001b[0;31m---------------------------------------------------------------------------\u001b[0m",
            "\u001b[0;31mValueError\u001b[0m                                Traceback (most recent call last)",
            "\u001b[0;32m<ipython-input-237-3b6dac3baa43>\u001b[0m in \u001b[0;36m<cell line: 1>\u001b[0;34m()\u001b[0m\n\u001b[0;32m----> 1\u001b[0;31m \u001b[0mX_smote\u001b[0m\u001b[0;34m,\u001b[0m \u001b[0my_smot\u001b[0m \u001b[0;34m=\u001b[0m \u001b[0msmote\u001b[0m\u001b[0;34m.\u001b[0m\u001b[0mfit_resample\u001b[0m\u001b[0;34m(\u001b[0m\u001b[0mX\u001b[0m\u001b[0;34m,\u001b[0m\u001b[0my\u001b[0m\u001b[0;34m)\u001b[0m\u001b[0;34m\u001b[0m\u001b[0;34m\u001b[0m\u001b[0m\n\u001b[0m",
            "\u001b[0;32m/usr/local/lib/python3.10/dist-packages/imblearn/base.py\u001b[0m in \u001b[0;36mfit_resample\u001b[0;34m(self, X, y)\u001b[0m\n\u001b[1;32m    201\u001b[0m         \"\"\"\n\u001b[1;32m    202\u001b[0m         \u001b[0mself\u001b[0m\u001b[0;34m.\u001b[0m\u001b[0m_validate_params\u001b[0m\u001b[0;34m(\u001b[0m\u001b[0;34m)\u001b[0m\u001b[0;34m\u001b[0m\u001b[0;34m\u001b[0m\u001b[0m\n\u001b[0;32m--> 203\u001b[0;31m         \u001b[0;32mreturn\u001b[0m \u001b[0msuper\u001b[0m\u001b[0;34m(\u001b[0m\u001b[0;34m)\u001b[0m\u001b[0;34m.\u001b[0m\u001b[0mfit_resample\u001b[0m\u001b[0;34m(\u001b[0m\u001b[0mX\u001b[0m\u001b[0;34m,\u001b[0m \u001b[0my\u001b[0m\u001b[0;34m)\u001b[0m\u001b[0;34m\u001b[0m\u001b[0;34m\u001b[0m\u001b[0m\n\u001b[0m\u001b[1;32m    204\u001b[0m \u001b[0;34m\u001b[0m\u001b[0m\n\u001b[1;32m    205\u001b[0m     \u001b[0;32mdef\u001b[0m \u001b[0m_more_tags\u001b[0m\u001b[0;34m(\u001b[0m\u001b[0mself\u001b[0m\u001b[0;34m)\u001b[0m\u001b[0;34m:\u001b[0m\u001b[0;34m\u001b[0m\u001b[0;34m\u001b[0m\u001b[0m\n",
            "\u001b[0;32m/usr/local/lib/python3.10/dist-packages/imblearn/base.py\u001b[0m in \u001b[0;36mfit_resample\u001b[0;34m(self, X, y)\u001b[0m\n\u001b[1;32m     80\u001b[0m         \u001b[0mcheck_classification_targets\u001b[0m\u001b[0;34m(\u001b[0m\u001b[0my\u001b[0m\u001b[0;34m)\u001b[0m\u001b[0;34m\u001b[0m\u001b[0;34m\u001b[0m\u001b[0m\n\u001b[1;32m     81\u001b[0m         \u001b[0marrays_transformer\u001b[0m \u001b[0;34m=\u001b[0m \u001b[0mArraysTransformer\u001b[0m\u001b[0;34m(\u001b[0m\u001b[0mX\u001b[0m\u001b[0;34m,\u001b[0m \u001b[0my\u001b[0m\u001b[0;34m)\u001b[0m\u001b[0;34m\u001b[0m\u001b[0;34m\u001b[0m\u001b[0m\n\u001b[0;32m---> 82\u001b[0;31m         \u001b[0mX\u001b[0m\u001b[0;34m,\u001b[0m \u001b[0my\u001b[0m\u001b[0;34m,\u001b[0m \u001b[0mbinarize_y\u001b[0m \u001b[0;34m=\u001b[0m \u001b[0mself\u001b[0m\u001b[0;34m.\u001b[0m\u001b[0m_check_X_y\u001b[0m\u001b[0;34m(\u001b[0m\u001b[0mX\u001b[0m\u001b[0;34m,\u001b[0m \u001b[0my\u001b[0m\u001b[0;34m)\u001b[0m\u001b[0;34m\u001b[0m\u001b[0;34m\u001b[0m\u001b[0m\n\u001b[0m\u001b[1;32m     83\u001b[0m \u001b[0;34m\u001b[0m\u001b[0m\n\u001b[1;32m     84\u001b[0m         self.sampling_strategy_ = check_sampling_strategy(\n",
            "\u001b[0;32m/usr/local/lib/python3.10/dist-packages/imblearn/base.py\u001b[0m in \u001b[0;36m_check_X_y\u001b[0;34m(self, X, y, accept_sparse)\u001b[0m\n\u001b[1;32m    154\u001b[0m             \u001b[0maccept_sparse\u001b[0m \u001b[0;34m=\u001b[0m \u001b[0;34m[\u001b[0m\u001b[0;34m\"csr\"\u001b[0m\u001b[0;34m,\u001b[0m \u001b[0;34m\"csc\"\u001b[0m\u001b[0;34m]\u001b[0m\u001b[0;34m\u001b[0m\u001b[0;34m\u001b[0m\u001b[0m\n\u001b[1;32m    155\u001b[0m         \u001b[0my\u001b[0m\u001b[0;34m,\u001b[0m \u001b[0mbinarize_y\u001b[0m \u001b[0;34m=\u001b[0m \u001b[0mcheck_target_type\u001b[0m\u001b[0;34m(\u001b[0m\u001b[0my\u001b[0m\u001b[0;34m,\u001b[0m \u001b[0mindicate_one_vs_all\u001b[0m\u001b[0;34m=\u001b[0m\u001b[0;32mTrue\u001b[0m\u001b[0;34m)\u001b[0m\u001b[0;34m\u001b[0m\u001b[0;34m\u001b[0m\u001b[0m\n\u001b[0;32m--> 156\u001b[0;31m         \u001b[0mX\u001b[0m\u001b[0;34m,\u001b[0m \u001b[0my\u001b[0m \u001b[0;34m=\u001b[0m \u001b[0mself\u001b[0m\u001b[0;34m.\u001b[0m\u001b[0m_validate_data\u001b[0m\u001b[0;34m(\u001b[0m\u001b[0mX\u001b[0m\u001b[0;34m,\u001b[0m \u001b[0my\u001b[0m\u001b[0;34m,\u001b[0m \u001b[0mreset\u001b[0m\u001b[0;34m=\u001b[0m\u001b[0;32mTrue\u001b[0m\u001b[0;34m,\u001b[0m \u001b[0maccept_sparse\u001b[0m\u001b[0;34m=\u001b[0m\u001b[0maccept_sparse\u001b[0m\u001b[0;34m)\u001b[0m\u001b[0;34m\u001b[0m\u001b[0;34m\u001b[0m\u001b[0m\n\u001b[0m\u001b[1;32m    157\u001b[0m         \u001b[0;32mreturn\u001b[0m \u001b[0mX\u001b[0m\u001b[0;34m,\u001b[0m \u001b[0my\u001b[0m\u001b[0;34m,\u001b[0m \u001b[0mbinarize_y\u001b[0m\u001b[0;34m\u001b[0m\u001b[0;34m\u001b[0m\u001b[0m\n\u001b[1;32m    158\u001b[0m \u001b[0;34m\u001b[0m\u001b[0m\n",
            "\u001b[0;32m/usr/local/lib/python3.10/dist-packages/sklearn/base.py\u001b[0m in \u001b[0;36m_validate_data\u001b[0;34m(self, X, y, reset, validate_separately, **check_params)\u001b[0m\n\u001b[1;32m    582\u001b[0m                 \u001b[0my\u001b[0m \u001b[0;34m=\u001b[0m \u001b[0mcheck_array\u001b[0m\u001b[0;34m(\u001b[0m\u001b[0my\u001b[0m\u001b[0;34m,\u001b[0m \u001b[0minput_name\u001b[0m\u001b[0;34m=\u001b[0m\u001b[0;34m\"y\"\u001b[0m\u001b[0;34m,\u001b[0m \u001b[0;34m**\u001b[0m\u001b[0mcheck_y_params\u001b[0m\u001b[0;34m)\u001b[0m\u001b[0;34m\u001b[0m\u001b[0;34m\u001b[0m\u001b[0m\n\u001b[1;32m    583\u001b[0m             \u001b[0;32melse\u001b[0m\u001b[0;34m:\u001b[0m\u001b[0;34m\u001b[0m\u001b[0;34m\u001b[0m\u001b[0m\n\u001b[0;32m--> 584\u001b[0;31m                 \u001b[0mX\u001b[0m\u001b[0;34m,\u001b[0m \u001b[0my\u001b[0m \u001b[0;34m=\u001b[0m \u001b[0mcheck_X_y\u001b[0m\u001b[0;34m(\u001b[0m\u001b[0mX\u001b[0m\u001b[0;34m,\u001b[0m \u001b[0my\u001b[0m\u001b[0;34m,\u001b[0m \u001b[0;34m**\u001b[0m\u001b[0mcheck_params\u001b[0m\u001b[0;34m)\u001b[0m\u001b[0;34m\u001b[0m\u001b[0;34m\u001b[0m\u001b[0m\n\u001b[0m\u001b[1;32m    585\u001b[0m             \u001b[0mout\u001b[0m \u001b[0;34m=\u001b[0m \u001b[0mX\u001b[0m\u001b[0;34m,\u001b[0m \u001b[0my\u001b[0m\u001b[0;34m\u001b[0m\u001b[0;34m\u001b[0m\u001b[0m\n\u001b[1;32m    586\u001b[0m \u001b[0;34m\u001b[0m\u001b[0m\n",
            "\u001b[0;32m/usr/local/lib/python3.10/dist-packages/sklearn/utils/validation.py\u001b[0m in \u001b[0;36mcheck_X_y\u001b[0;34m(X, y, accept_sparse, accept_large_sparse, dtype, order, copy, force_all_finite, ensure_2d, allow_nd, multi_output, ensure_min_samples, ensure_min_features, y_numeric, estimator)\u001b[0m\n\u001b[1;32m   1104\u001b[0m         )\n\u001b[1;32m   1105\u001b[0m \u001b[0;34m\u001b[0m\u001b[0m\n\u001b[0;32m-> 1106\u001b[0;31m     X = check_array(\n\u001b[0m\u001b[1;32m   1107\u001b[0m         \u001b[0mX\u001b[0m\u001b[0;34m,\u001b[0m\u001b[0;34m\u001b[0m\u001b[0;34m\u001b[0m\u001b[0m\n\u001b[1;32m   1108\u001b[0m         \u001b[0maccept_sparse\u001b[0m\u001b[0;34m=\u001b[0m\u001b[0maccept_sparse\u001b[0m\u001b[0;34m,\u001b[0m\u001b[0;34m\u001b[0m\u001b[0;34m\u001b[0m\u001b[0m\n",
            "\u001b[0;32m/usr/local/lib/python3.10/dist-packages/sklearn/utils/validation.py\u001b[0m in \u001b[0;36mcheck_array\u001b[0;34m(array, accept_sparse, accept_large_sparse, dtype, order, copy, force_all_finite, ensure_2d, allow_nd, ensure_min_samples, ensure_min_features, estimator, input_name)\u001b[0m\n\u001b[1;32m    877\u001b[0m                     \u001b[0marray\u001b[0m \u001b[0;34m=\u001b[0m \u001b[0mxp\u001b[0m\u001b[0;34m.\u001b[0m\u001b[0mastype\u001b[0m\u001b[0;34m(\u001b[0m\u001b[0marray\u001b[0m\u001b[0;34m,\u001b[0m \u001b[0mdtype\u001b[0m\u001b[0;34m,\u001b[0m \u001b[0mcopy\u001b[0m\u001b[0;34m=\u001b[0m\u001b[0;32mFalse\u001b[0m\u001b[0;34m)\u001b[0m\u001b[0;34m\u001b[0m\u001b[0;34m\u001b[0m\u001b[0m\n\u001b[1;32m    878\u001b[0m                 \u001b[0;32melse\u001b[0m\u001b[0;34m:\u001b[0m\u001b[0;34m\u001b[0m\u001b[0;34m\u001b[0m\u001b[0m\n\u001b[0;32m--> 879\u001b[0;31m                     \u001b[0marray\u001b[0m \u001b[0;34m=\u001b[0m \u001b[0m_asarray_with_order\u001b[0m\u001b[0;34m(\u001b[0m\u001b[0marray\u001b[0m\u001b[0;34m,\u001b[0m \u001b[0morder\u001b[0m\u001b[0;34m=\u001b[0m\u001b[0morder\u001b[0m\u001b[0;34m,\u001b[0m \u001b[0mdtype\u001b[0m\u001b[0;34m=\u001b[0m\u001b[0mdtype\u001b[0m\u001b[0;34m,\u001b[0m \u001b[0mxp\u001b[0m\u001b[0;34m=\u001b[0m\u001b[0mxp\u001b[0m\u001b[0;34m)\u001b[0m\u001b[0;34m\u001b[0m\u001b[0;34m\u001b[0m\u001b[0m\n\u001b[0m\u001b[1;32m    880\u001b[0m             \u001b[0;32mexcept\u001b[0m \u001b[0mComplexWarning\u001b[0m \u001b[0;32mas\u001b[0m \u001b[0mcomplex_warning\u001b[0m\u001b[0;34m:\u001b[0m\u001b[0;34m\u001b[0m\u001b[0;34m\u001b[0m\u001b[0m\n\u001b[1;32m    881\u001b[0m                 raise ValueError(\n",
            "\u001b[0;32m/usr/local/lib/python3.10/dist-packages/sklearn/utils/_array_api.py\u001b[0m in \u001b[0;36m_asarray_with_order\u001b[0;34m(array, dtype, order, copy, xp)\u001b[0m\n\u001b[1;32m    183\u001b[0m     \u001b[0;32mif\u001b[0m \u001b[0mxp\u001b[0m\u001b[0;34m.\u001b[0m\u001b[0m__name__\u001b[0m \u001b[0;32min\u001b[0m \u001b[0;34m{\u001b[0m\u001b[0;34m\"numpy\"\u001b[0m\u001b[0;34m,\u001b[0m \u001b[0;34m\"numpy.array_api\"\u001b[0m\u001b[0;34m}\u001b[0m\u001b[0;34m:\u001b[0m\u001b[0;34m\u001b[0m\u001b[0;34m\u001b[0m\u001b[0m\n\u001b[1;32m    184\u001b[0m         \u001b[0;31m# Use NumPy API to support order\u001b[0m\u001b[0;34m\u001b[0m\u001b[0;34m\u001b[0m\u001b[0m\n\u001b[0;32m--> 185\u001b[0;31m         \u001b[0marray\u001b[0m \u001b[0;34m=\u001b[0m \u001b[0mnumpy\u001b[0m\u001b[0;34m.\u001b[0m\u001b[0masarray\u001b[0m\u001b[0;34m(\u001b[0m\u001b[0marray\u001b[0m\u001b[0;34m,\u001b[0m \u001b[0morder\u001b[0m\u001b[0;34m=\u001b[0m\u001b[0morder\u001b[0m\u001b[0;34m,\u001b[0m \u001b[0mdtype\u001b[0m\u001b[0;34m=\u001b[0m\u001b[0mdtype\u001b[0m\u001b[0;34m)\u001b[0m\u001b[0;34m\u001b[0m\u001b[0;34m\u001b[0m\u001b[0m\n\u001b[0m\u001b[1;32m    186\u001b[0m         \u001b[0;32mreturn\u001b[0m \u001b[0mxp\u001b[0m\u001b[0;34m.\u001b[0m\u001b[0masarray\u001b[0m\u001b[0;34m(\u001b[0m\u001b[0marray\u001b[0m\u001b[0;34m,\u001b[0m \u001b[0mcopy\u001b[0m\u001b[0;34m=\u001b[0m\u001b[0mcopy\u001b[0m\u001b[0;34m)\u001b[0m\u001b[0;34m\u001b[0m\u001b[0;34m\u001b[0m\u001b[0m\n\u001b[1;32m    187\u001b[0m     \u001b[0;32melse\u001b[0m\u001b[0;34m:\u001b[0m\u001b[0;34m\u001b[0m\u001b[0;34m\u001b[0m\u001b[0m\n",
            "\u001b[0;32m/usr/local/lib/python3.10/dist-packages/pandas/core/generic.py\u001b[0m in \u001b[0;36m__array__\u001b[0;34m(self, dtype)\u001b[0m\n\u001b[1;32m   2068\u001b[0m \u001b[0;34m\u001b[0m\u001b[0m\n\u001b[1;32m   2069\u001b[0m     \u001b[0;32mdef\u001b[0m \u001b[0m__array__\u001b[0m\u001b[0;34m(\u001b[0m\u001b[0mself\u001b[0m\u001b[0;34m,\u001b[0m \u001b[0mdtype\u001b[0m\u001b[0;34m:\u001b[0m \u001b[0mnpt\u001b[0m\u001b[0;34m.\u001b[0m\u001b[0mDTypeLike\u001b[0m \u001b[0;34m|\u001b[0m \u001b[0;32mNone\u001b[0m \u001b[0;34m=\u001b[0m \u001b[0;32mNone\u001b[0m\u001b[0;34m)\u001b[0m \u001b[0;34m->\u001b[0m \u001b[0mnp\u001b[0m\u001b[0;34m.\u001b[0m\u001b[0mndarray\u001b[0m\u001b[0;34m:\u001b[0m\u001b[0;34m\u001b[0m\u001b[0;34m\u001b[0m\u001b[0m\n\u001b[0;32m-> 2070\u001b[0;31m         \u001b[0;32mreturn\u001b[0m \u001b[0mnp\u001b[0m\u001b[0;34m.\u001b[0m\u001b[0masarray\u001b[0m\u001b[0;34m(\u001b[0m\u001b[0mself\u001b[0m\u001b[0;34m.\u001b[0m\u001b[0m_values\u001b[0m\u001b[0;34m,\u001b[0m \u001b[0mdtype\u001b[0m\u001b[0;34m=\u001b[0m\u001b[0mdtype\u001b[0m\u001b[0;34m)\u001b[0m\u001b[0;34m\u001b[0m\u001b[0;34m\u001b[0m\u001b[0m\n\u001b[0m\u001b[1;32m   2071\u001b[0m \u001b[0;34m\u001b[0m\u001b[0m\n\u001b[1;32m   2072\u001b[0m     def __array_wrap__(\n",
            "\u001b[0;31mValueError\u001b[0m: could not convert string to float: 'Refinancing'"
          ]
        }
      ]
    },
    {
      "cell_type": "markdown",
      "source": [
        "SMOTE REQUIRES all the data to be in float, so would try SMOTE in future projects"
      ],
      "metadata": {
        "id": "tzCDPJ5_Uz4y"
      }
    },
    {
      "cell_type": "markdown",
      "source": [
        "ANOTHER method is using ensemble"
      ],
      "metadata": {
        "id": "I4QbI9xwU4i9"
      }
    }
  ]
}